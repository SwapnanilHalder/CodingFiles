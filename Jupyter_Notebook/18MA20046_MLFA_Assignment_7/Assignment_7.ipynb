{
 "cells": [
  {
   "cell_type": "markdown",
   "id": "96aa7121",
   "metadata": {},
   "source": [
    "Name: Swapnanil Halder"
   ]
  },
  {
   "cell_type": "markdown",
   "id": "00ae5f88",
   "metadata": {},
   "source": [
    "Roll No. : 18MA20046"
   ]
  },
  {
   "cell_type": "code",
   "execution_count": 1,
   "id": "56a9cca8",
   "metadata": {},
   "outputs": [],
   "source": [
    "import numpy as np\n",
    "import pandas as pd\n",
    "from sklearn.model_selection import train_test_split\n",
    "import matplotlib.pyplot as plt\n",
    "from sklearn.preprocessing import MinMaxScaler as scale"
   ]
  },
  {
   "cell_type": "markdown",
   "id": "afcec714",
   "metadata": {},
   "source": [
    "### Data Importion"
   ]
  },
  {
   "cell_type": "code",
   "execution_count": 2,
   "id": "618ce86d",
   "metadata": {
    "scrolled": true
   },
   "outputs": [
    {
     "data": {
      "text/html": [
       "<div>\n",
       "<style scoped>\n",
       "    .dataframe tbody tr th:only-of-type {\n",
       "        vertical-align: middle;\n",
       "    }\n",
       "\n",
       "    .dataframe tbody tr th {\n",
       "        vertical-align: top;\n",
       "    }\n",
       "\n",
       "    .dataframe thead th {\n",
       "        text-align: right;\n",
       "    }\n",
       "</style>\n",
       "<table border=\"1\" class=\"dataframe\">\n",
       "  <thead>\n",
       "    <tr style=\"text-align: right;\">\n",
       "      <th></th>\n",
       "      <th>age</th>\n",
       "      <th>sex</th>\n",
       "      <th>cp</th>\n",
       "      <th>trestbps</th>\n",
       "      <th>chol</th>\n",
       "      <th>fbs</th>\n",
       "      <th>restecg</th>\n",
       "      <th>thalach</th>\n",
       "      <th>exang</th>\n",
       "      <th>oldpeak</th>\n",
       "      <th>slope</th>\n",
       "      <th>ca</th>\n",
       "      <th>thal</th>\n",
       "      <th>num</th>\n",
       "    </tr>\n",
       "  </thead>\n",
       "  <tbody>\n",
       "    <tr>\n",
       "      <th>291</th>\n",
       "      <td>56</td>\n",
       "      <td>1</td>\n",
       "      <td>4</td>\n",
       "      <td>155</td>\n",
       "      <td>342</td>\n",
       "      <td>1</td>\n",
       "      <td>0</td>\n",
       "      <td>150</td>\n",
       "      <td>1</td>\n",
       "      <td>3.0</td>\n",
       "      <td>2</td>\n",
       "      <td>?</td>\n",
       "      <td>?</td>\n",
       "      <td>1</td>\n",
       "    </tr>\n",
       "    <tr>\n",
       "      <th>292</th>\n",
       "      <td>58</td>\n",
       "      <td>0</td>\n",
       "      <td>2</td>\n",
       "      <td>180</td>\n",
       "      <td>393</td>\n",
       "      <td>0</td>\n",
       "      <td>0</td>\n",
       "      <td>110</td>\n",
       "      <td>1</td>\n",
       "      <td>1.0</td>\n",
       "      <td>2</td>\n",
       "      <td>?</td>\n",
       "      <td>7</td>\n",
       "      <td>1</td>\n",
       "    </tr>\n",
       "    <tr>\n",
       "      <th>293</th>\n",
       "      <td>65</td>\n",
       "      <td>1</td>\n",
       "      <td>4</td>\n",
       "      <td>130</td>\n",
       "      <td>275</td>\n",
       "      <td>0</td>\n",
       "      <td>1</td>\n",
       "      <td>115</td>\n",
       "      <td>1</td>\n",
       "      <td>1.0</td>\n",
       "      <td>2</td>\n",
       "      <td>?</td>\n",
       "      <td>?</td>\n",
       "      <td>1</td>\n",
       "    </tr>\n",
       "  </tbody>\n",
       "</table>\n",
       "</div>"
      ],
      "text/plain": [
       "     age  sex  cp trestbps chol fbs restecg thalach exang  oldpeak slope ca  \\\n",
       "291   56    1   4      155  342   1       0     150     1      3.0     2  ?   \n",
       "292   58    0   2      180  393   0       0     110     1      1.0     2  ?   \n",
       "293   65    1   4      130  275   0       1     115     1      1.0     2  ?   \n",
       "\n",
       "    thal  num         \n",
       "291    ?           1  \n",
       "292    7           1  \n",
       "293    ?           1  "
      ]
     },
     "execution_count": 2,
     "metadata": {},
     "output_type": "execute_result"
    }
   ],
   "source": [
    "data = pd.read_csv(r\"./data.csv\", header=0)\n",
    "data.tail(3)"
   ]
  },
  {
   "cell_type": "code",
   "execution_count": 3,
   "id": "fea860f5",
   "metadata": {},
   "outputs": [
    {
     "data": {
      "text/html": [
       "<div>\n",
       "<style scoped>\n",
       "    .dataframe tbody tr th:only-of-type {\n",
       "        vertical-align: middle;\n",
       "    }\n",
       "\n",
       "    .dataframe tbody tr th {\n",
       "        vertical-align: top;\n",
       "    }\n",
       "\n",
       "    .dataframe thead th {\n",
       "        text-align: right;\n",
       "    }\n",
       "</style>\n",
       "<table border=\"1\" class=\"dataframe\">\n",
       "  <thead>\n",
       "    <tr style=\"text-align: right;\">\n",
       "      <th></th>\n",
       "      <th>age</th>\n",
       "      <th>sex</th>\n",
       "      <th>cp</th>\n",
       "      <th>trestbps</th>\n",
       "      <th>chol</th>\n",
       "      <th>fbs</th>\n",
       "      <th>restecg</th>\n",
       "      <th>thalach</th>\n",
       "      <th>exang</th>\n",
       "      <th>oldpeak</th>\n",
       "      <th>slope</th>\n",
       "      <th>ca</th>\n",
       "      <th>thal</th>\n",
       "      <th>num</th>\n",
       "    </tr>\n",
       "  </thead>\n",
       "  <tbody>\n",
       "    <tr>\n",
       "      <th>0</th>\n",
       "      <td>28</td>\n",
       "      <td>1</td>\n",
       "      <td>2</td>\n",
       "      <td>130</td>\n",
       "      <td>132</td>\n",
       "      <td>0</td>\n",
       "      <td>2</td>\n",
       "      <td>185</td>\n",
       "      <td>0</td>\n",
       "      <td>0.0</td>\n",
       "      <td>?</td>\n",
       "      <td>?</td>\n",
       "      <td>?</td>\n",
       "      <td>0</td>\n",
       "    </tr>\n",
       "    <tr>\n",
       "      <th>1</th>\n",
       "      <td>29</td>\n",
       "      <td>1</td>\n",
       "      <td>2</td>\n",
       "      <td>120</td>\n",
       "      <td>243</td>\n",
       "      <td>0</td>\n",
       "      <td>0</td>\n",
       "      <td>160</td>\n",
       "      <td>0</td>\n",
       "      <td>0.0</td>\n",
       "      <td>?</td>\n",
       "      <td>?</td>\n",
       "      <td>?</td>\n",
       "      <td>0</td>\n",
       "    </tr>\n",
       "    <tr>\n",
       "      <th>2</th>\n",
       "      <td>29</td>\n",
       "      <td>1</td>\n",
       "      <td>2</td>\n",
       "      <td>140</td>\n",
       "      <td>?</td>\n",
       "      <td>0</td>\n",
       "      <td>0</td>\n",
       "      <td>170</td>\n",
       "      <td>0</td>\n",
       "      <td>0.0</td>\n",
       "      <td>?</td>\n",
       "      <td>?</td>\n",
       "      <td>?</td>\n",
       "      <td>0</td>\n",
       "    </tr>\n",
       "  </tbody>\n",
       "</table>\n",
       "</div>"
      ],
      "text/plain": [
       "   age  sex  cp trestbps chol fbs restecg thalach exang  oldpeak slope ca  \\\n",
       "0   28    1   2      130  132   0       2     185     0      0.0     ?  ?   \n",
       "1   29    1   2      120  243   0       0     160     0      0.0     ?  ?   \n",
       "2   29    1   2      140    ?   0       0     170     0      0.0     ?  ?   \n",
       "\n",
       "  thal  num         \n",
       "0    ?           0  \n",
       "1    ?           0  \n",
       "2    ?           0  "
      ]
     },
     "execution_count": 3,
     "metadata": {},
     "output_type": "execute_result"
    }
   ],
   "source": [
    "data.head(3)"
   ]
  },
  {
   "cell_type": "code",
   "execution_count": 4,
   "id": "67efcd7b",
   "metadata": {},
   "outputs": [],
   "source": [
    "data.drop(labels=['slope', 'ca', 'thal'], axis=1, inplace=True)"
   ]
  },
  {
   "cell_type": "code",
   "execution_count": 5,
   "id": "2e54081b",
   "metadata": {},
   "outputs": [
    {
     "data": {
      "text/html": [
       "<div>\n",
       "<style scoped>\n",
       "    .dataframe tbody tr th:only-of-type {\n",
       "        vertical-align: middle;\n",
       "    }\n",
       "\n",
       "    .dataframe tbody tr th {\n",
       "        vertical-align: top;\n",
       "    }\n",
       "\n",
       "    .dataframe thead th {\n",
       "        text-align: right;\n",
       "    }\n",
       "</style>\n",
       "<table border=\"1\" class=\"dataframe\">\n",
       "  <thead>\n",
       "    <tr style=\"text-align: right;\">\n",
       "      <th></th>\n",
       "      <th>age</th>\n",
       "      <th>sex</th>\n",
       "      <th>cp</th>\n",
       "      <th>trestbps</th>\n",
       "      <th>chol</th>\n",
       "      <th>fbs</th>\n",
       "      <th>restecg</th>\n",
       "      <th>thalach</th>\n",
       "      <th>exang</th>\n",
       "      <th>oldpeak</th>\n",
       "      <th>num</th>\n",
       "    </tr>\n",
       "  </thead>\n",
       "  <tbody>\n",
       "    <tr>\n",
       "      <th>0</th>\n",
       "      <td>28</td>\n",
       "      <td>1</td>\n",
       "      <td>2</td>\n",
       "      <td>130</td>\n",
       "      <td>132</td>\n",
       "      <td>0</td>\n",
       "      <td>2</td>\n",
       "      <td>185</td>\n",
       "      <td>0</td>\n",
       "      <td>0.0</td>\n",
       "      <td>0</td>\n",
       "    </tr>\n",
       "    <tr>\n",
       "      <th>1</th>\n",
       "      <td>29</td>\n",
       "      <td>1</td>\n",
       "      <td>2</td>\n",
       "      <td>120</td>\n",
       "      <td>243</td>\n",
       "      <td>0</td>\n",
       "      <td>0</td>\n",
       "      <td>160</td>\n",
       "      <td>0</td>\n",
       "      <td>0.0</td>\n",
       "      <td>0</td>\n",
       "    </tr>\n",
       "    <tr>\n",
       "      <th>2</th>\n",
       "      <td>29</td>\n",
       "      <td>1</td>\n",
       "      <td>2</td>\n",
       "      <td>140</td>\n",
       "      <td>?</td>\n",
       "      <td>0</td>\n",
       "      <td>0</td>\n",
       "      <td>170</td>\n",
       "      <td>0</td>\n",
       "      <td>0.0</td>\n",
       "      <td>0</td>\n",
       "    </tr>\n",
       "  </tbody>\n",
       "</table>\n",
       "</div>"
      ],
      "text/plain": [
       "   age  sex  cp trestbps chol fbs restecg thalach exang  oldpeak  num       \n",
       "0   28    1   2      130  132   0       2     185     0      0.0           0\n",
       "1   29    1   2      120  243   0       0     160     0      0.0           0\n",
       "2   29    1   2      140    ?   0       0     170     0      0.0           0"
      ]
     },
     "execution_count": 5,
     "metadata": {},
     "output_type": "execute_result"
    }
   ],
   "source": [
    "data.head(3)"
   ]
  },
  {
   "cell_type": "code",
   "execution_count": 6,
   "id": "29f190ac",
   "metadata": {},
   "outputs": [],
   "source": [
    "## To drop rows containing missing values\n",
    "data.replace('?', np.nan, inplace=True)\n",
    "data.dropna(axis=0, how='any', inplace=True)\n",
    "data.reset_index(drop=True, inplace=True)"
   ]
  },
  {
   "cell_type": "code",
   "execution_count": 7,
   "id": "082a5fc4",
   "metadata": {},
   "outputs": [
    {
     "name": "stdout",
     "output_type": "stream",
     "text": [
      "(261, 11)\n"
     ]
    },
    {
     "data": {
      "text/html": [
       "<div>\n",
       "<style scoped>\n",
       "    .dataframe tbody tr th:only-of-type {\n",
       "        vertical-align: middle;\n",
       "    }\n",
       "\n",
       "    .dataframe tbody tr th {\n",
       "        vertical-align: top;\n",
       "    }\n",
       "\n",
       "    .dataframe thead th {\n",
       "        text-align: right;\n",
       "    }\n",
       "</style>\n",
       "<table border=\"1\" class=\"dataframe\">\n",
       "  <thead>\n",
       "    <tr style=\"text-align: right;\">\n",
       "      <th></th>\n",
       "      <th>age</th>\n",
       "      <th>sex</th>\n",
       "      <th>cp</th>\n",
       "      <th>trestbps</th>\n",
       "      <th>chol</th>\n",
       "      <th>fbs</th>\n",
       "      <th>restecg</th>\n",
       "      <th>thalach</th>\n",
       "      <th>exang</th>\n",
       "      <th>oldpeak</th>\n",
       "      <th>num</th>\n",
       "    </tr>\n",
       "  </thead>\n",
       "  <tbody>\n",
       "    <tr>\n",
       "      <th>0</th>\n",
       "      <td>28</td>\n",
       "      <td>1</td>\n",
       "      <td>2</td>\n",
       "      <td>130</td>\n",
       "      <td>132</td>\n",
       "      <td>0</td>\n",
       "      <td>2</td>\n",
       "      <td>185</td>\n",
       "      <td>0</td>\n",
       "      <td>0.0</td>\n",
       "      <td>0</td>\n",
       "    </tr>\n",
       "    <tr>\n",
       "      <th>1</th>\n",
       "      <td>29</td>\n",
       "      <td>1</td>\n",
       "      <td>2</td>\n",
       "      <td>120</td>\n",
       "      <td>243</td>\n",
       "      <td>0</td>\n",
       "      <td>0</td>\n",
       "      <td>160</td>\n",
       "      <td>0</td>\n",
       "      <td>0.0</td>\n",
       "      <td>0</td>\n",
       "    </tr>\n",
       "    <tr>\n",
       "      <th>2</th>\n",
       "      <td>30</td>\n",
       "      <td>0</td>\n",
       "      <td>1</td>\n",
       "      <td>170</td>\n",
       "      <td>237</td>\n",
       "      <td>0</td>\n",
       "      <td>1</td>\n",
       "      <td>170</td>\n",
       "      <td>0</td>\n",
       "      <td>0.0</td>\n",
       "      <td>0</td>\n",
       "    </tr>\n",
       "  </tbody>\n",
       "</table>\n",
       "</div>"
      ],
      "text/plain": [
       "   age  sex  cp trestbps chol fbs restecg thalach exang  oldpeak  num       \n",
       "0   28    1   2      130  132   0       2     185     0      0.0           0\n",
       "1   29    1   2      120  243   0       0     160     0      0.0           0\n",
       "2   30    0   1      170  237   0       1     170     0      0.0           0"
      ]
     },
     "execution_count": 7,
     "metadata": {},
     "output_type": "execute_result"
    }
   ],
   "source": [
    "print(data.shape)\n",
    "data.head(3)"
   ]
  },
  {
   "cell_type": "code",
   "execution_count": null,
   "id": "d9bd71bb",
   "metadata": {},
   "outputs": [],
   "source": []
  },
  {
   "cell_type": "code",
   "execution_count": 8,
   "id": "be7a1a68",
   "metadata": {
    "scrolled": false
   },
   "outputs": [
    {
     "name": "stdout",
     "output_type": "stream",
     "text": [
      "Index(['age', 'sex', 'cp', 'trestbps', 'chol', 'fbs', 'restecg', 'thalach',\n",
      "       'exang', 'oldpeak', 'num       '],\n",
      "      dtype='object')\n"
     ]
    }
   ],
   "source": [
    "print(data.columns)"
   ]
  },
  {
   "cell_type": "code",
   "execution_count": 9,
   "id": "f06250dd",
   "metadata": {},
   "outputs": [],
   "source": [
    "data_X, data_Y = data.loc[:, ~data.columns.isin(['num       '])], data.loc[:, ['num       ']]\n",
    "X, Y = data_X.to_numpy(), data_Y.to_numpy().reshape(-1)\n",
    "X[:,:] = scale().fit_transform(X[:,:])"
   ]
  },
  {
   "cell_type": "code",
   "execution_count": 10,
   "id": "035f9d20",
   "metadata": {},
   "outputs": [
    {
     "data": {
      "text/plain": [
       "array([0, 0, 0, 0, 0, 0, 0, 0, 0, 0, 0, 0, 0, 0, 0, 0, 0, 0, 0, 0, 0, 0,\n",
       "       0, 0, 0, 0, 0, 0, 0, 0, 0, 0, 0, 0, 0, 0, 0, 0, 0, 0, 0, 0, 0, 0,\n",
       "       0, 0, 0, 0, 0, 0, 0, 0, 0, 0, 0, 0, 0, 0, 0, 0, 0, 0, 0, 0, 0, 0,\n",
       "       0, 0, 0, 0, 0, 0, 0, 0, 0, 0, 0, 0, 0, 0, 0, 0, 0, 0, 0, 0, 0, 0,\n",
       "       0, 0, 0, 0, 0, 0, 0, 0, 0, 0, 0, 0, 0, 0, 0, 0, 0, 0, 0, 0, 0, 0,\n",
       "       0, 0, 0, 0, 0, 0, 0, 0, 0, 0, 0, 0, 0, 0, 0, 0, 0, 0, 0, 0, 0, 0,\n",
       "       0, 0, 0, 0, 0, 0, 0, 0, 0, 0, 0, 0, 0, 0, 0, 0, 0, 0, 0, 0, 0, 0,\n",
       "       0, 0, 0, 0, 0, 0, 0, 0, 0, 1, 1, 1, 1, 1, 1, 1, 1, 1, 1, 1, 1, 1,\n",
       "       1, 1, 1, 1, 1, 1, 1, 1, 1, 1, 1, 1, 1, 1, 1, 1, 1, 1, 1, 1, 1, 1,\n",
       "       1, 1, 1, 1, 1, 1, 1, 1, 1, 1, 1, 1, 1, 1, 1, 1, 1, 1, 1, 1, 1, 1,\n",
       "       1, 1, 1, 1, 1, 1, 1, 1, 1, 1, 1, 1, 1, 1, 1, 1, 1, 1, 1, 1, 1, 1,\n",
       "       1, 1, 1, 1, 1, 1, 1, 1, 1, 1, 1, 1, 1, 1, 1, 1, 1, 1, 1])"
      ]
     },
     "execution_count": 10,
     "metadata": {},
     "output_type": "execute_result"
    }
   ],
   "source": [
    "Y[:]"
   ]
  },
  {
   "cell_type": "markdown",
   "id": "e2c0513e",
   "metadata": {},
   "source": [
    "## Linear Regression"
   ]
  },
  {
   "cell_type": "code",
   "execution_count": 11,
   "id": "0fa0fcd9",
   "metadata": {},
   "outputs": [],
   "source": [
    "class LinearRegression() :\n",
    "    \n",
    "    def __init__( self, learning_rate, iterations ) :\n",
    "        self.learning_rate = learning_rate\n",
    "        self.iterations = iterations\n",
    "\n",
    "        \n",
    "    # Function for model training\n",
    "    def fit( self, X, Y ) :\n",
    "\n",
    "        # no_of_training_examples, no_of_features\n",
    "        self.m, self.n = X.shape\n",
    "\n",
    "        # weight initialization\n",
    "\n",
    "        self.W = np.zeros( self.n )\n",
    "        self.b = 0\n",
    "\n",
    "        self.X = X\n",
    "        self.Y = Y\n",
    "\n",
    "        # gradient descent learning\n",
    "        for i in range( self.iterations ) :\n",
    "            self.update_weights()\n",
    "\n",
    "        return self\n",
    "\n",
    "    \n",
    "    # Helper function to update weights in gradient descent\n",
    "    def update_weights( self ) :\n",
    "\n",
    "        Y_pred = self.predict( self.X )\n",
    "\n",
    "        # calculate gradients\n",
    "        dW =  -( 2 * ( self.X.T ).dot( self.Y - Y_pred ) )\n",
    "        db =  -2 * np.sum( self.Y - Y_pred )\n",
    "\n",
    "        # update weights\n",
    "        self.W = self.W - self.learning_rate * dW\n",
    "        self.b = self.b - self.learning_rate * db\n",
    "\n",
    "        return self\n",
    "\n",
    "\n",
    "    def predict( self, X ) :\n",
    "        return X.dot( self.W ) + self.b\n",
    "    \n",
    "    \n",
    "    # Mean square error for testing data\n",
    "    def mse( self, test, pred ):\n",
    "        temp = test - pred\n",
    "        return np.dot(temp, temp.T) / len(test)\n",
    "    \n",
    "    \n",
    "    # Calculating accuracy with given treshold\n",
    "    def accuracyy( self, test, pred, treshold):\n",
    "        \n",
    "        yy = []\n",
    "        for i in pred:\n",
    "            yy.append(1 if i>=treshold else 0)\n",
    "            \n",
    "        count = 0\n",
    "        for i in range(len(yy)):\n",
    "            if yy[i] == test[i]:\n",
    "                count += 1\n",
    "                \n",
    "        return (count*1.0) / (len(yy))\n"
   ]
  },
  {
   "cell_type": "code",
   "execution_count": 12,
   "id": "ed2b56f4",
   "metadata": {},
   "outputs": [
    {
     "data": {
      "text/plain": [
       "<__main__.LinearRegression at 0x7fe831d9fb90>"
      ]
     },
     "execution_count": 12,
     "metadata": {},
     "output_type": "execute_result"
    }
   ],
   "source": [
    "\n",
    "# Splitting dataset into train and test set\n",
    "X_train, X_test, Y_train, Y_test = train_test_split( X, Y, test_size = 1/3, random_state = 0 )\n",
    "\n",
    "\n",
    "# Model training\n",
    "model = LinearRegression( iterations = 1000, learning_rate = 0.001 )\n",
    "model.fit( X_train, Y_train )"
   ]
  },
  {
   "cell_type": "code",
   "execution_count": null,
   "id": "1c587b2e",
   "metadata": {},
   "outputs": [],
   "source": []
  },
  {
   "cell_type": "code",
   "execution_count": 13,
   "id": "c266d96c",
   "metadata": {},
   "outputs": [
    {
     "data": {
      "text/plain": [
       "array([0.17736460543539645, -0.03783453348329134, 0.9047983788358998,\n",
       "       0.08464377899895091, 0.9207529500001439], dtype=object)"
      ]
     },
     "execution_count": 13,
     "metadata": {},
     "output_type": "execute_result"
    }
   ],
   "source": [
    "# Prediction on test set\n",
    "Y_pred = model.predict( X_test )\n",
    "Y_pred[:5]"
   ]
  },
  {
   "cell_type": "code",
   "execution_count": 14,
   "id": "f0d9c1c0",
   "metadata": {},
   "outputs": [
    {
     "data": {
      "text/plain": [
       "array([1, 0, 1, 0, 1])"
      ]
     },
     "execution_count": 14,
     "metadata": {},
     "output_type": "execute_result"
    }
   ],
   "source": [
    "Y_test[:5]"
   ]
  },
  {
   "cell_type": "code",
   "execution_count": 15,
   "id": "df4c6a8c",
   "metadata": {
    "scrolled": true
   },
   "outputs": [
    {
     "name": "stdout",
     "output_type": "stream",
     "text": [
      "Mean square error using Linear regression model :  0.12164722625804501\n"
     ]
    }
   ],
   "source": [
    "print(\"Mean square error using Linear regression model : \", model.mse(Y_test, Y_pred))"
   ]
  },
  {
   "cell_type": "markdown",
   "id": "2a3d4fa0",
   "metadata": {},
   "source": [
    "Here We have predicted the values for test data but we need to classify them as 0 or 1 so, we use a treshold of 0.5.                                              \n",
    "If the vlaue is greater than 0.5 then we make it 1 else 0"
   ]
  },
  {
   "cell_type": "code",
   "execution_count": 16,
   "id": "784156e6",
   "metadata": {
    "scrolled": false
   },
   "outputs": [
    {
     "name": "stdout",
     "output_type": "stream",
     "text": [
      "Accuracy of Linear Regression is :  86.21 %\n"
     ]
    }
   ],
   "source": [
    "print(\"Accuracy of Linear Regression is : \", np.round(model.accuracyy(Y_test , Y_pred, 0.5)*100, 2), \"%\")"
   ]
  },
  {
   "cell_type": "code",
   "execution_count": null,
   "id": "11c7517e",
   "metadata": {},
   "outputs": [],
   "source": []
  },
  {
   "cell_type": "markdown",
   "id": "793e065a",
   "metadata": {},
   "source": [
    "***"
   ]
  },
  {
   "cell_type": "markdown",
   "id": "51ac28ab",
   "metadata": {},
   "source": [
    "## Ridge Regression"
   ]
  },
  {
   "cell_type": "code",
   "execution_count": 17,
   "id": "00c237e0",
   "metadata": {},
   "outputs": [],
   "source": [
    "class RidgeRegression() :\n",
    "\n",
    "    def __init__( self, learning_rate, iterations, l2_penality ) :\n",
    "\n",
    "        self.learning_rate = learning_rate\n",
    "        self.iterations = iterations\n",
    "        self.l2_penality = l2_penality\n",
    "\n",
    "    # Function for model training\n",
    "    def fit( self, X, Y ) :\n",
    "\n",
    "        # no_of_training_examples, no_of_features\n",
    "        self.m, self.n = X.shape\n",
    "\n",
    "        # weight initialization\n",
    "        self.W = np.zeros( self.n )\n",
    "        self.b = 0\n",
    "        \n",
    "        self.X = X\n",
    "        self.Y = Y\n",
    "\n",
    "        # gradient descent learning\n",
    "        for i in range( self.iterations ) :\n",
    "            self.update_weights()\n",
    "        return self\n",
    "\n",
    "    \n",
    "\n",
    "    def update_weights( self ) :\n",
    "        Y_pred = self.predict( self.X )\n",
    "\n",
    "        # calculate gradients\n",
    "        dW = ( - ( 2 * ( self.X.T ).dot( self.Y - Y_pred ) ) + ( 2 * self.l2_penality * self.W ) ) \n",
    "        db = - 2 * np.sum( self.Y - Y_pred ) \n",
    "\n",
    "        # update weights\n",
    "        self.W = self.W - self.learning_rate * dW\n",
    "        self.b = self.b - self.learning_rate * db\n",
    "        return self\n",
    "\n",
    "\n",
    "    def predict( self, X ) :\n",
    "        return X.dot( self.W ) + self.b\n",
    "    \n",
    "    \n",
    "    # Mean square error for testing data\n",
    "    def mse( self, test, pred ):\n",
    "        temp = test - pred\n",
    "        return np.dot(temp, temp.T) / len(test)\n",
    "\n",
    "    \n",
    "    # Calculating accuracy with given treshold\n",
    "    def accuracyy( self, test, pred, treshold):\n",
    "        \n",
    "        yy = []\n",
    "        for i in pred:\n",
    "            yy.append(1 if i>=treshold else 0)\n",
    "            \n",
    "        count = 0\n",
    "        for i in range(len(yy)):\n",
    "            if yy[i] == test[i]:\n",
    "                count += 1\n",
    "                \n",
    "        return (count*1.0) / (len(yy))"
   ]
  },
  {
   "cell_type": "code",
   "execution_count": 18,
   "id": "2d02877d",
   "metadata": {},
   "outputs": [],
   "source": [
    "def find_lambda_Ridge( X, Y ):\n",
    "    \n",
    "    # Splitting dataset into train and test set\n",
    "    X_train, X_test, Y_train, Y_test = train_test_split( X, Y, test_size = 1 / 3, random_state = 0 )\n",
    "\n",
    "    max_accu = 0\n",
    "    min_lambda = 1\n",
    "    \n",
    "    for lambdaa in range(100):\n",
    "        # Model training\n",
    "        model = RidgeRegression( iterations = 1000, learning_rate = 0.001, l2_penality = lambdaa )\n",
    "        model.fit( X_train, Y_train )\n",
    "    \n",
    "        Y_pred = model.predict( X_test )\n",
    "\n",
    "        temp = model.accuracyy( Y_test, Y_pred, 0.5 )\n",
    "\n",
    "        if temp > max_accu:\n",
    "            min_lambda = lambdaa\n",
    "            max_accu = temp\n",
    "        \n",
    "    return min_lambda"
   ]
  },
  {
   "cell_type": "code",
   "execution_count": 19,
   "id": "54ed6db2",
   "metadata": {},
   "outputs": [
    {
     "data": {
      "text/plain": [
       "0"
      ]
     },
     "execution_count": 19,
     "metadata": {},
     "output_type": "execute_result"
    }
   ],
   "source": [
    "## Now we calculate for which lambda the accuracy is highest for Ridge regression\n",
    "\n",
    "min_lam = find_lambda_Ridge( X, Y )\n",
    "min_lam "
   ]
  },
  {
   "cell_type": "code",
   "execution_count": null,
   "id": "28468f41",
   "metadata": {},
   "outputs": [],
   "source": []
  },
  {
   "cell_type": "code",
   "execution_count": 20,
   "id": "d1e919b1",
   "metadata": {},
   "outputs": [
    {
     "data": {
      "text/plain": [
       "<__main__.RidgeRegression at 0x7fe852bf1350>"
      ]
     },
     "execution_count": 20,
     "metadata": {},
     "output_type": "execute_result"
    }
   ],
   "source": [
    "# Splitting dataset into train and test set\n",
    "X_train, X_test, Y_train, Y_test = train_test_split( X, Y, test_size = 1 / 3, random_state = 0 )\n",
    "\n",
    "# Model training\n",
    "model = RidgeRegression( iterations = 1000, learning_rate = 0.001, l2_penality = min_lam )\n",
    "model.fit( X_train, Y_train )"
   ]
  },
  {
   "cell_type": "code",
   "execution_count": null,
   "id": "f1520770",
   "metadata": {},
   "outputs": [],
   "source": []
  },
  {
   "cell_type": "code",
   "execution_count": 21,
   "id": "2320a6e0",
   "metadata": {},
   "outputs": [
    {
     "data": {
      "text/plain": [
       "array([0.17736460543539645, -0.03783453348329134, 0.9047983788358998,\n",
       "       0.08464377899895091, 0.9207529500001439], dtype=object)"
      ]
     },
     "execution_count": 21,
     "metadata": {},
     "output_type": "execute_result"
    }
   ],
   "source": [
    "Y_pred = model.predict( X_test )\n",
    "Y_pred[:5]"
   ]
  },
  {
   "cell_type": "code",
   "execution_count": 22,
   "id": "01403cf9",
   "metadata": {
    "scrolled": false
   },
   "outputs": [
    {
     "data": {
      "text/plain": [
       "array([1, 0, 1, 0, 1])"
      ]
     },
     "execution_count": 22,
     "metadata": {},
     "output_type": "execute_result"
    }
   ],
   "source": [
    "Y_test[:5]"
   ]
  },
  {
   "cell_type": "code",
   "execution_count": 23,
   "id": "4dd34ae5",
   "metadata": {
    "scrolled": true
   },
   "outputs": [
    {
     "name": "stdout",
     "output_type": "stream",
     "text": [
      "Mean square error using Ridge regression model :  0.12164722625804501\n"
     ]
    }
   ],
   "source": [
    "print(\"Mean square error using Ridge regression model : \", model.mse( Y_test, Y_pred ))"
   ]
  },
  {
   "cell_type": "code",
   "execution_count": 24,
   "id": "6494c4af",
   "metadata": {
    "scrolled": false
   },
   "outputs": [
    {
     "name": "stdout",
     "output_type": "stream",
     "text": [
      "Accuracy of Ridge Regression is :  86.21 %\n"
     ]
    }
   ],
   "source": [
    "print(\"Accuracy of Ridge Regression is : \", np.round(model.accuracyy(Y_test , Y_pred, 0.5)*100, 2), \"%\")"
   ]
  },
  {
   "cell_type": "markdown",
   "id": "1ca184a6",
   "metadata": {},
   "source": [
    "*****************************************************************"
   ]
  },
  {
   "cell_type": "markdown",
   "id": "caae0059",
   "metadata": {},
   "source": [
    "## Lasso Regression "
   ]
  },
  {
   "cell_type": "code",
   "execution_count": 25,
   "id": "f7c7e75b",
   "metadata": {},
   "outputs": [],
   "source": [
    "class LassoRegression() :\n",
    "\n",
    "    def __init__( self, learning_rate, iterations, l1_penality ) :\n",
    "\n",
    "        self.learning_rate = learning_rate\n",
    "        self.iterations = iterations\n",
    "        self.l1_penality = l1_penality\n",
    "\n",
    "    # Function for model training\n",
    "    def fit( self, X, Y ) :\n",
    "\n",
    "        # no_of_training_examples, no_of_features\n",
    "        self.m, self.n = X.shape\n",
    "\n",
    "        # weight initialization\n",
    "        self.W = np.zeros( self.n )\n",
    "        self.b = 0\n",
    "        \n",
    "        self.X = X\n",
    "        self.Y = Y\n",
    "\n",
    "        # gradient descent learning\n",
    "\n",
    "        for i in range( self.iterations ) :\n",
    "            self.update_weights()\n",
    "        return self\n",
    "\n",
    "    # Helper function to update weights in gradient descent\n",
    "\n",
    "    def update_weights( self ) :\n",
    "        Y_pred = self.predict( self.X )\n",
    "\n",
    "        # calculate gradients\n",
    "        sign = []\n",
    "        for val in self.W:\n",
    "            sign.append(1 if val > 0 else -1)\n",
    "        sign = np.array(sign)\n",
    "        \n",
    "        dW = ( - ( 2 * ( self.X.T ).dot( self.Y - Y_pred ) ) + ( self.l1_penality * sign ) ) \n",
    "        db = - 2 * np.sum( self.Y - Y_pred ) \n",
    "\n",
    "        # update weights\n",
    "        self.W = self.W - self.learning_rate * dW\n",
    "        self.b = self.b - self.learning_rate * db\n",
    "        return self\n",
    "\n",
    "    # Hypothetical function h( x )c\n",
    "    def predict( self, X ) :\n",
    "        return X.dot( self.W ) + self.b\n",
    "    \n",
    "    \n",
    "    # Mean square error for testing data\n",
    "    def mse( self, test, pred ):\n",
    "        temp = test - pred\n",
    "        return np.dot(temp, temp.T) / len(test)\n",
    "    \n",
    "    # Calculating accuracy with given treshold\n",
    "    def accuracyy( self, test, pred, treshold):\n",
    "        \n",
    "        yy = []\n",
    "        for i in pred:\n",
    "            yy.append(1 if i>=treshold else 0)\n",
    "            \n",
    "        count = 0\n",
    "        for i in range(len(yy)):\n",
    "            if yy[i] == test[i]:\n",
    "                count += 1\n",
    "                \n",
    "        return (count*1.0) / (len(yy))"
   ]
  },
  {
   "cell_type": "code",
   "execution_count": 26,
   "id": "e9eae294",
   "metadata": {},
   "outputs": [],
   "source": [
    "def find_lambda_Lasso( X, Y ):\n",
    "    \n",
    "    # Splitting dataset into train and test set\n",
    "    X_train, X_test, Y_train, Y_test = train_test_split( X, Y, test_size = 1 / 3, random_state = 0 )\n",
    "\n",
    "    max_accu = 0\n",
    "    min_lambda = 1\n",
    "    \n",
    "    for lambdaa in range(100):\n",
    "        # Model training\n",
    "        model = LassoRegression( iterations = 1000, learning_rate = 0.001, l1_penality = lambdaa )\n",
    "        model.fit( X_train, Y_train )\n",
    "    \n",
    "        Y_pred = model.predict( X_test )\n",
    "        \n",
    "        temp = model.accuracyy( Y_test, Y_pred, 0.5 )\n",
    "\n",
    "        if temp > max_accu:\n",
    "            min_lambda = lambdaa\n",
    "            max_accu = temp\n",
    "    \n",
    "        \n",
    "    return min_lambda"
   ]
  },
  {
   "cell_type": "code",
   "execution_count": 27,
   "id": "a464f3d1",
   "metadata": {},
   "outputs": [
    {
     "data": {
      "text/plain": [
       "0"
      ]
     },
     "execution_count": 27,
     "metadata": {},
     "output_type": "execute_result"
    }
   ],
   "source": [
    "## Now we calculate for which lambda the accuracy is highest for Lasso regression\n",
    "\n",
    "min_lam = find_lambda_Lasso(X, Y)\n",
    "min_lam"
   ]
  },
  {
   "cell_type": "code",
   "execution_count": null,
   "id": "f0a77482",
   "metadata": {},
   "outputs": [],
   "source": []
  },
  {
   "cell_type": "code",
   "execution_count": 28,
   "id": "41fc37d9",
   "metadata": {},
   "outputs": [
    {
     "data": {
      "text/plain": [
       "<__main__.LassoRegression at 0x7fe8506b3a50>"
      ]
     },
     "execution_count": 28,
     "metadata": {},
     "output_type": "execute_result"
    }
   ],
   "source": [
    "# Splitting dataset into train and test set\n",
    "X_train, X_test, Y_train, Y_test = train_test_split( X, Y, test_size = 1 / 3, random_state = 0 )\n",
    "\n",
    "# Model training\n",
    "model = LassoRegression( iterations = 1000, learning_rate = 0.001, l1_penality = min_lam )\n",
    "model.fit( X_train, Y_train )"
   ]
  },
  {
   "cell_type": "code",
   "execution_count": null,
   "id": "420585f6",
   "metadata": {},
   "outputs": [],
   "source": []
  },
  {
   "cell_type": "code",
   "execution_count": 29,
   "id": "f47b35b3",
   "metadata": {
    "scrolled": true
   },
   "outputs": [
    {
     "data": {
      "text/plain": [
       "array([0.17736460543539645, -0.03783453348329134, 0.9047983788358998,\n",
       "       0.08464377899895091, 0.9207529500001439], dtype=object)"
      ]
     },
     "execution_count": 29,
     "metadata": {},
     "output_type": "execute_result"
    }
   ],
   "source": [
    "Y_pred = model.predict( X_test )\n",
    "Y_pred[:5]"
   ]
  },
  {
   "cell_type": "code",
   "execution_count": 30,
   "id": "9370cb3d",
   "metadata": {},
   "outputs": [
    {
     "data": {
      "text/plain": [
       "array([1, 0, 1, 0, 1])"
      ]
     },
     "execution_count": 30,
     "metadata": {},
     "output_type": "execute_result"
    }
   ],
   "source": [
    "Y_test[:5]"
   ]
  },
  {
   "cell_type": "code",
   "execution_count": 31,
   "id": "102b6c01",
   "metadata": {},
   "outputs": [
    {
     "name": "stdout",
     "output_type": "stream",
     "text": [
      "Mean square error using Lasso regression model :  0.12164722625804501\n"
     ]
    }
   ],
   "source": [
    "print(\"Mean square error using Lasso regression model : \", model.mse( Y_test, Y_pred ))"
   ]
  },
  {
   "cell_type": "code",
   "execution_count": 32,
   "id": "9763cf55",
   "metadata": {},
   "outputs": [
    {
     "name": "stdout",
     "output_type": "stream",
     "text": [
      "Accuracy of Lasso Regression is :  86.21 %\n"
     ]
    }
   ],
   "source": [
    "print(\"Accuracy of Lasso Regression is : \", np.round(model.accuracyy(Y_test , Y_pred, 0.5)*100, 2), \"%\")"
   ]
  },
  {
   "cell_type": "code",
   "execution_count": null,
   "id": "84e2face",
   "metadata": {},
   "outputs": [],
   "source": []
  },
  {
   "cell_type": "markdown",
   "id": "f03d6e03",
   "metadata": {},
   "source": [
    "*****************************************************************"
   ]
  },
  {
   "cell_type": "markdown",
   "id": "e5677145",
   "metadata": {},
   "source": [
    "## Using Simplest Model (Rough Model)"
   ]
  },
  {
   "cell_type": "code",
   "execution_count": 33,
   "id": "735bb187",
   "metadata": {},
   "outputs": [],
   "source": [
    "def mse( test, pred ):\n",
    "        temp = test - pred\n",
    "        return np.dot(temp, temp.T) / len(test)\n",
    "    "
   ]
  },
  {
   "cell_type": "code",
   "execution_count": 34,
   "id": "1720f66d",
   "metadata": {},
   "outputs": [],
   "source": [
    "def accuracyy( test, pred, treshold ):\n",
    "        \n",
    "        yy = []\n",
    "        for i in pred:\n",
    "            yy.append(1 if i>=treshold else 0)\n",
    "            \n",
    "        count = 0\n",
    "        for i in range(len(yy)):\n",
    "            if yy[i] == test[i]:\n",
    "                count += 1\n",
    "                \n",
    "        return (count*1.0) / (len(yy))"
   ]
  },
  {
   "cell_type": "code",
   "execution_count": 35,
   "id": "5df742b7",
   "metadata": {
    "scrolled": true
   },
   "outputs": [
    {
     "data": {
      "text/plain": [
       "0.3850574712643678"
      ]
     },
     "execution_count": 35,
     "metadata": {},
     "output_type": "execute_result"
    }
   ],
   "source": [
    "np.mean(Y_train)  "
   ]
  },
  {
   "cell_type": "code",
   "execution_count": 36,
   "id": "a3c94fcb",
   "metadata": {},
   "outputs": [],
   "source": [
    "## this simplest model always gives mean of Y_train for every X_test \n",
    "    \n",
    "pred_val = np.mean(Y_train) \n",
    " \n",
    "pred = [pred_val*1 for i in range(len(Y_test))]\n",
    "pred = np.array(pred)"
   ]
  },
  {
   "cell_type": "code",
   "execution_count": 37,
   "id": "4a6bff06",
   "metadata": {},
   "outputs": [
    {
     "name": "stdout",
     "output_type": "stream",
     "text": [
      "Mean square error using Simplest model :  0.2301823226317875\n"
     ]
    }
   ],
   "source": [
    "print(\"Mean square error using Simplest model : \", mse( Y_test, pred ))"
   ]
  },
  {
   "cell_type": "code",
   "execution_count": 38,
   "id": "739b5470",
   "metadata": {},
   "outputs": [
    {
     "name": "stdout",
     "output_type": "stream",
     "text": [
      "Accuracy of Simplest Model is :  64.37 %\n"
     ]
    }
   ],
   "source": [
    "print(\"Accuracy of Simplest Model is : \", np.round(accuracyy( Y_test , pred, 0.5 )*100, 2), \"%\")"
   ]
  },
  {
   "cell_type": "markdown",
   "id": "f23dad66",
   "metadata": {},
   "source": [
    "## Conclusion"
   ]
  },
  {
   "cell_type": "markdown",
   "id": "5927c645",
   "metadata": {},
   "source": [
    "As we have seen that all regression models ( linear, Ridge, Lasso ) has given the same accuracy ( 86.21 %).\n",
    "\n",
    "This may happen as there is very less data"
   ]
  }
 ],
 "metadata": {
  "kernelspec": {
   "display_name": "Python 3 (ipykernel)",
   "language": "python",
   "name": "python3"
  },
  "language_info": {
   "codemirror_mode": {
    "name": "ipython",
    "version": 3
   },
   "file_extension": ".py",
   "mimetype": "text/x-python",
   "name": "python",
   "nbconvert_exporter": "python",
   "pygments_lexer": "ipython3",
   "version": "3.7.12"
  }
 },
 "nbformat": 4,
 "nbformat_minor": 5
}
