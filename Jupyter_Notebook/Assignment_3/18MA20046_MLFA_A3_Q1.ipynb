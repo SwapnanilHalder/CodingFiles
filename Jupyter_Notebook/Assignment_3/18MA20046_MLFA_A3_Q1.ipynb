{
 "cells": [
  {
   "cell_type": "markdown",
   "metadata": {},
   "source": [
    "Name : Swapnanil Halder, Roll : 18MA20046"
   ]
  },
  {
   "cell_type": "code",
   "execution_count": 1,
   "metadata": {},
   "outputs": [
    {
     "name": "stdout",
     "output_type": "stream",
     "text": [
      "Downloading data from https://storage.googleapis.com/tensorflow/tf-keras-datasets/mnist.npz\n",
      "11493376/11490434 [==============================] - 1s 0us/step\n",
      "(60000, 784)\n",
      "(60000, 10)\n"
     ]
    }
   ],
   "source": [
    "from sklearn.preprocessing import LabelBinarizer\n",
    "from sklearn.model_selection import train_test_split\n",
    "from sklearn.metrics import accuracy_score\n",
    "from tensorflow.keras.datasets import mnist\n",
    "import tensorflow as tf\n",
    "from tensorflow import keras\n",
    "from tensorflow.keras.layers import Dense\n",
    "from tensorflow.keras.layers import BatchNormalization\n",
    "from tensorflow.keras.layers import Dropout\n",
    "\n",
    "(x_train, y_train), (x_test, y_test) = mnist.load_data()\n",
    "x_train = x_train.reshape(-1, 28 * 28).astype(\"float32\") / 255.0\n",
    "x_test = x_test.reshape(-1, 28 * 28).astype(\"float32\") / 255.0\n",
    "y_train = LabelBinarizer().fit_transform(y_train)\n",
    "y_test = LabelBinarizer().fit_transform(y_test)\n",
    "print(x_train.shape)\n",
    "print(y_train.shape)"
   ]
  },
  {
   "cell_type": "code",
   "execution_count": 2,
   "metadata": {},
   "outputs": [
    {
     "name": "stderr",
     "output_type": "stream",
     "text": [
      "2022-02-20 23:45:19.470061: I tensorflow/core/platform/cpu_feature_guard.cc:145] This TensorFlow binary is optimized with Intel(R) MKL-DNN to use the following CPU instructions in performance critical operations:  SSE4.1 SSE4.2\n",
      "To enable them in non-MKL-DNN operations, rebuild TensorFlow with the appropriate compiler flags.\n",
      "2022-02-20 23:45:19.477433: I tensorflow/core/common_runtime/process_util.cc:115] Creating new thread pool with default inter op setting: 8. Tune using inter_op_parallelism_threads for best performance.\n"
     ]
    },
    {
     "name": "stdout",
     "output_type": "stream",
     "text": [
      "Model: \"sequential\"\n",
      "_________________________________________________________________\n",
      "Layer (type)                 Output Shape              Param #   \n",
      "=================================================================\n",
      "dense (Dense)                (None, 50)                39250     \n",
      "_________________________________________________________________\n",
      "batch_normalization (BatchNo (None, 50)                200       \n",
      "_________________________________________________________________\n",
      "dropout (Dropout)            (None, 50)                0         \n",
      "_________________________________________________________________\n",
      "dense_1 (Dense)              (None, 88)                4488      \n",
      "_________________________________________________________________\n",
      "batch_normalization_1 (Batch (None, 88)                352       \n",
      "_________________________________________________________________\n",
      "dropout_1 (Dropout)          (None, 88)                0         \n",
      "_________________________________________________________________\n",
      "dense_2 (Dense)              (None, 88)                7832      \n",
      "_________________________________________________________________\n",
      "batch_normalization_2 (Batch (None, 88)                352       \n",
      "_________________________________________________________________\n",
      "dropout_2 (Dropout)          (None, 88)                0         \n",
      "_________________________________________________________________\n",
      "dense_3 (Dense)              (None, 88)                7832      \n",
      "_________________________________________________________________\n",
      "batch_normalization_3 (Batch (None, 88)                352       \n",
      "_________________________________________________________________\n",
      "dropout_3 (Dropout)          (None, 88)                0         \n",
      "_________________________________________________________________\n",
      "dense_4 (Dense)              (None, 88)                7832      \n",
      "_________________________________________________________________\n",
      "batch_normalization_4 (Batch (None, 88)                352       \n",
      "_________________________________________________________________\n",
      "dropout_4 (Dropout)          (None, 88)                0         \n",
      "_________________________________________________________________\n",
      "dense_5 (Dense)              (None, 88)                7832      \n",
      "_________________________________________________________________\n",
      "batch_normalization_5 (Batch (None, 88)                352       \n",
      "_________________________________________________________________\n",
      "dropout_5 (Dropout)          (None, 88)                0         \n",
      "_________________________________________________________________\n",
      "dense_6 (Dense)              (None, 88)                7832      \n",
      "_________________________________________________________________\n",
      "batch_normalization_6 (Batch (None, 88)                352       \n",
      "_________________________________________________________________\n",
      "dropout_6 (Dropout)          (None, 88)                0         \n",
      "_________________________________________________________________\n",
      "dense_7 (Dense)              (None, 88)                7832      \n",
      "_________________________________________________________________\n",
      "batch_normalization_7 (Batch (None, 88)                352       \n",
      "_________________________________________________________________\n",
      "dropout_7 (Dropout)          (None, 88)                0         \n",
      "_________________________________________________________________\n",
      "dense_8 (Dense)              (None, 79)                7031      \n",
      "_________________________________________________________________\n",
      "batch_normalization_8 (Batch (None, 79)                316       \n",
      "_________________________________________________________________\n",
      "dropout_8 (Dropout)          (None, 79)                0         \n",
      "_________________________________________________________________\n",
      "dense_9 (Dense)              (None, 10)                800       \n",
      "=================================================================\n",
      "Total params: 101,541\n",
      "Trainable params: 100,051\n",
      "Non-trainable params: 1,490\n",
      "_________________________________________________________________\n"
     ]
    }
   ],
   "source": [
    "init = tf.keras.initializers.GlorotUniform()\n",
    "\n",
    "UniformNet = tf.keras.Sequential()\n",
    "UniformNet.add(tf.keras.layers.InputLayer(x_train.shape[1]))\n",
    "UniformNet.add(Dense(50, activation = 'relu', kernel_initializer=init))\n",
    "UniformNet.add(BatchNormalization())\n",
    "UniformNet.add(Dropout(0.3))\n",
    "UniformNet.add(Dense(88, activation = 'relu', kernel_initializer=init))\n",
    "UniformNet.add(BatchNormalization())\n",
    "UniformNet.add(Dropout(0.3))\n",
    "UniformNet.add(Dense(88, activation = 'relu', kernel_initializer=init))\n",
    "UniformNet.add(BatchNormalization())\n",
    "UniformNet.add(Dropout(0.3))\n",
    "UniformNet.add(Dense(88, activation = 'relu', kernel_initializer=init))\n",
    "UniformNet.add(BatchNormalization())\n",
    "UniformNet.add(Dropout(0.3))\n",
    "UniformNet.add(Dense(88, activation = 'relu', kernel_initializer=init))\n",
    "UniformNet.add(BatchNormalization())\n",
    "UniformNet.add(Dropout(0.3))\n",
    "UniformNet.add(Dense(88, activation = 'relu', kernel_initializer=init))\n",
    "UniformNet.add(BatchNormalization())\n",
    "UniformNet.add(Dropout(0.3))\n",
    "UniformNet.add(Dense(88, activation = 'relu', kernel_initializer=init))\n",
    "UniformNet.add(BatchNormalization())\n",
    "UniformNet.add(Dropout(0.3))\n",
    "UniformNet.add(Dense(88, activation = 'relu', kernel_initializer=init))\n",
    "UniformNet.add(BatchNormalization())\n",
    "UniformNet.add(Dropout(0.3))\n",
    "UniformNet.add(Dense(79, activation = 'relu', kernel_initializer=init))\n",
    "UniformNet.add(BatchNormalization())\n",
    "UniformNet.add(Dropout(0.3))\n",
    "UniformNet.add(Dense(10, activation = 'softmax', kernel_initializer=init))\n",
    "UniformNet.summary()"
   ]
  },
  {
   "cell_type": "code",
   "execution_count": 3,
   "metadata": {},
   "outputs": [
    {
     "name": "stdout",
     "output_type": "stream",
     "text": [
      "Train on 60000 samples\n",
      "Epoch 1/15\n"
     ]
    }
   ],
   "source": [
    "UniformNet.compile(loss=keras.losses.CategoricalCrossentropy(), \n",
    "    optimizer=keras.optimizers.Adam(learning_rate=0.0001),\n",
    "    metrics=['accuracy'])\n",
    "\n",
    "UniformNet.fit(x_train, y_train, batch_size=100, epochs=15, verbose=1)"
   ]
  },
  {
   "cell_type": "code",
   "execution_count": null,
   "metadata": {},
   "outputs": [
    {
     "name": "stdout",
     "output_type": "stream",
     "text": [
      "Accuracy on test set using UniformNet :  0.9108\n"
     ]
    }
   ],
   "source": [
    "predictions = UniformNet.predict(x_test)\n",
    "predictions = predictions.argmax(axis=1)\n",
    "print(\"Accuracy on test set using UniformNet : \",accuracy_score(y_test.argmax(axis=1), predictions))"
   ]
  },
  {
   "cell_type": "code",
   "execution_count": null,
   "metadata": {},
   "outputs": [
    {
     "name": "stdout",
     "output_type": "stream",
     "text": [
      "Model: \"sequential_1\"\n",
      "_________________________________________________________________\n",
      "Layer (type)                 Output Shape              Param #   \n",
      "=================================================================\n",
      "dense_10 (Dense)             (None, 50)                39250     \n",
      "_________________________________________________________________\n",
      "batch_normalization_9 (Batch (None, 50)                200       \n",
      "_________________________________________________________________\n",
      "dropout_9 (Dropout)          (None, 50)                0         \n",
      "_________________________________________________________________\n",
      "dense_11 (Dense)             (None, 385)               19635     \n",
      "_________________________________________________________________\n",
      "batch_normalization_10 (Batc (None, 385)               1540      \n",
      "_________________________________________________________________\n",
      "dropout_10 (Dropout)         (None, 385)               0         \n",
      "_________________________________________________________________\n",
      "dense_12 (Dense)             (None, 25)                9650      \n",
      "_________________________________________________________________\n",
      "batch_normalization_11 (Batc (None, 25)                100       \n",
      "_________________________________________________________________\n",
      "dropout_11 (Dropout)         (None, 25)                0         \n",
      "_________________________________________________________________\n",
      "dense_13 (Dense)             (None, 186)               4836      \n",
      "_________________________________________________________________\n",
      "batch_normalization_12 (Batc (None, 186)               744       \n",
      "_________________________________________________________________\n",
      "dropout_12 (Dropout)         (None, 186)               0         \n",
      "_________________________________________________________________\n",
      "dense_14 (Dense)             (None, 13)                2431      \n",
      "_________________________________________________________________\n",
      "batch_normalization_13 (Batc (None, 13)                52        \n",
      "_________________________________________________________________\n",
      "dropout_13 (Dropout)         (None, 13)                0         \n",
      "_________________________________________________________________\n",
      "dense_15 (Dense)             (None, 87)                1218      \n",
      "_________________________________________________________________\n",
      "batch_normalization_14 (Batc (None, 87)                348       \n",
      "_________________________________________________________________\n",
      "dropout_14 (Dropout)         (None, 87)                0         \n",
      "_________________________________________________________________\n",
      "dense_16 (Dense)             (None, 7)                 616       \n",
      "_________________________________________________________________\n",
      "batch_normalization_15 (Batc (None, 7)                 28        \n",
      "_________________________________________________________________\n",
      "dropout_15 (Dropout)         (None, 7)                 0         \n",
      "_________________________________________________________________\n",
      "dense_17 (Dense)             (None, 39)                312       \n",
      "_________________________________________________________________\n",
      "batch_normalization_16 (Batc (None, 39)                156       \n",
      "_________________________________________________________________\n",
      "dropout_16 (Dropout)         (None, 39)                0         \n",
      "_________________________________________________________________\n",
      "dense_18 (Dense)             (None, 395)               15800     \n",
      "_________________________________________________________________\n",
      "batch_normalization_17 (Batc (None, 395)               1580      \n",
      "_________________________________________________________________\n",
      "dropout_17 (Dropout)         (None, 395)               0         \n",
      "_________________________________________________________________\n",
      "dense_19 (Dense)             (None, 10)                3960      \n",
      "=================================================================\n",
      "Total params: 102,456\n",
      "Trainable params: 100,082\n",
      "Non-trainable params: 2,374\n",
      "_________________________________________________________________\n"
     ]
    }
   ],
   "source": [
    "init = tf.keras.initializers.GlorotUniform()\n",
    "\n",
    "PyramidNet = tf.keras.Sequential()\n",
    "PyramidNet.add(tf.keras.layers.InputLayer(x_train.shape[1]))\n",
    "PyramidNet.add(Dense(50, activation = 'relu', kernel_initializer=init))\n",
    "PyramidNet.add(BatchNormalization())\n",
    "PyramidNet.add(Dropout(0.3))\n",
    "PyramidNet.add(Dense(385, activation = 'relu', kernel_initializer=init))\n",
    "PyramidNet.add(BatchNormalization())\n",
    "PyramidNet.add(Dropout(0.3))\n",
    "PyramidNet.add(Dense(25, activation = 'relu', kernel_initializer=init))\n",
    "PyramidNet.add(BatchNormalization())\n",
    "PyramidNet.add(Dropout(0.3))\n",
    "PyramidNet.add(Dense(186, activation = 'relu', kernel_initializer=init))\n",
    "PyramidNet.add(BatchNormalization())\n",
    "PyramidNet.add(Dropout(0.3))\n",
    "PyramidNet.add(Dense(13, activation = 'relu', kernel_initializer=init))\n",
    "PyramidNet.add(BatchNormalization())\n",
    "PyramidNet.add(Dropout(0.3))\n",
    "PyramidNet.add(Dense(87, activation = 'relu', kernel_initializer=init))\n",
    "PyramidNet.add(BatchNormalization())\n",
    "PyramidNet.add(Dropout(0.3))\n",
    "PyramidNet.add(Dense(7, activation = 'relu', kernel_initializer=init))\n",
    "PyramidNet.add(BatchNormalization())\n",
    "PyramidNet.add(Dropout(0.3))\n",
    "PyramidNet.add(Dense(39, activation = 'relu', kernel_initializer=init))\n",
    "PyramidNet.add(BatchNormalization())\n",
    "PyramidNet.add(Dropout(0.3))\n",
    "PyramidNet.add(Dense(395, activation = 'relu', kernel_initializer=init))\n",
    "PyramidNet.add(BatchNormalization())\n",
    "PyramidNet.add(Dropout(0.3))\n",
    "PyramidNet.add(Dense(10, activation = 'softmax', kernel_initializer=init))\n",
    "PyramidNet.summary()"
   ]
  },
  {
   "cell_type": "code",
   "execution_count": null,
   "metadata": {},
   "outputs": [
    {
     "name": "stdout",
     "output_type": "stream",
     "text": [
      "Epoch 1/15\n",
      "600/600 [==============================] - 19s 25ms/step - loss: 2.7905 - accuracy: 0.1081\n",
      "Epoch 2/15\n",
      "600/600 [==============================] - 15s 24ms/step - loss: 2.5361 - accuracy: 0.1327\n",
      "Epoch 3/15\n",
      "600/600 [==============================] - 14s 24ms/step - loss: 2.3132 - accuracy: 0.1848\n",
      "Epoch 4/15\n",
      "600/600 [==============================] - 15s 25ms/step - loss: 2.0675 - accuracy: 0.2508\n",
      "Epoch 5/15\n",
      "600/600 [==============================] - 15s 25ms/step - loss: 1.9013 - accuracy: 0.2953\n",
      "Epoch 6/15\n",
      "600/600 [==============================] - 15s 25ms/step - loss: 1.7603 - accuracy: 0.3349\n",
      "Epoch 7/15\n",
      "600/600 [==============================] - 14s 24ms/step - loss: 1.6379 - accuracy: 0.3700\n",
      "Epoch 8/15\n",
      "600/600 [==============================] - 14s 23ms/step - loss: 1.5356 - accuracy: 0.3970\n",
      "Epoch 9/15\n",
      "600/600 [==============================] - 14s 23ms/step - loss: 1.4344 - accuracy: 0.4216\n",
      "Epoch 10/15\n",
      "600/600 [==============================] - 14s 24ms/step - loss: 1.3657 - accuracy: 0.4419\n",
      "Epoch 11/15\n",
      "600/600 [==============================] - 14s 24ms/step - loss: 1.3040 - accuracy: 0.4695\n",
      "Epoch 12/15\n",
      "600/600 [==============================] - 14s 24ms/step - loss: 1.2371 - accuracy: 0.4968\n",
      "Epoch 13/15\n",
      "600/600 [==============================] - 14s 24ms/step - loss: 1.1770 - accuracy: 0.5216\n",
      "Epoch 14/15\n",
      "600/600 [==============================] - 14s 23ms/step - loss: 1.1396 - accuracy: 0.5395\n",
      "Epoch 15/15\n",
      "600/600 [==============================] - 14s 24ms/step - loss: 1.1049 - accuracy: 0.5557\n"
     ]
    },
    {
     "data": {
      "text/plain": [
       "<tensorflow.python.keras.callbacks.History at 0x227efe029d0>"
      ]
     },
     "execution_count": 6,
     "metadata": {},
     "output_type": "execute_result"
    }
   ],
   "source": [
    "PyramidNet.compile(loss=keras.losses.CategoricalCrossentropy(), \n",
    "    optimizer=keras.optimizers.Adam(learning_rate=0.0001),\n",
    "    metrics=['accuracy'])\n",
    "\n",
    "PyramidNet.fit(x_train, y_train, batch_size=100, epochs=15, verbose=1)"
   ]
  },
  {
   "cell_type": "code",
   "execution_count": null,
   "metadata": {},
   "outputs": [
    {
     "name": "stdout",
     "output_type": "stream",
     "text": [
      "Accuracy on test set using PyramidNet :  0.6666\n"
     ]
    }
   ],
   "source": [
    "predictions = PyramidNet.predict(x_test)\n",
    "predictions = predictions.argmax(axis=1)\n",
    "print(\"Accuracy on test set using PyramidNet : \",accuracy_score(y_test.argmax(axis=1), predictions))"
   ]
  },
  {
   "cell_type": "code",
   "execution_count": null,
   "metadata": {},
   "outputs": [
    {
     "name": "stdout",
     "output_type": "stream",
     "text": [
      "Model: \"sequential_2\"\n",
      "_________________________________________________________________\n",
      "Layer (type)                 Output Shape              Param #   \n",
      "=================================================================\n",
      "dense_20 (Dense)             (None, 50)                39250     \n",
      "_________________________________________________________________\n",
      "batch_normalization_18 (Batc (None, 50)                200       \n",
      "_________________________________________________________________\n",
      "dropout_18 (Dropout)         (None, 50)                0         \n",
      "_________________________________________________________________\n",
      "dense_21 (Dense)             (None, 6)                 306       \n",
      "_________________________________________________________________\n",
      "batch_normalization_19 (Batc (None, 6)                 24        \n",
      "_________________________________________________________________\n",
      "dropout_19 (Dropout)         (None, 6)                 0         \n",
      "_________________________________________________________________\n",
      "dense_22 (Dense)             (None, 87)                609       \n",
      "_________________________________________________________________\n",
      "batch_normalization_20 (Batc (None, 87)                348       \n",
      "_________________________________________________________________\n",
      "dropout_20 (Dropout)         (None, 87)                0         \n",
      "_________________________________________________________________\n",
      "dense_23 (Dense)             (None, 14)                1232      \n",
      "_________________________________________________________________\n",
      "batch_normalization_21 (Batc (None, 14)                56        \n",
      "_________________________________________________________________\n",
      "dropout_21 (Dropout)         (None, 14)                0         \n",
      "_________________________________________________________________\n",
      "dense_24 (Dense)             (None, 164)               2460      \n",
      "_________________________________________________________________\n",
      "batch_normalization_22 (Batc (None, 164)               656       \n",
      "_________________________________________________________________\n",
      "dropout_22 (Dropout)         (None, 164)               0         \n",
      "_________________________________________________________________\n",
      "dense_25 (Dense)             (None, 30)                4950      \n",
      "_________________________________________________________________\n",
      "batch_normalization_23 (Batc (None, 30)                120       \n",
      "_________________________________________________________________\n",
      "dropout_23 (Dropout)         (None, 30)                0         \n",
      "_________________________________________________________________\n",
      "dense_26 (Dense)             (None, 319)               9889      \n",
      "_________________________________________________________________\n",
      "batch_normalization_24 (Batc (None, 319)               1276      \n",
      "_________________________________________________________________\n",
      "dropout_24 (Dropout)         (None, 319)               0         \n",
      "_________________________________________________________________\n",
      "dense_27 (Dense)             (None, 62)                19840     \n",
      "_________________________________________________________________\n",
      "batch_normalization_25 (Batc (None, 62)                248       \n",
      "_________________________________________________________________\n",
      "dropout_25 (Dropout)         (None, 62)                0         \n",
      "_________________________________________________________________\n",
      "dense_28 (Dense)             (None, 267)               16821     \n",
      "_________________________________________________________________\n",
      "batch_normalization_26 (Batc (None, 267)               1068      \n",
      "_________________________________________________________________\n",
      "dropout_26 (Dropout)         (None, 267)               0         \n",
      "_________________________________________________________________\n",
      "dense_29 (Dense)             (None, 10)                2680      \n",
      "=================================================================\n",
      "Total params: 102,033\n",
      "Trainable params: 100,035\n",
      "Non-trainable params: 1,998\n",
      "_________________________________________________________________\n"
     ]
    }
   ],
   "source": [
    "init = tf.keras.initializers.GlorotUniform()\n",
    "\n",
    "InvPyramidNet = tf.keras.Sequential()\n",
    "InvPyramidNet.add(tf.keras.layers.InputLayer(x_train.shape[1]))\n",
    "InvPyramidNet.add(Dense(50, activation = 'relu', kernel_initializer=init))\n",
    "InvPyramidNet.add(BatchNormalization())\n",
    "InvPyramidNet.add(Dropout(0.3))\n",
    "InvPyramidNet.add(Dense(6, activation = 'relu', kernel_initializer=init))\n",
    "InvPyramidNet.add(BatchNormalization())\n",
    "InvPyramidNet.add(Dropout(0.3))\n",
    "InvPyramidNet.add(Dense(87, activation = 'relu', kernel_initializer=init))\n",
    "InvPyramidNet.add(BatchNormalization())\n",
    "InvPyramidNet.add(Dropout(0.3))\n",
    "InvPyramidNet.add(Dense(14, activation = 'relu', kernel_initializer=init))\n",
    "InvPyramidNet.add(BatchNormalization())\n",
    "InvPyramidNet.add(Dropout(0.3))\n",
    "InvPyramidNet.add(Dense(164, activation = 'relu', kernel_initializer=init))\n",
    "InvPyramidNet.add(BatchNormalization())\n",
    "InvPyramidNet.add(Dropout(0.3))\n",
    "InvPyramidNet.add(Dense(30, activation = 'relu', kernel_initializer=init))\n",
    "InvPyramidNet.add(BatchNormalization())\n",
    "InvPyramidNet.add(Dropout(0.3))\n",
    "InvPyramidNet.add(Dense(319, activation = 'relu', kernel_initializer=init))\n",
    "InvPyramidNet.add(BatchNormalization())\n",
    "InvPyramidNet.add(Dropout(0.3))\n",
    "InvPyramidNet.add(Dense(62, activation = 'relu', kernel_initializer=init))\n",
    "InvPyramidNet.add(BatchNormalization())\n",
    "InvPyramidNet.add(Dropout(0.3))\n",
    "InvPyramidNet.add(Dense(267, activation = 'relu', kernel_initializer=init))\n",
    "InvPyramidNet.add(BatchNormalization())\n",
    "InvPyramidNet.add(Dropout(0.3))\n",
    "InvPyramidNet.add(Dense(10, activation = 'softmax', kernel_initializer=init))\n",
    "InvPyramidNet.summary()"
   ]
  },
  {
   "cell_type": "code",
   "execution_count": null,
   "metadata": {},
   "outputs": [
    {
     "name": "stdout",
     "output_type": "stream",
     "text": [
      "Epoch 1/15\n",
      "600/600 [==============================] - 18s 24ms/step - loss: 2.8446 - accuracy: 0.1170\n",
      "Epoch 2/15\n",
      "600/600 [==============================] - 15s 25ms/step - loss: 2.4857 - accuracy: 0.1557\n",
      "Epoch 3/15\n",
      "600/600 [==============================] - 14s 23ms/step - loss: 2.2688 - accuracy: 0.1993\n",
      "Epoch 4/15\n",
      "600/600 [==============================] - 14s 23ms/step - loss: 2.0785 - accuracy: 0.2503\n",
      "Epoch 5/15\n",
      "600/600 [==============================] - 13s 22ms/step - loss: 1.9290 - accuracy: 0.2917\n",
      "Epoch 6/15\n",
      "600/600 [==============================] - 14s 23ms/step - loss: 1.7862 - accuracy: 0.3297\n",
      "Epoch 7/15\n",
      "600/600 [==============================] - 14s 23ms/step - loss: 1.6642 - accuracy: 0.3659\n",
      "Epoch 8/15\n",
      "600/600 [==============================] - 14s 23ms/step - loss: 1.5711 - accuracy: 0.3895\n",
      "Epoch 9/15\n",
      "600/600 [==============================] - 13s 22ms/step - loss: 1.4994 - accuracy: 0.4085\n",
      "Epoch 10/15\n",
      "600/600 [==============================] - 13s 22ms/step - loss: 1.4331 - accuracy: 0.4304\n",
      "Epoch 11/15\n",
      "600/600 [==============================] - 13s 22ms/step - loss: 1.3765 - accuracy: 0.4478\n",
      "Epoch 12/15\n",
      "600/600 [==============================] - 13s 22ms/step - loss: 1.3332 - accuracy: 0.4595\n",
      "Epoch 13/15\n",
      "600/600 [==============================] - 14s 23ms/step - loss: 1.2924 - accuracy: 0.4706\n",
      "Epoch 14/15\n",
      "600/600 [==============================] - 13s 22ms/step - loss: 1.2642 - accuracy: 0.4805\n",
      "Epoch 15/15\n",
      "600/600 [==============================] - 14s 23ms/step - loss: 1.2286 - accuracy: 0.4940\n"
     ]
    },
    {
     "data": {
      "text/plain": [
       "<tensorflow.python.keras.callbacks.History at 0x227d6fd93d0>"
      ]
     },
     "execution_count": 9,
     "metadata": {},
     "output_type": "execute_result"
    }
   ],
   "source": [
    "InvPyramidNet.compile(loss=keras.losses.CategoricalCrossentropy(), \n",
    "    optimizer=keras.optimizers.Adam(learning_rate=0.0001),\n",
    "    metrics=['accuracy'])\n",
    "\n",
    "InvPyramidNet.fit(x_train, y_train, batch_size=100, epochs=15, verbose=1)"
   ]
  },
  {
   "cell_type": "code",
   "execution_count": null,
   "metadata": {},
   "outputs": [
    {
     "name": "stdout",
     "output_type": "stream",
     "text": [
      "Accuracy on test set using InvPyramidNet :  0.6544\n"
     ]
    }
   ],
   "source": [
    "predictions = InvPyramidNet.predict(x_test)\n",
    "predictions = predictions.argmax(axis=1)\n",
    "print(\"Accuracy on test set using InvPyramidNet : \",accuracy_score(y_test.argmax(axis=1), predictions))"
   ]
  },
  {
   "cell_type": "code",
   "execution_count": null,
   "metadata": {},
   "outputs": [],
   "source": []
  }
 ],
 "metadata": {
  "kernelspec": {
   "display_name": "Python 3",
   "language": "python",
   "name": "python3"
  },
  "language_info": {
   "codemirror_mode": {
    "name": "ipython",
    "version": 3
   },
   "file_extension": ".py",
   "mimetype": "text/x-python",
   "name": "python",
   "nbconvert_exporter": "python",
   "pygments_lexer": "ipython3",
   "version": "3.7.11"
  }
 },
 "nbformat": 4,
 "nbformat_minor": 5
}
