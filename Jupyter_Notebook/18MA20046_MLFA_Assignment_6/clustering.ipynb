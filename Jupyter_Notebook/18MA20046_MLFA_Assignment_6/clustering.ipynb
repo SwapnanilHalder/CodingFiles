{
 "cells": [
  {
   "cell_type": "markdown",
   "id": "d160f987",
   "metadata": {},
   "source": [
    "Name: Swapnanil Halder"
   ]
  },
  {
   "cell_type": "markdown",
   "id": "31ba24f9",
   "metadata": {},
   "source": [
    "Roll No.: 18MA20046"
   ]
  },
  {
   "cell_type": "code",
   "execution_count": null,
   "id": "fac3647b-568f-45fa-a79e-c5a2af421bea",
   "metadata": {},
   "outputs": [],
   "source": [
    "import numpy as np\n",
    "import matplotlib.pyplot as plt\n",
    "import seaborn as sns\n",
    "import pandas as pd\n",
    "from sklearn.decomposition import PCA"
   ]
  },
  {
   "cell_type": "code",
   "execution_count": null,
   "id": "9e585d38-19a5-4bcb-bdab-97471c9058b2",
   "metadata": {},
   "outputs": [],
   "source": [
    "data = pd.read_csv(r\"./Twitter_data.csv\", header=0, low_memory=False)\n",
    "data.tail(3)"
   ]
  },
  {
   "cell_type": "code",
   "execution_count": null,
   "id": "43c61bfb-40ca-40d9-be60-8b8dbef15e5d",
   "metadata": {},
   "outputs": [],
   "source": [
    "data.dropna(axis=0, how='any', inplace=True)\n",
    "data.reset_index(drop=True, inplace=True)\n",
    "data.tail(3)"
   ]
  },
  {
   "cell_type": "code",
   "execution_count": null,
   "id": "9d52b798-0dbd-43cb-a5fb-403b3e330c41",
   "metadata": {},
   "outputs": [],
   "source": [
    "data.drop(labels=[' Lang', ' IsReshare', ' Likes', ' text', ' UserID'], axis=1, inplace=True)\n",
    "data.tail(3)"
   ]
  },
  {
   "cell_type": "code",
   "execution_count": null,
   "id": "44af7c7d-1b97-4bf9-ac18-b48325d60d41",
   "metadata": {},
   "outputs": [],
   "source": [
    "data['TweetID'] = pd.Series([int(each[3:]) for each in data['TweetID'].tolist()], name='TweetID')\n",
    "data.tail(3)"
   ]
  },
  {
   "cell_type": "code",
   "execution_count": null,
   "id": "8a06b210-3b3d-4725-bf33-5136de0719ce",
   "metadata": {},
   "outputs": [],
   "source": [
    "data.groupby('Day').count()"
   ]
  },
  {
   "cell_type": "code",
   "execution_count": null,
   "id": "c353f3eb-91e8-4377-89c1-d16c92f22e8d",
   "metadata": {},
   "outputs": [],
   "source": [
    "data_X, data_Y = data.loc[:, ~data.columns.isin(['Day'])], data.loc[:, ['Day']]\n",
    "X, Y = data_X.to_numpy(), data_Y.to_numpy().reshape(-1)"
   ]
  },
  {
   "cell_type": "code",
   "execution_count": null,
   "id": "22c8194d-54dd-4ac4-a5ca-7ba50255ad58",
   "metadata": {},
   "outputs": [],
   "source": [
    "from sklearn.preprocessing import MinMaxScaler as scale\n",
    "X[:,:] = scale().fit_transform(X[:,:])"
   ]
  },
  {
   "cell_type": "code",
   "execution_count": null,
   "id": "81cd2946-5347-4e1f-9031-55719d820ae4",
   "metadata": {},
   "outputs": [],
   "source": [
    "from scipy.cluster.hierarchy import dendrogram, linkage\n",
    "\n",
    "def plot_dendrogram(Type, threshold):\n",
    "    plt.figure(figsize=(15,8))\n",
    "    dn = dendrogram(linkage(X, Type), leaf_rotation=45, leaf_font_size=2,\n",
    "                    above_threshold_color=\"#eeeeee\", color_threshold=threshold, orientation='right')\n",
    "    plt.axvline(x=threshold, c='grey', linestyle='dashed')\n",
    "    plt.show()\n"
   ]
  },
  {
   "cell_type": "code",
   "execution_count": null,
   "id": "2998d37a-e078-44ea-8e58-698259d621b4",
   "metadata": {},
   "outputs": [],
   "source": [
    "plot_dendrogram(Type='single', threshold=0.32)"
   ]
  },
  {
   "cell_type": "code",
   "execution_count": null,
   "id": "8baa8db4-9b74-4799-a9e9-ba5f8f4959bc",
   "metadata": {},
   "outputs": [],
   "source": [
    "plot_dendrogram(Type='complete', threshold=1.32)"
   ]
  },
  {
   "cell_type": "code",
   "execution_count": null,
   "id": "90eae5c0-2be0-4bbc-962e-65629e99779d",
   "metadata": {},
   "outputs": [],
   "source": [
    "from tqdm.notebook import tqdm\n",
    "from collections import Counter"
   ]
  },
  {
   "cell_type": "code",
   "execution_count": null,
   "id": "d24f425e-4ccb-48f0-b017-7bc5afe795b5",
   "metadata": {},
   "outputs": [],
   "source": [
    "def euclidean_distance(i, j):\n",
    "    if i > j:\n",
    "        # lower triangle\n",
    "        x1, x2 = X[i], X[j]\n",
    "        result = 0.0\n",
    "        for k in range(len(x1)):\n",
    "            result += np.power(x1[k] - x2[k], 2)\n",
    "        return np.sqrt(result)\n",
    "    else:\n",
    "        # upper triangle and diagonal\n",
    "        return 0.0\n",
    "\n",
    "def most_similar(df):\n",
    "    Dict = {'val': 1e9, 'i': -1, 'j': -1}\n",
    "    for i in range(len(df)):\n",
    "        for j in range(i):\n",
    "            if Dict['val'] > df.iloc[i,j]:\n",
    "                Dict['val'] = df.iloc[i,j]\n",
    "                Dict['i'], Dict['j'] = i, j\n",
    "    return Dict['val'], Dict['i'], Dict['j']\n"
   ]
  },
  {
   "cell_type": "code",
   "execution_count": null,
   "id": "66b37b8d-dcca-4faf-ad56-839dc1dbf165",
   "metadata": {},
   "outputs": [],
   "source": [
    "def get_the_clusters_by_threshold(X, Type):\n",
    "    if Type == 'single': threshold=0.32\n",
    "    elif Type == 'complete': threshold=1.32\n",
    "    else: raise Exception('use proper type')\n",
    "    \n",
    "    len_X = len(X)\n",
    "    dist = pd.DataFrame([[euclidean_distance(i, j) for j in range(len_X)] for i in range(len_X)],\n",
    "                        columns=[str(i+1) for i in range(len_X)], index=[str(i+1) for i in range(len_X)])\n",
    "    \n",
    "    for i in tqdm(range(len(dist)-1)):\n",
    "        d, i, j = most_similar(dist)\n",
    "        if d > threshold: break\n",
    "        \n",
    "        label = dist.columns[j]+','+dist.columns[i]\n",
    "        if Type == 'single':\n",
    "            clustered_ij = pd.DataFrame([[min(dist.iloc[max(i,k),min(i,k)], dist.iloc[max(j,k),min(j,k)]) for k in range(len(dist)) if k not in [i, j]]])\n",
    "        else:\n",
    "            clustered_ij = pd.DataFrame([[max(dist.iloc[max(i,k),min(i,k)], dist.iloc[max(j,k),min(j,k)]) for k in range(len(dist)) if k not in [i, j]]])\n",
    "\n",
    "        dist.drop(dist.index[[i,j]], axis=0, inplace=True)\n",
    "        dist.drop(dist.columns[[i,j]], axis=1, inplace=True)\n",
    "\n",
    "        clustered_ij.index, clustered_ij.columns = [label], dist.columns\n",
    "        dist = pd.concat([dist, clustered_ij], axis=0)\n",
    "        dist[label]=0.0\n",
    "    \n",
    "    return [[int(idx)-1 for idx in each.split(',')] for each in dist.index.tolist()]\n"
   ]
  },
  {
   "cell_type": "code",
   "execution_count": null,
   "id": "6bcbe7b7-4f19-4afc-bcfb-97cb92991036",
   "metadata": {},
   "outputs": [],
   "source": [
    "clusters = get_the_clusters_by_threshold(X, 'single')\n",
    "clusters_type = [Counter([Y[each] for each in clusters[i]]) for i in range(len(clusters))]"
   ]
  },
  {
   "cell_type": "code",
   "execution_count": null,
   "id": "846242de-34f1-4eb6-864f-faa93c9ba60d",
   "metadata": {},
   "outputs": [],
   "source": [
    "Dict = {'None': 0, 'Friday': 0, 'Sunday': 0, 'Saturday': 0, 'Thursday': 0}\n",
    "cluster_day = {}\n",
    "cluster_no = ['None'] * len(X)\n",
    "for i, each_cluster in enumerate(clusters):\n",
    "    cluster_name = 'cluster_'+str(i+1)\n",
    "    for each in each_cluster:\n",
    "        cluster_no[each] = cluster_name\n",
    "    most_occured, most_value = clusters_type[i].most_common(1)[0]\n",
    "    if Dict[most_occured] < most_value:\n",
    "        Dict['None'] += Dict[most_occured]\n",
    "        Dict[most_occured] = most_value\n",
    "        cluster_day[most_occured] = cluster_name\n",
    "    else:\n",
    "        Dict['None'] += most_value\n",
    "cluster_day = dict(zip(cluster_day.values(),cluster_day.keys()))\n",
    "print(Dict)\n",
    "print('Accuracy =', np.round(100 - 100*Dict['None']/sum(Dict.values()), 3), '%')"
   ]
  },
  {
   "cell_type": "code",
   "execution_count": null,
   "id": "1cc8a1b0-efc0-4844-bf3b-874262d44b40",
   "metadata": {},
   "outputs": [],
   "source": [
    "data_visualize = pd.DataFrame(PCA(2).fit_transform(X), columns=['X','Y'])\n",
    "data_visualize['hue'] = [cluster_day[each] if each in cluster_day.keys() else 'None' for each in cluster_no]\n",
    "sns.relplot(data=data_visualize, x='X', y='Y', hue='hue', palette=\"muted\")\n",
    "plt.show()"
   ]
  },
  {
   "cell_type": "code",
   "execution_count": null,
   "id": "854ff4af-743e-42c8-a3c2-6f587abcb1e6",
   "metadata": {},
   "outputs": [],
   "source": [
    "clusters = get_the_clusters_by_threshold(X, 'complete')\n",
    "clusters_type = [Counter([Y[each] for each in clusters[i]]) for i in range(len(clusters))]"
   ]
  },
  {
   "cell_type": "code",
   "execution_count": null,
   "id": "c386e8be-a27e-40ae-ba7f-b8c869273bd4",
   "metadata": {},
   "outputs": [],
   "source": [
    "Dict = {'None': 0, 'Friday': 0, 'Sunday': 0, 'Saturday': 0, 'Thursday': 0}\n",
    "cluster_day = {}\n",
    "cluster_no = ['None'] * len(X)\n",
    "for i, each_cluster in enumerate(clusters):\n",
    "    cluster_name = 'cluster_'+str(i+1)\n",
    "    for each in each_cluster:\n",
    "        cluster_no[each] = cluster_name\n",
    "    most_occured, most_value = clusters_type[i].most_common(1)[0]\n",
    "    if Dict[most_occured] < most_value:\n",
    "        Dict['None'] += Dict[most_occured]\n",
    "        Dict[most_occured] = most_value\n",
    "        cluster_day[most_occured] = cluster_name\n",
    "    else:\n",
    "        Dict['None'] += most_value\n",
    "cluster_day = dict(zip(cluster_day.values(),cluster_day.keys()))\n",
    "print(Dict)\n",
    "print('Accuracy =', np.round(100 - 100*Dict['None']/sum(Dict.values()), 3), '%')"
   ]
  },
  {
   "cell_type": "code",
   "execution_count": null,
   "id": "859f6ffd-2247-4564-b12a-3ea8fa300eeb",
   "metadata": {},
   "outputs": [],
   "source": [
    "data_visualize = pd.DataFrame(PCA(2).fit_transform(X), columns=['X','Y'])\n",
    "data_visualize['hue'] = [cluster_day[each] if each in cluster_day.keys() else 'None' for each in cluster_no]\n",
    "sns.relplot(data=data_visualize, x='X', y='Y', hue='hue', palette=\"muted\")\n",
    "plt.show()"
   ]
  },
  {
   "cell_type": "code",
   "execution_count": null,
   "id": "46edf0a3-44c6-42e0-a14e-2ad89abad8cb",
   "metadata": {},
   "outputs": [],
   "source": []
  }
 ],
 "metadata": {
  "kernelspec": {
   "display_name": "Python 3 (ipykernel)",
   "language": "python",
   "name": "python3"
  },
  "language_info": {
   "codemirror_mode": {
    "name": "ipython",
    "version": 3
   },
   "file_extension": ".py",
   "mimetype": "text/x-python",
   "name": "python",
   "nbconvert_exporter": "python",
   "pygments_lexer": "ipython3",
   "version": "3.7.12"
  }
 },
 "nbformat": 4,
 "nbformat_minor": 5
}
