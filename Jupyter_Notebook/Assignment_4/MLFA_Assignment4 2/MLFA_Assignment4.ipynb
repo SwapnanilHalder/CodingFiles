{
  "cells": [
    {
      "cell_type": "markdown",
      "metadata": {
        "id": "l5BY6PdWAp_T"
      },
      "source": [
        "<h1><b>Problem 1</b></h1>"
      ]
    },
    {
      "cell_type": "markdown",
      "metadata": {},
      "source": [
        "Name : Swapnanil Halder\n",
        "Roll No. : 18MA20046"
      ]
    },
    {
      "cell_type": "code",
      "execution_count": 1,
      "metadata": {
        "id": "7JpwOXhf05wF"
      },
      "outputs": [],
      "source": [
        "import numpy as np\n",
        "import pandas as pd\n",
        "from scipy.io import loadmat\n",
        "from sklearn import ensemble\n",
        "import matplotlib.pyplot as plt\n",
        "from sklearn.datasets import fetch_openml\n",
        "from sklearn.tree import DecisionTreeClassifier\n",
        "from sklearn.preprocessing import StandardScaler\n",
        "from sklearn.model_selection import train_test_split\n",
        "from sklearn.metrics import confusion_matrix, accuracy_score"
      ]
    },
    {
      "cell_type": "code",
      "execution_count": 2,
      "metadata": {
        "id": "2N1Xb4IG1EKl"
      },
      "outputs": [],
      "source": [
        "mf=loadmat('./annualrainfall.mat')"
      ]
    },
    {
      "cell_type": "code",
      "execution_count": 3,
      "metadata": {
        "colab": {
          "base_uri": "https://localhost:8080/"
        },
        "id": "YRWrDPQoCA_O",
        "outputId": "0da9f64f-5448-4aaf-e322-d04e5dd51f67"
      },
      "outputs": [
        {
          "data": {
            "text/plain": [
              "(357, 118)"
            ]
          },
          "execution_count": 3,
          "metadata": {},
          "output_type": "execute_result"
        }
      ],
      "source": [
        "df=pd.DataFrame(mf['XR'])\n",
        "df.shape"
      ]
    },
    {
      "cell_type": "code",
      "execution_count": 4,
      "metadata": {
        "colab": {
          "base_uri": "https://localhost:8080/",
          "height": 487
        },
        "id": "FvvrBaBxCJKj",
        "outputId": "fcfdf029-9f00-423e-effb-53c335ef3371"
      },
      "outputs": [
        {
          "data": {
            "text/html": [
              "<div>\n",
              "<style scoped>\n",
              "    .dataframe tbody tr th:only-of-type {\n",
              "        vertical-align: middle;\n",
              "    }\n",
              "\n",
              "    .dataframe tbody tr th {\n",
              "        vertical-align: top;\n",
              "    }\n",
              "\n",
              "    .dataframe thead th {\n",
              "        text-align: right;\n",
              "    }\n",
              "</style>\n",
              "<table border=\"1\" class=\"dataframe\">\n",
              "  <thead>\n",
              "    <tr style=\"text-align: right;\">\n",
              "      <th></th>\n",
              "      <th>0</th>\n",
              "      <th>1</th>\n",
              "      <th>2</th>\n",
              "      <th>3</th>\n",
              "      <th>4</th>\n",
              "      <th>5</th>\n",
              "      <th>6</th>\n",
              "      <th>7</th>\n",
              "      <th>8</th>\n",
              "      <th>9</th>\n",
              "      <th>...</th>\n",
              "      <th>108</th>\n",
              "      <th>109</th>\n",
              "      <th>110</th>\n",
              "      <th>111</th>\n",
              "      <th>112</th>\n",
              "      <th>113</th>\n",
              "      <th>114</th>\n",
              "      <th>115</th>\n",
              "      <th>116</th>\n",
              "      <th>117</th>\n",
              "    </tr>\n",
              "  </thead>\n",
              "  <tbody>\n",
              "    <tr>\n",
              "      <th>0</th>\n",
              "      <td>0.719022</td>\n",
              "      <td>2.572195</td>\n",
              "      <td>5.115582</td>\n",
              "      <td>0.509786</td>\n",
              "      <td>0.600234</td>\n",
              "      <td>4.217397</td>\n",
              "      <td>3.394793</td>\n",
              "      <td>2.776336</td>\n",
              "      <td>5.246690</td>\n",
              "      <td>2.870923</td>\n",
              "      <td>...</td>\n",
              "      <td>6.960845</td>\n",
              "      <td>6.511054</td>\n",
              "      <td>4.486057</td>\n",
              "      <td>3.190908</td>\n",
              "      <td>2.053494</td>\n",
              "      <td>1.366868</td>\n",
              "      <td>2.746204</td>\n",
              "      <td>2.418939</td>\n",
              "      <td>3.602588</td>\n",
              "      <td>0.274935</td>\n",
              "    </tr>\n",
              "    <tr>\n",
              "      <th>1</th>\n",
              "      <td>0.799972</td>\n",
              "      <td>2.358573</td>\n",
              "      <td>4.459389</td>\n",
              "      <td>0.649587</td>\n",
              "      <td>1.078375</td>\n",
              "      <td>4.126520</td>\n",
              "      <td>3.245645</td>\n",
              "      <td>2.841028</td>\n",
              "      <td>4.584479</td>\n",
              "      <td>2.771173</td>\n",
              "      <td>...</td>\n",
              "      <td>6.964754</td>\n",
              "      <td>6.462295</td>\n",
              "      <td>3.483775</td>\n",
              "      <td>3.183151</td>\n",
              "      <td>1.549078</td>\n",
              "      <td>1.186168</td>\n",
              "      <td>2.879098</td>\n",
              "      <td>2.404098</td>\n",
              "      <td>2.857377</td>\n",
              "      <td>0.133504</td>\n",
              "    </tr>\n",
              "    <tr>\n",
              "      <th>2</th>\n",
              "      <td>1.116379</td>\n",
              "      <td>3.817571</td>\n",
              "      <td>5.715812</td>\n",
              "      <td>1.357004</td>\n",
              "      <td>1.584306</td>\n",
              "      <td>5.746037</td>\n",
              "      <td>4.469713</td>\n",
              "      <td>5.190642</td>\n",
              "      <td>5.284658</td>\n",
              "      <td>5.268513</td>\n",
              "      <td>...</td>\n",
              "      <td>9.766168</td>\n",
              "      <td>11.539829</td>\n",
              "      <td>8.832029</td>\n",
              "      <td>3.230743</td>\n",
              "      <td>8.255847</td>\n",
              "      <td>6.823443</td>\n",
              "      <td>3.584699</td>\n",
              "      <td>4.593279</td>\n",
              "      <td>5.954699</td>\n",
              "      <td>3.754372</td>\n",
              "    </tr>\n",
              "    <tr>\n",
              "      <th>3</th>\n",
              "      <td>0.764488</td>\n",
              "      <td>2.544322</td>\n",
              "      <td>5.017730</td>\n",
              "      <td>0.584740</td>\n",
              "      <td>0.753628</td>\n",
              "      <td>4.234103</td>\n",
              "      <td>3.381529</td>\n",
              "      <td>2.851782</td>\n",
              "      <td>5.033902</td>\n",
              "      <td>2.984910</td>\n",
              "      <td>...</td>\n",
              "      <td>6.457876</td>\n",
              "      <td>11.260778</td>\n",
              "      <td>6.178331</td>\n",
              "      <td>3.098858</td>\n",
              "      <td>6.437519</td>\n",
              "      <td>4.277422</td>\n",
              "      <td>2.883681</td>\n",
              "      <td>3.478614</td>\n",
              "      <td>4.827943</td>\n",
              "      <td>1.997839</td>\n",
              "    </tr>\n",
              "    <tr>\n",
              "      <th>4</th>\n",
              "      <td>0.923383</td>\n",
              "      <td>1.777028</td>\n",
              "      <td>3.644102</td>\n",
              "      <td>0.878721</td>\n",
              "      <td>1.811034</td>\n",
              "      <td>4.045972</td>\n",
              "      <td>2.986376</td>\n",
              "      <td>2.789276</td>\n",
              "      <td>3.136766</td>\n",
              "      <td>2.756919</td>\n",
              "      <td>...</td>\n",
              "      <td>5.887419</td>\n",
              "      <td>6.470082</td>\n",
              "      <td>4.987229</td>\n",
              "      <td>2.611656</td>\n",
              "      <td>4.039705</td>\n",
              "      <td>2.206164</td>\n",
              "      <td>4.158557</td>\n",
              "      <td>2.259016</td>\n",
              "      <td>3.436328</td>\n",
              "      <td>0.772230</td>\n",
              "    </tr>\n",
              "    <tr>\n",
              "      <th>...</th>\n",
              "      <td>...</td>\n",
              "      <td>...</td>\n",
              "      <td>...</td>\n",
              "      <td>...</td>\n",
              "      <td>...</td>\n",
              "      <td>...</td>\n",
              "      <td>...</td>\n",
              "      <td>...</td>\n",
              "      <td>...</td>\n",
              "      <td>...</td>\n",
              "      <td>...</td>\n",
              "      <td>...</td>\n",
              "      <td>...</td>\n",
              "      <td>...</td>\n",
              "      <td>...</td>\n",
              "      <td>...</td>\n",
              "      <td>...</td>\n",
              "      <td>...</td>\n",
              "      <td>...</td>\n",
              "      <td>...</td>\n",
              "      <td>...</td>\n",
              "    </tr>\n",
              "    <tr>\n",
              "      <th>352</th>\n",
              "      <td>11.667012</td>\n",
              "      <td>10.112830</td>\n",
              "      <td>8.772028</td>\n",
              "      <td>9.474487</td>\n",
              "      <td>10.539118</td>\n",
              "      <td>9.743111</td>\n",
              "      <td>9.810959</td>\n",
              "      <td>7.989961</td>\n",
              "      <td>6.714614</td>\n",
              "      <td>11.071616</td>\n",
              "      <td>...</td>\n",
              "      <td>13.227870</td>\n",
              "      <td>15.360656</td>\n",
              "      <td>15.649163</td>\n",
              "      <td>2.618579</td>\n",
              "      <td>11.375820</td>\n",
              "      <td>10.714026</td>\n",
              "      <td>11.514526</td>\n",
              "      <td>12.326776</td>\n",
              "      <td>12.507195</td>\n",
              "      <td>6.993124</td>\n",
              "    </tr>\n",
              "    <tr>\n",
              "      <th>353</th>\n",
              "      <td>12.174392</td>\n",
              "      <td>10.391051</td>\n",
              "      <td>8.985728</td>\n",
              "      <td>9.726133</td>\n",
              "      <td>10.844063</td>\n",
              "      <td>9.891584</td>\n",
              "      <td>10.043453</td>\n",
              "      <td>8.160284</td>\n",
              "      <td>6.768865</td>\n",
              "      <td>11.316049</td>\n",
              "      <td>...</td>\n",
              "      <td>8.818579</td>\n",
              "      <td>10.239891</td>\n",
              "      <td>15.649180</td>\n",
              "      <td>0.748165</td>\n",
              "      <td>7.282279</td>\n",
              "      <td>8.934231</td>\n",
              "      <td>10.578962</td>\n",
              "      <td>15.889617</td>\n",
              "      <td>16.111749</td>\n",
              "      <td>9.299454</td>\n",
              "    </tr>\n",
              "    <tr>\n",
              "      <th>354</th>\n",
              "      <td>12.512038</td>\n",
              "      <td>10.737137</td>\n",
              "      <td>9.214482</td>\n",
              "      <td>9.926839</td>\n",
              "      <td>11.189535</td>\n",
              "      <td>10.131405</td>\n",
              "      <td>10.281626</td>\n",
              "      <td>8.343368</td>\n",
              "      <td>6.960496</td>\n",
              "      <td>11.575127</td>\n",
              "      <td>...</td>\n",
              "      <td>0.000000</td>\n",
              "      <td>0.000000</td>\n",
              "      <td>15.649180</td>\n",
              "      <td>0.000000</td>\n",
              "      <td>2.533607</td>\n",
              "      <td>2.478074</td>\n",
              "      <td>3.314754</td>\n",
              "      <td>13.483197</td>\n",
              "      <td>13.549385</td>\n",
              "      <td>7.486578</td>\n",
              "    </tr>\n",
              "    <tr>\n",
              "      <th>355</th>\n",
              "      <td>10.399852</td>\n",
              "      <td>9.187904</td>\n",
              "      <td>8.054785</td>\n",
              "      <td>8.654893</td>\n",
              "      <td>9.524974</td>\n",
              "      <td>9.148661</td>\n",
              "      <td>9.014105</td>\n",
              "      <td>7.378704</td>\n",
              "      <td>6.438608</td>\n",
              "      <td>10.206582</td>\n",
              "      <td>...</td>\n",
              "      <td>0.000000</td>\n",
              "      <td>0.000000</td>\n",
              "      <td>0.000000</td>\n",
              "      <td>0.000000</td>\n",
              "      <td>11.677049</td>\n",
              "      <td>10.736066</td>\n",
              "      <td>11.473770</td>\n",
              "      <td>11.768852</td>\n",
              "      <td>11.990656</td>\n",
              "      <td>6.316393</td>\n",
              "    </tr>\n",
              "    <tr>\n",
              "      <th>356</th>\n",
              "      <td>11.287784</td>\n",
              "      <td>9.791919</td>\n",
              "      <td>8.523733</td>\n",
              "      <td>9.182062</td>\n",
              "      <td>10.185022</td>\n",
              "      <td>9.519310</td>\n",
              "      <td>9.530632</td>\n",
              "      <td>7.772486</td>\n",
              "      <td>6.605469</td>\n",
              "      <td>10.761302</td>\n",
              "      <td>...</td>\n",
              "      <td>0.000000</td>\n",
              "      <td>0.000000</td>\n",
              "      <td>7.824590</td>\n",
              "      <td>0.000000</td>\n",
              "      <td>7.006230</td>\n",
              "      <td>6.441639</td>\n",
              "      <td>6.884262</td>\n",
              "      <td>7.061311</td>\n",
              "      <td>7.194590</td>\n",
              "      <td>3.789836</td>\n",
              "    </tr>\n",
              "  </tbody>\n",
              "</table>\n",
              "<p>357 rows × 118 columns</p>\n",
              "</div>"
            ],
            "text/plain": [
              "           0          1         2         3          4          5    \\\n",
              "0     0.719022   2.572195  5.115582  0.509786   0.600234   4.217397   \n",
              "1     0.799972   2.358573  4.459389  0.649587   1.078375   4.126520   \n",
              "2     1.116379   3.817571  5.715812  1.357004   1.584306   5.746037   \n",
              "3     0.764488   2.544322  5.017730  0.584740   0.753628   4.234103   \n",
              "4     0.923383   1.777028  3.644102  0.878721   1.811034   4.045972   \n",
              "..         ...        ...       ...       ...        ...        ...   \n",
              "352  11.667012  10.112830  8.772028  9.474487  10.539118   9.743111   \n",
              "353  12.174392  10.391051  8.985728  9.726133  10.844063   9.891584   \n",
              "354  12.512038  10.737137  9.214482  9.926839  11.189535  10.131405   \n",
              "355  10.399852   9.187904  8.054785  8.654893   9.524974   9.148661   \n",
              "356  11.287784   9.791919  8.523733  9.182062  10.185022   9.519310   \n",
              "\n",
              "           6         7         8          9    ...        108        109  \\\n",
              "0     3.394793  2.776336  5.246690   2.870923  ...   6.960845   6.511054   \n",
              "1     3.245645  2.841028  4.584479   2.771173  ...   6.964754   6.462295   \n",
              "2     4.469713  5.190642  5.284658   5.268513  ...   9.766168  11.539829   \n",
              "3     3.381529  2.851782  5.033902   2.984910  ...   6.457876  11.260778   \n",
              "4     2.986376  2.789276  3.136766   2.756919  ...   5.887419   6.470082   \n",
              "..         ...       ...       ...        ...  ...        ...        ...   \n",
              "352   9.810959  7.989961  6.714614  11.071616  ...  13.227870  15.360656   \n",
              "353  10.043453  8.160284  6.768865  11.316049  ...   8.818579  10.239891   \n",
              "354  10.281626  8.343368  6.960496  11.575127  ...   0.000000   0.000000   \n",
              "355   9.014105  7.378704  6.438608  10.206582  ...   0.000000   0.000000   \n",
              "356   9.530632  7.772486  6.605469  10.761302  ...   0.000000   0.000000   \n",
              "\n",
              "           110       111        112        113        114        115  \\\n",
              "0     4.486057  3.190908   2.053494   1.366868   2.746204   2.418939   \n",
              "1     3.483775  3.183151   1.549078   1.186168   2.879098   2.404098   \n",
              "2     8.832029  3.230743   8.255847   6.823443   3.584699   4.593279   \n",
              "3     6.178331  3.098858   6.437519   4.277422   2.883681   3.478614   \n",
              "4     4.987229  2.611656   4.039705   2.206164   4.158557   2.259016   \n",
              "..         ...       ...        ...        ...        ...        ...   \n",
              "352  15.649163  2.618579  11.375820  10.714026  11.514526  12.326776   \n",
              "353  15.649180  0.748165   7.282279   8.934231  10.578962  15.889617   \n",
              "354  15.649180  0.000000   2.533607   2.478074   3.314754  13.483197   \n",
              "355   0.000000  0.000000  11.677049  10.736066  11.473770  11.768852   \n",
              "356   7.824590  0.000000   7.006230   6.441639   6.884262   7.061311   \n",
              "\n",
              "           116       117  \n",
              "0     3.602588  0.274935  \n",
              "1     2.857377  0.133504  \n",
              "2     5.954699  3.754372  \n",
              "3     4.827943  1.997839  \n",
              "4     3.436328  0.772230  \n",
              "..         ...       ...  \n",
              "352  12.507195  6.993124  \n",
              "353  16.111749  9.299454  \n",
              "354  13.549385  7.486578  \n",
              "355  11.990656  6.316393  \n",
              "356   7.194590  3.789836  \n",
              "\n",
              "[357 rows x 118 columns]"
            ]
          },
          "execution_count": 4,
          "metadata": {},
          "output_type": "execute_result"
        }
      ],
      "source": [
        "df"
      ]
    },
    {
      "cell_type": "code",
      "execution_count": 5,
      "metadata": {
        "colab": {
          "base_uri": "https://localhost:8080/"
        },
        "id": "ODHtKTkfDnaT",
        "outputId": "252fdf05-2acd-4f65-bc1b-08310a5981d9"
      },
      "outputs": [
        {
          "name": "stdout",
          "output_type": "stream",
          "text": [
            "2731.5638988707724\n",
            "266.89890593445193\n"
          ]
        }
      ],
      "source": [
        "tt=[]\n",
        "for i in range(0,118):\n",
        "  tt.append(np.sum(np.array(df[i])))\n",
        "tt=np.array(tt)\n",
        "mn=np.mean(tt)\n",
        "std=np.std(tt)\n",
        "print(mn)\n",
        "print(std)\n"
      ]
    },
    {
      "cell_type": "code",
      "execution_count": 6,
      "metadata": {
        "colab": {
          "base_uri": "https://localhost:8080/"
        },
        "id": "JXkLGzt95nG2",
        "outputId": "84abc7c9-9193-4dd2-b344-ffe0acb2a0c3"
      },
      "outputs": [
        {
          "name": "stdout",
          "output_type": "stream",
          "text": [
            "118\n",
            "[-1  0  0 -1 -1  0  0  0  0  0 -1  0 -1  0 -1  1  1 -1  0  0  1  1  0  1\n",
            "  0  0  0  0  0  0  0  0  1  1  0  1  0  1  0  0  0  1  0  0  0  0  0  1\n",
            "  1  0 -1 -1  0  0  0  0  0  1  1  0  1  0  0  1 -1  0  0 -1  0  1  0 -1\n",
            "  0  0  1  0  0  0 -1  0  0 -1  1  0  0 -1 -1  1  0  0  0  0  0  0  0  0\n",
            "  0  0  0 -1  0 -1  0  0  0 -1  0  0 -1  0  0  0  0 -1 -1  0  0 -1]\n"
          ]
        }
      ],
      "source": [
        "yt=[]\n",
        "for i in range(0,118):\n",
        "  if(tt[i]>mn+std):\n",
        "    yt.append(1)\n",
        "  elif(tt[i]<mn-std):\n",
        "    yt.append(-1)\n",
        "  else:\n",
        "    yt.append(0)\n",
        "yt=np.array(yt)\n",
        "print(len(yt))\n",
        "print(yt)\n"
      ]
    },
    {
      "cell_type": "code",
      "execution_count": 7,
      "metadata": {
        "colab": {
          "base_uri": "https://localhost:8080/"
        },
        "id": "vfpYDuz5_5za",
        "outputId": "c48f6190-e71a-4cc0-9373-14054d0dec55"
      },
      "outputs": [
        {
          "name": "stdout",
          "output_type": "stream",
          "text": [
            "(118, 357)\n",
            "(118, 1)\n"
          ]
        }
      ],
      "source": [
        "X=df.T\n",
        "X=np.array(X)\n",
        "yt=yt.reshape(-1,1)\n",
        "print(X.shape)\n",
        "print(yt.shape)"
      ]
    },
    {
      "cell_type": "code",
      "execution_count": 8,
      "metadata": {
        "colab": {
          "base_uri": "https://localhost:8080/"
        },
        "id": "l0MGZ0Ji_57Y",
        "outputId": "02e0dbec-0352-48db-8356-5100a393c0c9"
      },
      "outputs": [
        {
          "name": "stdout",
          "output_type": "stream",
          "text": [
            "(100, 357)\n",
            "(100, 1)\n",
            "(18, 357)\n",
            "(18, 1)\n"
          ]
        }
      ],
      "source": [
        "clf = DecisionTreeClassifier(criterion = 'entropy', max_depth=10,random_state = 0)\n",
        "x_train=X[0:100]\n",
        "y_train=yt[0:100]\n",
        "x_test=X[100:]\n",
        "y_test=yt[100:]\n",
        "y_train=np.array(y_train)\n",
        "y_test=np.array(y_test)\n",
        "sc = StandardScaler()\n",
        "x_train = sc.fit_transform(x_train)\n",
        "x_test = sc.transform(x_test)\n",
        "print(x_train.shape)\n",
        "print(y_train.shape)\n",
        "print(x_test.shape)\n",
        "print(y_test.shape)\n"
      ]
    },
    {
      "cell_type": "code",
      "execution_count": 9,
      "metadata": {
        "colab": {
          "base_uri": "https://localhost:8080/"
        },
        "id": "KcgpPC4p_5-I",
        "outputId": "1b226b82-0776-455d-8235-09e4122853e1"
      },
      "outputs": [
        {
          "data": {
            "text/plain": [
              "0.5555555555555556"
            ]
          },
          "execution_count": 9,
          "metadata": {},
          "output_type": "execute_result"
        }
      ],
      "source": [
        "clf.fit(x_train, y_train)\n",
        "y_pred=clf.predict(x_test)\n",
        "accuracy_score(y_test, y_pred)"
      ]
    },
    {
      "cell_type": "code",
      "execution_count": 10,
      "metadata": {
        "colab": {
          "base_uri": "https://localhost:8080/"
        },
        "id": "-zWKLp4T_6C5",
        "outputId": "7c441a5a-07f6-461d-8d3e-b5831fe12367"
      },
      "outputs": [
        {
          "name": "stderr",
          "output_type": "stream",
          "text": [
            "/opt/homebrew/anaconda3/envs/dl/lib/python3.7/site-packages/ipykernel_launcher.py:2: DataConversionWarning: A column-vector y was passed when a 1d array was expected. Please change the shape of y to (n_samples,), for example using ravel().\n",
            "  \n"
          ]
        },
        {
          "data": {
            "text/plain": [
              "0.7222222222222222"
            ]
          },
          "execution_count": 10,
          "metadata": {},
          "output_type": "execute_result"
        }
      ],
      "source": [
        "rdmfclf = ensemble.RandomForestClassifier(n_estimators=20,max_depth=10)\n",
        "rdmfclf.fit(x_train, y_train)\n",
        "y_pred=rdmfclf.predict(x_test)\n",
        "accuracy_score(y_test, y_pred)"
      ]
    },
    {
      "cell_type": "markdown",
      "metadata": {
        "id": "r3R6_v8sSO0Z"
      },
      "source": [
        "<H4><b>The results improved using random forest with same depth as decision tree model but the accuarcy is still low</b></h4>"
      ]
    },
    {
      "cell_type": "code",
      "execution_count": 11,
      "metadata": {
        "colab": {
          "base_uri": "https://localhost:8080/",
          "height": 573
        },
        "id": "x2r8D2FDZh3o",
        "outputId": "37c5cf74-06cb-4eda-d846-cdf6a000d0ce"
      },
      "outputs": [
        {
          "data": {
            "image/png": "[encoded data removed]",
            "text/plain": [
              "<Figure size 432x288 with 1 Axes>"
            ]
          },
          "metadata": {
            "needs_background": "light"
          },
          "output_type": "display_data"
        },
        {
          "data": {
            "image/png": "[encoded data removed]",
            "text/plain": [
              "<Figure size 432x288 with 1 Axes>"
            ]
          },
          "metadata": {
            "needs_background": "light"
          },
          "output_type": "display_data"
        }
      ],
      "source": [
        "from sklearn.model_selection import cross_val_score\n",
        "from sklearn.model_selection import RepeatedStratifiedKFold\n",
        "scorestr=[]\n",
        "scorests=[]\n",
        "val = RepeatedStratifiedKFold(n_splits=5, n_repeats=5, random_state=1)\n",
        "for ti,tsi in val.split(x_train,y_train):\n",
        "  clf = DecisionTreeClassifier(criterion = 'entropy', max_depth=10,random_state = 0)\n",
        "  clf.fit(x_train[ti], y_train[ti])\n",
        "  y_pred=clf.predict(x_train[tsi])\n",
        "  scorestr.append(accuracy_score(y_train[tsi], y_pred))\n",
        "  y_pred=clf.predict(x_test)\n",
        "  scorests.append(accuracy_score(y_test, y_pred))\n",
        "\n",
        "fig = plt.figure()\n",
        "plt.plot(1-np.array(scorestr))\n",
        "plt.title(\"Trainig Error(Decision Tree)\")\n",
        "plt.xlabel(\"n\")\n",
        "plt.ylabel(\"Training Error\")\n",
        "plt.grid()\n",
        "\n",
        "fig = plt.figure()\n",
        "plt.plot(1-np.array(scorests))\n",
        "plt.title(\"Testing Error(Decision Tree)\")\n",
        "plt.xlabel(\"n\")\n",
        "plt.ylabel(\"Testing Error\")\n",
        "plt.grid()"
      ]
    },
    {
      "cell_type": "code",
      "execution_count": 12,
      "metadata": {
        "colab": {
          "base_uri": "https://localhost:8080/",
          "height": 573
        },
        "id": "V_t9BplOZi5X",
        "outputId": "a76af49b-285b-4e18-b424-709ca9350653"
      },
      "outputs": [
        {
          "data": {
            "image/png": "[encoded data removed]",
            "text/plain": [
              "<Figure size 432x288 with 1 Axes>"
            ]
          },
          "metadata": {
            "needs_background": "light"
          },
          "output_type": "display_data"
        },
        {
          "data": {
            "image/png": "[encoded data removed]",
            "text/plain": [
              "<Figure size 432x288 with 1 Axes>"
            ]
          },
          "metadata": {
            "needs_background": "light"
          },
          "output_type": "display_data"
        }
      ],
      "source": [
        "from sklearn.model_selection import cross_val_score\n",
        "from sklearn.model_selection import RepeatedStratifiedKFold\n",
        "y_test=list(y_test)\n",
        "scorestr=[]\n",
        "scorests=[]\n",
        "val = RepeatedStratifiedKFold(n_splits=5, n_repeats=5, random_state=1)\n",
        "for ti,tsi in val.split(x_train,y_train):\n",
        "  rdmfclf = ensemble.RandomForestClassifier(n_estimators=20,max_depth=10)\n",
        "  rdmfclf.fit(x_train[ti], y_train[ti].reshape(len(ti),))\n",
        "  y_pred=rdmfclf.predict(x_train[tsi])\n",
        "  scorestr.append(accuracy_score(y_train[tsi], y_pred))\n",
        "  y_pred=rdmfclf.predict(x_test)\n",
        "  scorests.append(accuracy_score(y_test, y_pred))\n",
        "\n",
        "fig = plt.figure()\n",
        "plt.plot(1-np.array(scorestr))\n",
        "plt.title(\"Trainig Error(Random Forest)\")\n",
        "plt.xlabel(\"n\")\n",
        "plt.ylabel(\"Training Error\")\n",
        "plt.grid()\n",
        "\n",
        "fig = plt.figure()\n",
        "plt.plot(1-np.array(scorests))\n",
        "plt.title(\"Testing Error(Random Forest)\")\n",
        "plt.xlabel(\"n\")\n",
        "plt.ylabel(\"Testing Error\")\n",
        "plt.grid()"
      ]
    },
    {
      "cell_type": "code",
      "execution_count": 13,
      "metadata": {
        "colab": {
          "base_uri": "https://localhost:8080/",
          "height": 487
        },
        "id": "_eC_SYuj_6HI",
        "outputId": "b730d2a3-a06e-4fcf-8a62-7b6cd5384206"
      },
      "outputs": [
        {
          "data": {
            "text/html": [
              "<div>\n",
              "<style scoped>\n",
              "    .dataframe tbody tr th:only-of-type {\n",
              "        vertical-align: middle;\n",
              "    }\n",
              "\n",
              "    .dataframe tbody tr th {\n",
              "        vertical-align: top;\n",
              "    }\n",
              "\n",
              "    .dataframe thead th {\n",
              "        text-align: right;\n",
              "    }\n",
              "</style>\n",
              "<table border=\"1\" class=\"dataframe\">\n",
              "  <thead>\n",
              "    <tr style=\"text-align: right;\">\n",
              "      <th></th>\n",
              "      <th>0</th>\n",
              "      <th>1</th>\n",
              "      <th>2</th>\n",
              "      <th>3</th>\n",
              "      <th>4</th>\n",
              "      <th>5</th>\n",
              "      <th>6</th>\n",
              "      <th>7</th>\n",
              "      <th>8</th>\n",
              "      <th>9</th>\n",
              "      <th>...</th>\n",
              "      <th>347</th>\n",
              "      <th>348</th>\n",
              "      <th>349</th>\n",
              "      <th>350</th>\n",
              "      <th>351</th>\n",
              "      <th>352</th>\n",
              "      <th>353</th>\n",
              "      <th>354</th>\n",
              "      <th>355</th>\n",
              "      <th>356</th>\n",
              "    </tr>\n",
              "  </thead>\n",
              "  <tbody>\n",
              "    <tr>\n",
              "      <th>0</th>\n",
              "      <td>0.719022</td>\n",
              "      <td>0.799972</td>\n",
              "      <td>1.116379</td>\n",
              "      <td>0.764488</td>\n",
              "      <td>0.923383</td>\n",
              "      <td>0.961330</td>\n",
              "      <td>0.558784</td>\n",
              "      <td>1.043538</td>\n",
              "      <td>2.035055</td>\n",
              "      <td>2.412407</td>\n",
              "      <td>...</td>\n",
              "      <td>13.020404</td>\n",
              "      <td>12.291794</td>\n",
              "      <td>12.565416</td>\n",
              "      <td>12.688719</td>\n",
              "      <td>12.852414</td>\n",
              "      <td>11.667012</td>\n",
              "      <td>12.174392</td>\n",
              "      <td>12.512038</td>\n",
              "      <td>10.399852</td>\n",
              "      <td>11.287784</td>\n",
              "    </tr>\n",
              "    <tr>\n",
              "      <th>1</th>\n",
              "      <td>2.572195</td>\n",
              "      <td>2.358573</td>\n",
              "      <td>3.817571</td>\n",
              "      <td>2.544322</td>\n",
              "      <td>1.777028</td>\n",
              "      <td>1.908791</td>\n",
              "      <td>0.716344</td>\n",
              "      <td>3.693454</td>\n",
              "      <td>6.151360</td>\n",
              "      <td>4.426207</td>\n",
              "      <td>...</td>\n",
              "      <td>11.486169</td>\n",
              "      <td>10.682952</td>\n",
              "      <td>10.680328</td>\n",
              "      <td>10.680328</td>\n",
              "      <td>11.080315</td>\n",
              "      <td>10.112830</td>\n",
              "      <td>10.391051</td>\n",
              "      <td>10.737137</td>\n",
              "      <td>9.187904</td>\n",
              "      <td>9.791919</td>\n",
              "    </tr>\n",
              "    <tr>\n",
              "      <th>2</th>\n",
              "      <td>5.115582</td>\n",
              "      <td>4.459389</td>\n",
              "      <td>5.715812</td>\n",
              "      <td>5.017730</td>\n",
              "      <td>3.644102</td>\n",
              "      <td>3.152490</td>\n",
              "      <td>1.511983</td>\n",
              "      <td>5.075399</td>\n",
              "      <td>7.259941</td>\n",
              "      <td>4.552429</td>\n",
              "      <td>...</td>\n",
              "      <td>9.685181</td>\n",
              "      <td>9.213934</td>\n",
              "      <td>9.213934</td>\n",
              "      <td>9.213934</td>\n",
              "      <td>9.445984</td>\n",
              "      <td>8.772028</td>\n",
              "      <td>8.985728</td>\n",
              "      <td>9.214482</td>\n",
              "      <td>8.054785</td>\n",
              "      <td>8.523733</td>\n",
              "    </tr>\n",
              "    <tr>\n",
              "      <th>3</th>\n",
              "      <td>0.509786</td>\n",
              "      <td>0.649587</td>\n",
              "      <td>1.357004</td>\n",
              "      <td>0.584740</td>\n",
              "      <td>0.878721</td>\n",
              "      <td>0.927881</td>\n",
              "      <td>0.002060</td>\n",
              "      <td>1.601084</td>\n",
              "      <td>2.431932</td>\n",
              "      <td>2.139452</td>\n",
              "      <td>...</td>\n",
              "      <td>10.281640</td>\n",
              "      <td>9.984426</td>\n",
              "      <td>9.984426</td>\n",
              "      <td>9.977869</td>\n",
              "      <td>10.129921</td>\n",
              "      <td>9.474487</td>\n",
              "      <td>9.726133</td>\n",
              "      <td>9.926839</td>\n",
              "      <td>8.654893</td>\n",
              "      <td>9.182062</td>\n",
              "    </tr>\n",
              "    <tr>\n",
              "      <th>4</th>\n",
              "      <td>0.600234</td>\n",
              "      <td>1.078375</td>\n",
              "      <td>1.584306</td>\n",
              "      <td>0.753628</td>\n",
              "      <td>1.811034</td>\n",
              "      <td>2.033962</td>\n",
              "      <td>0.332660</td>\n",
              "      <td>1.851805</td>\n",
              "      <td>3.144972</td>\n",
              "      <td>3.733844</td>\n",
              "      <td>...</td>\n",
              "      <td>11.919070</td>\n",
              "      <td>11.156557</td>\n",
              "      <td>11.156557</td>\n",
              "      <td>11.156557</td>\n",
              "      <td>11.543451</td>\n",
              "      <td>10.539118</td>\n",
              "      <td>10.844063</td>\n",
              "      <td>11.189535</td>\n",
              "      <td>9.524974</td>\n",
              "      <td>10.185022</td>\n",
              "    </tr>\n",
              "    <tr>\n",
              "      <th>...</th>\n",
              "      <td>...</td>\n",
              "      <td>...</td>\n",
              "      <td>...</td>\n",
              "      <td>...</td>\n",
              "      <td>...</td>\n",
              "      <td>...</td>\n",
              "      <td>...</td>\n",
              "      <td>...</td>\n",
              "      <td>...</td>\n",
              "      <td>...</td>\n",
              "      <td>...</td>\n",
              "      <td>...</td>\n",
              "      <td>...</td>\n",
              "      <td>...</td>\n",
              "      <td>...</td>\n",
              "      <td>...</td>\n",
              "      <td>...</td>\n",
              "      <td>...</td>\n",
              "      <td>...</td>\n",
              "      <td>...</td>\n",
              "      <td>...</td>\n",
              "    </tr>\n",
              "    <tr>\n",
              "      <th>113</th>\n",
              "      <td>1.366868</td>\n",
              "      <td>1.186168</td>\n",
              "      <td>6.823443</td>\n",
              "      <td>4.277422</td>\n",
              "      <td>2.206164</td>\n",
              "      <td>1.589344</td>\n",
              "      <td>0.461699</td>\n",
              "      <td>8.090047</td>\n",
              "      <td>6.431803</td>\n",
              "      <td>3.793574</td>\n",
              "      <td>...</td>\n",
              "      <td>19.492623</td>\n",
              "      <td>9.588069</td>\n",
              "      <td>11.486510</td>\n",
              "      <td>15.202033</td>\n",
              "      <td>13.460845</td>\n",
              "      <td>10.714026</td>\n",
              "      <td>8.934231</td>\n",
              "      <td>2.478074</td>\n",
              "      <td>10.736066</td>\n",
              "      <td>6.441639</td>\n",
              "    </tr>\n",
              "    <tr>\n",
              "      <th>114</th>\n",
              "      <td>2.746204</td>\n",
              "      <td>2.879098</td>\n",
              "      <td>3.584699</td>\n",
              "      <td>2.883681</td>\n",
              "      <td>4.158557</td>\n",
              "      <td>4.041173</td>\n",
              "      <td>1.381222</td>\n",
              "      <td>5.195433</td>\n",
              "      <td>5.669377</td>\n",
              "      <td>4.716033</td>\n",
              "      <td>...</td>\n",
              "      <td>19.923025</td>\n",
              "      <td>10.453825</td>\n",
              "      <td>12.877425</td>\n",
              "      <td>18.285770</td>\n",
              "      <td>16.592371</td>\n",
              "      <td>11.514526</td>\n",
              "      <td>10.578962</td>\n",
              "      <td>3.314754</td>\n",
              "      <td>11.473770</td>\n",
              "      <td>6.884262</td>\n",
              "    </tr>\n",
              "    <tr>\n",
              "      <th>115</th>\n",
              "      <td>2.418939</td>\n",
              "      <td>2.404098</td>\n",
              "      <td>4.593279</td>\n",
              "      <td>3.478614</td>\n",
              "      <td>2.259016</td>\n",
              "      <td>2.398361</td>\n",
              "      <td>0.510432</td>\n",
              "      <td>6.964637</td>\n",
              "      <td>5.594689</td>\n",
              "      <td>3.659803</td>\n",
              "      <td>...</td>\n",
              "      <td>23.554620</td>\n",
              "      <td>10.161202</td>\n",
              "      <td>12.871311</td>\n",
              "      <td>22.713115</td>\n",
              "      <td>25.299874</td>\n",
              "      <td>12.326776</td>\n",
              "      <td>15.889617</td>\n",
              "      <td>13.483197</td>\n",
              "      <td>11.768852</td>\n",
              "      <td>7.061311</td>\n",
              "    </tr>\n",
              "    <tr>\n",
              "      <th>116</th>\n",
              "      <td>3.602588</td>\n",
              "      <td>2.857377</td>\n",
              "      <td>5.954699</td>\n",
              "      <td>4.827943</td>\n",
              "      <td>3.436328</td>\n",
              "      <td>3.296091</td>\n",
              "      <td>1.115723</td>\n",
              "      <td>7.842740</td>\n",
              "      <td>6.508164</td>\n",
              "      <td>6.648262</td>\n",
              "      <td>...</td>\n",
              "      <td>20.899627</td>\n",
              "      <td>9.562750</td>\n",
              "      <td>13.303825</td>\n",
              "      <td>23.052164</td>\n",
              "      <td>24.712736</td>\n",
              "      <td>12.507195</td>\n",
              "      <td>16.111749</td>\n",
              "      <td>13.549385</td>\n",
              "      <td>11.990656</td>\n",
              "      <td>7.194590</td>\n",
              "    </tr>\n",
              "    <tr>\n",
              "      <th>117</th>\n",
              "      <td>0.274935</td>\n",
              "      <td>0.133504</td>\n",
              "      <td>3.754372</td>\n",
              "      <td>1.997839</td>\n",
              "      <td>0.772230</td>\n",
              "      <td>0.382535</td>\n",
              "      <td>0.403428</td>\n",
              "      <td>9.441101</td>\n",
              "      <td>5.254492</td>\n",
              "      <td>2.588689</td>\n",
              "      <td>...</td>\n",
              "      <td>10.555514</td>\n",
              "      <td>9.251548</td>\n",
              "      <td>9.705089</td>\n",
              "      <td>14.821869</td>\n",
              "      <td>14.414817</td>\n",
              "      <td>6.993124</td>\n",
              "      <td>9.299454</td>\n",
              "      <td>7.486578</td>\n",
              "      <td>6.316393</td>\n",
              "      <td>3.789836</td>\n",
              "    </tr>\n",
              "  </tbody>\n",
              "</table>\n",
              "<p>118 rows × 357 columns</p>\n",
              "</div>"
            ],
            "text/plain": [
              "          0         1         2         3         4         5         6    \\\n",
              "0    0.719022  0.799972  1.116379  0.764488  0.923383  0.961330  0.558784   \n",
              "1    2.572195  2.358573  3.817571  2.544322  1.777028  1.908791  0.716344   \n",
              "2    5.115582  4.459389  5.715812  5.017730  3.644102  3.152490  1.511983   \n",
              "3    0.509786  0.649587  1.357004  0.584740  0.878721  0.927881  0.002060   \n",
              "4    0.600234  1.078375  1.584306  0.753628  1.811034  2.033962  0.332660   \n",
              "..        ...       ...       ...       ...       ...       ...       ...   \n",
              "113  1.366868  1.186168  6.823443  4.277422  2.206164  1.589344  0.461699   \n",
              "114  2.746204  2.879098  3.584699  2.883681  4.158557  4.041173  1.381222   \n",
              "115  2.418939  2.404098  4.593279  3.478614  2.259016  2.398361  0.510432   \n",
              "116  3.602588  2.857377  5.954699  4.827943  3.436328  3.296091  1.115723   \n",
              "117  0.274935  0.133504  3.754372  1.997839  0.772230  0.382535  0.403428   \n",
              "\n",
              "          7         8         9    ...        347        348        349  \\\n",
              "0    1.043538  2.035055  2.412407  ...  13.020404  12.291794  12.565416   \n",
              "1    3.693454  6.151360  4.426207  ...  11.486169  10.682952  10.680328   \n",
              "2    5.075399  7.259941  4.552429  ...   9.685181   9.213934   9.213934   \n",
              "3    1.601084  2.431932  2.139452  ...  10.281640   9.984426   9.984426   \n",
              "4    1.851805  3.144972  3.733844  ...  11.919070  11.156557  11.156557   \n",
              "..        ...       ...       ...  ...        ...        ...        ...   \n",
              "113  8.090047  6.431803  3.793574  ...  19.492623   9.588069  11.486510   \n",
              "114  5.195433  5.669377  4.716033  ...  19.923025  10.453825  12.877425   \n",
              "115  6.964637  5.594689  3.659803  ...  23.554620  10.161202  12.871311   \n",
              "116  7.842740  6.508164  6.648262  ...  20.899627   9.562750  13.303825   \n",
              "117  9.441101  5.254492  2.588689  ...  10.555514   9.251548   9.705089   \n",
              "\n",
              "           350        351        352        353        354        355  \\\n",
              "0    12.688719  12.852414  11.667012  12.174392  12.512038  10.399852   \n",
              "1    10.680328  11.080315  10.112830  10.391051  10.737137   9.187904   \n",
              "2     9.213934   9.445984   8.772028   8.985728   9.214482   8.054785   \n",
              "3     9.977869  10.129921   9.474487   9.726133   9.926839   8.654893   \n",
              "4    11.156557  11.543451  10.539118  10.844063  11.189535   9.524974   \n",
              "..         ...        ...        ...        ...        ...        ...   \n",
              "113  15.202033  13.460845  10.714026   8.934231   2.478074  10.736066   \n",
              "114  18.285770  16.592371  11.514526  10.578962   3.314754  11.473770   \n",
              "115  22.713115  25.299874  12.326776  15.889617  13.483197  11.768852   \n",
              "116  23.052164  24.712736  12.507195  16.111749  13.549385  11.990656   \n",
              "117  14.821869  14.414817   6.993124   9.299454   7.486578   6.316393   \n",
              "\n",
              "           356  \n",
              "0    11.287784  \n",
              "1     9.791919  \n",
              "2     8.523733  \n",
              "3     9.182062  \n",
              "4    10.185022  \n",
              "..         ...  \n",
              "113   6.441639  \n",
              "114   6.884262  \n",
              "115   7.061311  \n",
              "116   7.194590  \n",
              "117   3.789836  \n",
              "\n",
              "[118 rows x 357 columns]"
            ]
          },
          "execution_count": 13,
          "metadata": {},
          "output_type": "execute_result"
        }
      ],
      "source": [
        "df2=pd.DataFrame(X)\n",
        "df2"
      ]
    },
    {
      "cell_type": "code",
      "execution_count": 14,
      "metadata": {
        "colab": {
          "base_uri": "https://localhost:8080/"
        },
        "id": "DfEX5D1HCNlX",
        "outputId": "32ffdc9c-8e21-49c4-f9cb-73c034ed3bc6"
      },
      "outputs": [
        {
          "name": "stdout",
          "output_type": "stream",
          "text": [
            "[2.879478463463494, 2.798380539571519, 4.678336546269584, 3.253127585465134, 2.86614660501283, 2.781171925813426, 1.014789979609927, 5.495714931877402, 6.854278138174216, 4.691441303757059, 3.066638583984233, 3.032655200493841, 1.9640573152470788, 1.3754962981718473, 1.1098625270174511, 1.097716307862206, 4.949258716625505, 4.513142145728291, 4.434803243935672, 4.214429004892388, 3.5787117962819663, 2.0676485815147334, 1.5513885511770558, 1.4303810487604904, 1.2669425925686564, 18.270223648587724, 16.27653886982014, 14.217112833668892, 6.663937785368113, 5.659682459174494, 5.366147863754425, 4.855361857638649, 2.77643994519049, 2.067958814237624, 1.656235635698744, 1.69111974123246, 1.4134268086969675, 2.5295833440155935, 21.001455423482973, 23.16731108439379, 26.76349123713807, 18.282041048947306, 21.369124835155652, 15.591643450968162, 9.46753022855668, 8.267111850508185, 6.172072998445741, 4.879956522050721, 4.257904265512979, 2.957228073572501, 2.1370024178963125, 1.7525305840095013, 1.4560465091049097, 1.849350211900975, 5.070551507567452, 3.8437307982618325, 3.3077351763525984, 2.974528025222146, 25.23572521220158, 28.575090665145833, 25.905579627634364, 13.50392834643039, 3.6985421918460806, 3.02970777939532, 3.001362799613326, 3.3764236649576116, 3.7393797619788347, 5.180736319674125, 6.474825428482837, 7.590687876069387, 5.946907365975082, 4.610447880646473, 3.6273380891307174, 2.673733085277591, 2.2627974655796175, 1.8926871118717605, 2.3132360489087227, 4.050089556669096, 6.769303631430008, 5.275358088486052, 4.691999541183417, 4.029674938921486, 3.431904527229637, 16.92288639499595, 20.822199955960794, 23.691907013092816, 15.118870979752087, 4.024726895652428, 2.862335246147597, 2.7861118652362578, 3.495902342450552, 4.187568778495808, 4.42562514634818, 5.293123326775405, 5.458799911666045, 6.77219558396647, 6.505984271922202, 6.260098160312452, 5.290608576100371, 4.017363769258562, 3.5428785089990575, 2.6866783208191247, 2.306882283503167, 3.2480220596540823, 4.869915125320904, 7.719525566742048, 5.604127763248427, 4.89771353478586, 4.4195392919626455, 3.7598829921801387, 8.928874074114118, 15.406688730427842, 13.289668484586908, 13.391311006605148, 2.376072579166684, 2.224159943405805, 2.090077452269055, 2.7074455627326746, 3.4276614352531958, 4.587391706896845, 5.484814206709529, 5.844408006218154, 5.4286345076073905, 6.601719575779522, 7.374772694848501, 7.433954833331693, 7.128150156665246, 6.237507598366049, 4.925055183672759, 4.61369116927644, 3.4413490012734544, 2.821952608973707, 4.762852663756907, 8.029137706527766, 14.024822849249015, 10.079788672426545, 6.284321502683708, 5.248242566340134, 3.5989877445074274, 1.6657734381240399, 1.7513199449021528, 2.1425689242468646, 3.166895452720008, 3.2798987212198596, 2.5726037167374645, 3.329202771031159, 4.157878832181566, 5.68485520144561, 6.477957629494483, 6.7152265147705785, 5.974905247012536, 6.510820375309786, 9.474141709467814, 9.018427052157625, 7.872612742597343, 6.470570165905689, 4.970622745259925, 4.38004050073262, 4.5350893210731815, 5.5987185573139895, 8.818439312253966, 4.801545279404283, 7.434535051877087, 9.639728310885612, 7.78047124620883, 6.419533223608779, 0.6508513497909629, 1.7794472558049366, 2.8039540114581674, 2.515790638425559, 3.6026925251252386, 2.9873791996519925, 3.162303525399014, 4.508377492951461, 4.346131408583777, 4.939285877451292, 6.556878478233855, 7.600753191173426, 7.618500971367572, 6.879076985957329, 9.081236087366266, 9.206243137935937, 7.327931587767641, 6.484092923977142, 5.221942671638896, 4.7414413111108065, 5.562608163440721, 7.982116178101453, 11.137690476643153, 3.311627225518044, 2.6881481547433363, 6.250514015572116, 6.906755552218838, 6.600257497158772, 5.960421783172546, 0.7695397650266637, 2.319724445118272, 3.085370431058921, 3.9487918888158386, 3.567547626866955, 2.4037414708499, 2.782498552413314, 3.646635210313228, 4.90204157895422, 6.777828934865764, 7.905963955045691, 9.053475928753977, 8.546199277352391, 8.34311318763585, 9.062142417614108, 8.240814350145241, 6.718911555862147, 5.177621341074928, 5.861521101901774, 7.413764579305678, 8.000328332784541, 7.568507686391618, 4.019411467317691, 2.291774515815289, 4.080672801623526, 5.441015482844298, 5.9998261084880715, 5.969812015342374, 3.4052794225694734, 3.2429018645774796, 2.6558824890836865, 4.048596094192179, 5.386381818871161, 6.824866810144352, 9.074056896429148, 10.233686013823108, 10.320824307240256, 13.143948919705501, 10.14880847405021, 9.731102617003803, 7.991510968935067, 6.915075446469952, 5.700245768467482, 6.736470820011402, 8.221957128930834, 11.048861807059671, 10.970022510651214, 5.394100662967635, 5.666758331996776, 6.918518222166626, 9.628001956496847, 10.105659231789497, 9.470650423756556, 8.582972170162016, 8.724047443407395, 8.753639251427096, 8.312951257966159, 6.33478008211086, 6.633327392484174, 8.0399269875692, 8.0627035629416, 5.805270831101627, 5.34975007983361, 8.084593478713346, 10.537651734862855, 9.663767891305506, 9.14403228474802, 10.495873183473348, 9.52561627521939, 8.178602524167685, 6.709558056671243, 7.14734534303099, 8.246525147955573, 4.611321767586662, 5.854238081227117, 7.751010912314059, 10.310092620204637, 10.492074000176062, 10.566504521287488, 8.895536547592956, 7.667559615986257, 7.012777139869857, 8.415918775476605, 9.129978596992514, 5.759486692877552, 6.186691290997569, 8.954519040685744, 10.826419349082114, 10.657532714914431, 8.837818805407155, 7.83059761027315, 7.163370577251942, 7.800861971526059, 9.199732779703472, 7.5433199064202014, 8.903449475393126, 8.900010296767078, 9.508109265154463, 9.155259542327022, 7.887976593707205, 7.22621746463297, 7.845005534723714, 9.169660465925105, 9.692549079808256, 8.976714268685239, 9.00105523656334, 8.981862905382455, 8.542245404869492, 8.543627924315475, 10.020551449278475, 9.46849915357159, 8.95533617149851, 9.448782509541362, 9.26737980282374, 11.466400672108856, 10.57136509099154, 9.931634843841481, 8.181032343866287, 8.894280351832684, 10.990912185125827, 21.133595198423173, 17.948415543847386, 16.68803644701783, 21.674619651091277, 19.780680168936172, 16.83299609145282, 18.73173506661738, 18.33163513651237, 10.763827268650246, 10.80358485529034, 10.85594361467625, 9.991131327110274, 10.197623694187591, 10.161012764924767, 11.905486747349219, 11.66415559603304, 10.935234944859518, 9.35239809954191, 10.072446251480324, 10.006981161463004, 10.712433822814514, 8.994391594103094, 7.894480927948824, 7.865004326180717, 9.815378025137651, 12.67402716027702, 17.24824444954798, 7.66785381596227, 8.672716744468298, 11.81528290829911, 17.81383864206568, 18.948224083805364, 19.802074638010584, 16.714962974660814, 18.1396315615831, 20.04596799997062, 19.854603045196107, 18.76288650275946, 19.35741412105323, 19.317926651487817, 18.627021693846263, 19.065611856563255]\n",
            "[2.0352988002486256, 2.0031108264642397, 2.3280491494327884, 1.9319083999492577, 1.703730316515386, 1.8505859549075456, 0.7871851346629868, 2.7048470075970372, 3.0262274445181117, 2.260691173442689, 1.7867380676428744, 1.6673813656815508, 1.278883735301361, 0.8279824205086186, 0.8082393310832632, 0.7930624352136673, 2.4743259815362473, 1.7233968138635014, 1.90127678344595, 1.8387166309214416, 2.0221725883486164, 1.2822263326446153, 0.8867406780755579, 0.7781460365164491, 0.7196586370285251, 4.5246511226324335, 4.390994142467918, 3.9139482592121206, 2.287695871778331, 2.2396199151877667, 2.3124555350509888, 2.312094907210578, 1.4316212772021504, 0.9455112262731922, 0.890455996945376, 0.7492016660769635, 0.7003557497305818, 1.8249015458161089, 3.7196042874507698, 4.864909566943333, 6.193953924256574, 7.544621598226707, 4.802070140601766, 4.151928844281234, 2.9692297033183332, 3.1956278401060403, 2.4233196475357053, 1.6796577735856715, 1.853651881832764, 1.3327543444252585, 1.1752629586797936, 0.8088596746185408, 0.7955561282729773, 0.9570943565602347, 2.5286378388801314, 2.035665496519565, 1.5613027107386237, 1.5526848400559232, 4.106223228549871, 5.014326838955627, 4.921114639603625, 3.792797913120488, 1.1656513755014761, 1.1655694335007376, 1.3259292144219263, 1.268935181949832, 1.1979187318380664, 1.8264465447303606, 2.0471731061545912, 2.738768978747742, 1.825271588615839, 1.5603857135169923, 1.488111503184594, 1.2751319933971246, 1.1382990845187684, 0.8675276665469155, 1.0581510931049474, 1.7905514468109922, 2.3418226778034517, 2.5932253955286555, 2.599014111456838, 1.9849132172703061, 1.660612572169994, 3.459222579565751, 5.0712705265777345, 7.017549795629105, 3.4630885613193216, 1.2673806000320573, 0.882494663247872, 0.8832290013853688, 1.11202448202201, 1.3613893931857717, 1.3968946417633392, 1.4362295199267832, 1.4684980756257224, 1.9050931133209295, 2.073297853508845, 1.7899865458574695, 1.7822102698705518, 1.410336426494897, 1.3623059244133249, 1.1772805370311692, 1.0703427793153772, 1.5161818383459555, 1.7093960250188283, 2.368020805292438, 2.9090242540851743, 2.714302688578227, 2.3375312111644115, 2.1162383554836053, 2.4671948146829696, 3.311003247821957, 3.9785772742083667, 4.4933723966069765, 0.9368045141261905, 0.9305576432870418, 0.8510345231649686, 1.0052176863309585, 1.0923268068585543, 1.4130714541079978, 1.5028676227338758, 1.542111328178621, 1.295170054367678, 1.7414213500477764, 1.9651659874394953, 2.368814977910415, 2.0129244171487084, 2.028804799371587, 1.7596352728476983, 1.6398046433770215, 1.4392178760602428, 1.37172857126206, 1.7963740560338242, 2.3110800089330747, 4.184996303693336, 3.9280460107439823, 3.7524423590866287, 3.051741494601034, 2.095943656729566, 1.993350982122753, 2.688572715803039, 0.7718815984002383, 0.9859117719421323, 1.1353084532608753, 1.0550309113577079, 0.9860559387142984, 1.242649062365465, 1.76834463702238, 1.8161085675442608, 1.9694053469472907, 1.4977975239454722, 1.8255830292121742, 2.4843431832867506, 2.0915475244376505, 2.3187014082520983, 1.7778291828966781, 1.6255942631212073, 1.4993206138662776, 1.7103150226385986, 1.6784477046570243, 3.9651268389847765, 2.034781350755359, 3.5550741426238366, 7.20042907988843, 5.361875936622545, 4.143801444998624, 1.7682102112054907, 1.684167900125783, 1.3009288523300495, 0.8667286115239378, 1.133246162832704, 0.9147729000379193, 1.1460083539896375, 1.542529714265189, 1.2513157623470272, 1.3318197801352292, 1.5882736326970717, 1.9825396096879608, 1.7248722814388056, 1.566493596571504, 2.1015117577060534, 2.3407861247901147, 2.0970611155424366, 1.8126669218746605, 1.7124056847431002, 1.4998079641393467, 2.0021789457692223, 2.292817668624779, 3.2881710279433736, 3.180220185070605, 2.109277643928069, 3.9872808115413596, 4.704442114942282, 4.455541028655341, 3.899954909168365, 0.6146492267183253, 1.0043252846045707, 0.8704248083093518, 1.3013442764203247, 1.059105253252114, 0.8721096406260941, 1.062706472702127, 1.0824013993364416, 1.352732934814193, 1.7449219573611605, 1.9649481132491693, 2.5381402634213774, 1.8727258867713286, 1.7800365770283397, 2.235419844598384, 2.3678577457273824, 1.891152279017247, 1.8418828235742593, 1.9137221956721175, 2.3066162959886864, 2.0605279498354405, 2.5851349926232707, 2.829429251862167, 2.1648002190584466, 2.7453311494416415, 3.6868244513015407, 4.065234475195983, 3.9743233176812396, 0.8785761124287883, 1.0477299188124505, 0.926839471423702, 1.1738550671075378, 1.601966330436703, 1.8457719492752498, 2.4592527690545256, 2.3007519025193193, 2.346077091940318, 3.759549793415763, 2.120484721330981, 2.4048498137700323, 1.9329213778848244, 1.9327083687920465, 2.1526404588356693, 2.2413077881542094, 2.145793465249818, 4.042037450631019, 4.623606508966897, 3.363429153351012, 1.5949708000289784, 1.7048981877274478, 1.9079902091919012, 1.9572278430932084, 2.022735767026446, 1.819137084163834, 1.508482351933594, 1.9464224411982884, 1.8667232632702606, 1.7928115055983367, 2.278493618063776, 2.3029928001193376, 2.022579762366935, 1.6035378333860923, 1.3814140635317174, 1.699135493211469, 2.225532693468256, 2.3177167248494968, 2.1943829853589123, 2.3673548241626325, 1.8302059906157477, 2.036211789598807, 1.8537469704790557, 2.1639685436833163, 2.5070693178274293, 1.2281737163863062, 1.070759525727682, 1.5697983533746298, 2.237459353303418, 2.3592446762639843, 1.9642492057141834, 1.8708428556742962, 1.831064639608216, 1.8661037321534188, 2.482453191654119, 2.290079989296036, 1.3752544107084212, 1.4405882890260227, 1.6898932367272244, 2.07587976861252, 2.830088806591529, 1.8486648782860213, 2.109323994916974, 1.8150854138453671, 2.1183474852503834, 2.2447072009326474, 1.671121632228863, 1.529930749605716, 1.6225771338086041, 2.4186296505260865, 1.675629042019684, 1.7035673220989946, 2.0997058802512725, 1.980765879843804, 1.8120652753991997, 1.893027258196811, 1.8987314724801057, 1.6720252155739648, 2.5381428146503358, 2.413509286013351, 2.316977824754031, 1.7707430935581172, 1.777383633506021, 1.7938806580101059, 2.2438081130996324, 2.237722050475948, 2.4799114053098794, 3.176378385216233, 2.3011435321236884, 2.409441100390121, 2.000789877407089, 2.4232404327638655, 3.674737563784171, 3.5831171488351097, 4.803234670636954, 4.760273970645663, 3.914040903805856, 4.746703734651037, 4.357653583014227, 4.639526191404743, 2.5693993962843633, 2.356355457204169, 3.542749345883248, 1.7815977160912795, 1.89095328383556, 2.090988243577813, 3.815236717187635, 2.8026010451803756, 2.279106285192226, 2.1805638488770493, 2.010817457040093, 1.8627915296488078, 2.340635812569404, 1.943464467599279, 1.7293288034903456, 1.584377350297858, 2.147121316838075, 3.751981093267388, 5.523170062443321, 1.9613783157700209, 2.1327017324137976, 3.1835013805963985, 6.726981672802726, 7.328013643412508, 8.03685514121907, 7.222022997698001, 7.372435626501051, 8.216799276946555, 8.691339906467459, 7.968766591150964, 8.60635008132156, 9.835775269582424, 9.66220126827039, 10.064099062499277]\n"
          ]
        }
      ],
      "source": [
        "mn2=[]\n",
        "std2=[]\n",
        "for i in range(0,357):\n",
        "  mean=np.mean(np.array(df2[i]))\n",
        "  std=np.std(np.array(df2[i]))\n",
        "  mn2.append(mean)\n",
        "  std2.append(std)\n",
        "print(mn2)\n",
        "print(std2)\n"
      ]
    },
    {
      "cell_type": "code",
      "execution_count": 15,
      "metadata": {
        "colab": {
          "base_uri": "https://localhost:8080/"
        },
        "id": "Zt1df7LgCNn1",
        "outputId": "1273bc19-2629-44dd-e5de-c778865d258f"
      },
      "outputs": [
        {
          "data": {
            "text/plain": [
              "(357, 118)"
            ]
          },
          "execution_count": 15,
          "metadata": {},
          "output_type": "execute_result"
        }
      ],
      "source": [
        "yt2=[]\n",
        "for i in range(0,357):\n",
        "  y=[]\n",
        "  for j in range(0,118):\n",
        "    if(df2.iloc[j,i]>mn2[i]+std2[i]):\n",
        "      y.append(1)\n",
        "    elif (df2.iloc[j,i]<mn2[i]-std2[i]):\n",
        "      y.append(-1)\n",
        "    else :\n",
        "      y.append(0)\n",
        "  yt2.append(y)\n",
        "yt2=np.array(yt2)\n",
        "yt2.shape"
      ]
    },
    {
      "cell_type": "code",
      "execution_count": 16,
      "metadata": {
        "colab": {
          "base_uri": "https://localhost:8080/"
        },
        "id": "xAcxJWX_F8mF",
        "outputId": "b2d367e7-200b-4504-c6aa-fd2af32bb6e4"
      },
      "outputs": [
        {
          "name": "stdout",
          "output_type": "stream",
          "text": [
            "(42126, 356)\n",
            "(42126,)\n"
          ]
        }
      ],
      "source": [
        "Xt2=[]\n",
        "ytr2=[]\n",
        "for i in range(0,357):\n",
        "  for j in range(0,118):\n",
        "    ytr2.append(yt2[i][j])\n",
        "    x=[]\n",
        "    for k in range(0,357):\n",
        "      if(k!=i):x.append(yt2[k][j])\n",
        "    Xt2.append(x)\n",
        "Xt2=np.array(Xt2)\n",
        "print(Xt2.shape)\n",
        "ytr2=np.array(ytr2)\n",
        "print(ytr2.shape)\n"
      ]
    },
    {
      "cell_type": "code",
      "execution_count": 17,
      "metadata": {
        "colab": {
          "base_uri": "https://localhost:8080/"
        },
        "id": "_uUVeKQlDm2t",
        "outputId": "993a8925-60ba-489c-af09-30c727f1e84b"
      },
      "outputs": [
        {
          "name": "stdout",
          "output_type": "stream",
          "text": [
            "(31594, 356)\n",
            "(31594,)\n",
            "(10532, 356)\n",
            "(10532,)\n"
          ]
        }
      ],
      "source": [
        "x_train2, x_test2, y_train2, y_test2 = train_test_split(Xt2, ytr2, test_size=0.25, stratify=ytr2)\n",
        "print(x_train2.shape)\n",
        "print(y_train2.shape)\n",
        "print(x_test2.shape)\n",
        "print(y_test2.shape)\n",
        "\n"
      ]
    },
    {
      "cell_type": "code",
      "execution_count": 18,
      "metadata": {
        "colab": {
          "base_uri": "https://localhost:8080/"
        },
        "id": "tBEReoaiMT5C",
        "outputId": "db1d859e-ec15-43d3-ebc0-90a285040e40"
      },
      "outputs": [
        {
          "data": {
            "text/plain": [
              "0.7184770224078997"
            ]
          },
          "execution_count": 18,
          "metadata": {},
          "output_type": "execute_result"
        }
      ],
      "source": [
        "clf = DecisionTreeClassifier(criterion = 'entropy', max_depth=10,random_state = 0)\n",
        "clf.fit(x_train2, y_train2)\n",
        "y_pred2=clf.predict(x_test2)\n",
        "accuracy_score(y_test2, y_pred2)"
      ]
    },
    {
      "cell_type": "code",
      "execution_count": 19,
      "metadata": {
        "colab": {
          "base_uri": "https://localhost:8080/"
        },
        "id": "Hh8jgL2yM4Qi",
        "outputId": "06d9107a-23cb-4cfa-8705-d2902bffd465"
      },
      "outputs": [
        {
          "data": {
            "text/plain": [
              "0.7263577668059248"
            ]
          },
          "execution_count": 19,
          "metadata": {},
          "output_type": "execute_result"
        }
      ],
      "source": [
        "rdmfclf = ensemble.RandomForestClassifier(n_estimators=20,max_depth=10)\n",
        "rdmfclf.fit(x_train2, y_train2)\n",
        "y_pred2=rdmfclf.predict(x_test2)\n",
        "accuracy_score(y_test2, y_pred2)"
      ]
    },
    {
      "cell_type": "code",
      "execution_count": 20,
      "metadata": {
        "colab": {
          "base_uri": "https://localhost:8080/",
          "height": 573
        },
        "id": "QF_g1HbERTDn",
        "outputId": "23960d58-3b20-40f8-e224-52d882f5fcde"
      },
      "outputs": [
        {
          "data": {
            "image/png": "[encoded data removed]",
            "text/plain": [
              "<Figure size 432x288 with 1 Axes>"
            ]
          },
          "metadata": {
            "needs_background": "light"
          },
          "output_type": "display_data"
        },
        {
          "data": {
            "image/png": "[encoded data removed]",
            "text/plain": [
              "<Figure size 432x288 with 1 Axes>"
            ]
          },
          "metadata": {
            "needs_background": "light"
          },
          "output_type": "display_data"
        }
      ],
      "source": [
        "from sklearn.model_selection import cross_val_score\n",
        "from sklearn.model_selection import RepeatedStratifiedKFold\n",
        "scorestr=[]\n",
        "scorests=[]\n",
        "val = RepeatedStratifiedKFold(n_splits=5, n_repeats=5, random_state=1)\n",
        "for ti,tsi in val.split(x_train2,y_train2):\n",
        "  clf = DecisionTreeClassifier(criterion = 'entropy', max_depth=10,random_state = 0)\n",
        "  clf.fit(x_train2[ti], y_train2[ti])\n",
        "  y_pred2=clf.predict(x_train2[tsi])\n",
        "  scorestr.append(accuracy_score(y_train2[tsi], y_pred2))\n",
        "  y_pred2=clf.predict(x_test2)\n",
        "  scorests.append(accuracy_score(y_test2, y_pred2))\n",
        "\n",
        "fig = plt.figure()\n",
        "plt.plot(1-np.array(scorestr))\n",
        "plt.title(\"Trainig Error(Decision Tree)\")\n",
        "plt.xlabel(\"n\")\n",
        "plt.ylabel(\"Training Error\")\n",
        "plt.grid()\n",
        "\n",
        "fig = plt.figure()\n",
        "plt.plot(1-np.array(scorests))\n",
        "plt.title(\"Testing Error(Decision tree)\")\n",
        "plt.xlabel(\"n\")\n",
        "plt.ylabel(\"Testing Error\")\n",
        "plt.grid()"
      ]
    },
    {
      "cell_type": "code",
      "execution_count": 21,
      "metadata": {
        "colab": {
          "base_uri": "https://localhost:8080/",
          "height": 573
        },
        "id": "xVa0Qldra-at",
        "outputId": "806828c2-e859-434b-f2cb-df9b4bfc7ec2"
      },
      "outputs": [
        {
          "data": {
            "image/png": "[encoded data removed]",
            "text/plain": [
              "<Figure size 432x288 with 1 Axes>"
            ]
          },
          "metadata": {
            "needs_background": "light"
          },
          "output_type": "display_data"
        },
        {
          "data": {
            "image/png": "[encoded data removed]",
            "text/plain": [
              "<Figure size 432x288 with 1 Axes>"
            ]
          },
          "metadata": {
            "needs_background": "light"
          },
          "output_type": "display_data"
        }
      ],
      "source": [
        "from sklearn.model_selection import cross_val_score\n",
        "from sklearn.model_selection import RepeatedStratifiedKFold\n",
        "scorestr=[]\n",
        "scorests=[]\n",
        "val = RepeatedStratifiedKFold(n_splits=5, n_repeats=5, random_state=1)\n",
        "for ti,tsi in val.split(x_train2,y_train2):\n",
        "  rdmfclf = ensemble.RandomForestClassifier(n_estimators=20,max_depth=10)\n",
        "  rdmfclf.fit(x_train2[ti], y_train2[ti])\n",
        "  y_pred2=rdmfclf.predict(x_train2[tsi])\n",
        "  scorestr.append(accuracy_score(y_train2[tsi], y_pred2))\n",
        "  y_pred2=rdmfclf.predict(x_test2)\n",
        "  scorests.append(accuracy_score(y_test2, y_pred2))\n",
        "\n",
        "fig = plt.figure()\n",
        "plt.plot(1-np.array(scorestr))\n",
        "plt.title(\"Trainig Error(Random Forest)\")\n",
        "plt.xlabel(\"n\")\n",
        "plt.ylabel(\"Training Error\")\n",
        "plt.grid()\n",
        "\n",
        "fig = plt.figure()\n",
        "plt.plot(1-np.array(scorests))\n",
        "plt.title(\"Testing Error(Random Forest)\")\n",
        "plt.xlabel(\"n\")\n",
        "plt.ylabel(\"Testing Error\")\n",
        "plt.grid()"
      ]
    },
    {
      "cell_type": "markdown",
      "metadata": {
        "id": "5KhPVwPPnT1H"
      },
      "source": [
        "<h1><b>Problem 2</b></h1>"
      ]
    },
    {
      "cell_type": "markdown",
      "metadata": {},
      "source": [
        "Name : Swapnanil Halder\n",
        "Roll NO. : 18MA20046"
      ]
    },
    {
      "cell_type": "code",
      "execution_count": 22,
      "metadata": {
        "id": "8Pr5u-M_M2yO"
      },
      "outputs": [],
      "source": [
        "import numpy as np\n",
        "import pandas as pd\n",
        "from sklearn import ensemble\n",
        "import matplotlib.pyplot as plt\n",
        "from sklearn.datasets import fetch_openml\n",
        "from sklearn.tree import DecisionTreeClassifier\n",
        "from sklearn.preprocessing import StandardScaler\n",
        "from sklearn.model_selection import train_test_split\n",
        "from sklearn.metrics import confusion_matrix, accuracy_score"
      ]
    },
    {
      "cell_type": "code",
      "execution_count": 23,
      "metadata": {
        "id": "MrEkt_xoC1K0"
      },
      "outputs": [],
      "source": [
        "X, y = fetch_openml(\"mnist_784\", version=1, return_X_y=True, as_frame=False)"
      ]
    },
    {
      "cell_type": "code",
      "execution_count": 24,
      "metadata": {
        "colab": {
          "base_uri": "https://localhost:8080/"
        },
        "id": "5sHQX8IJC6lf",
        "outputId": "87c5381b-870d-4bbb-b572-ffc2599d9896"
      },
      "outputs": [
        {
          "data": {
            "text/plain": [
              "(70000, 784)"
            ]
          },
          "execution_count": 24,
          "metadata": {},
          "output_type": "execute_result"
        }
      ],
      "source": [
        "X.shape"
      ]
    },
    {
      "cell_type": "code",
      "execution_count": 25,
      "metadata": {
        "id": "n69ZfjjzDMv9"
      },
      "outputs": [],
      "source": [
        "x_train, x_test, y_train, y_test = train_test_split(X, y, test_size=0.25, stratify=y)"
      ]
    },
    {
      "cell_type": "code",
      "execution_count": 26,
      "metadata": {
        "colab": {
          "base_uri": "https://localhost:8080/"
        },
        "id": "A8_LsYKlENQk",
        "outputId": "c4df0715-a1b8-441a-f5fc-880c34354df1"
      },
      "outputs": [
        {
          "data": {
            "text/plain": [
              "(array(['0', '1', '2', '3', '4', '5', '6', '7', '8', '9'], dtype=object),\n",
              " array([6903, 7877, 6990, 7141, 6824, 6313, 6876, 7293, 6825, 6958]))"
            ]
          },
          "execution_count": 26,
          "metadata": {},
          "output_type": "execute_result"
        }
      ],
      "source": [
        "np.unique(y, return_counts=True)"
      ]
    },
    {
      "cell_type": "code",
      "execution_count": 27,
      "metadata": {
        "colab": {
          "base_uri": "https://localhost:8080/"
        },
        "id": "cOseKf33Edeh",
        "outputId": "6e3baf5e-f91c-44ac-ccff-0bddd4ba8e50"
      },
      "outputs": [
        {
          "data": {
            "text/plain": [
              "(array(['0', '1', '2', '3', '4', '5', '6', '7', '8', '9'], dtype=object),\n",
              " array([1726, 1969, 1748, 1785, 1706, 1578, 1719, 1823, 1706, 1740]))"
            ]
          },
          "execution_count": 27,
          "metadata": {},
          "output_type": "execute_result"
        }
      ],
      "source": [
        "np.unique(y_test, return_counts=True)"
      ]
    },
    {
      "cell_type": "code",
      "execution_count": 28,
      "metadata": {
        "id": "_yWbLv56EqTH"
      },
      "outputs": [],
      "source": [
        "from sklearn.preprocessing import StandardScaler\n",
        "sc = StandardScaler()\n",
        "x_train = sc.fit_transform(x_train)\n",
        "x_test = sc.transform(x_test)"
      ]
    },
    {
      "cell_type": "code",
      "execution_count": 29,
      "metadata": {
        "colab": {
          "base_uri": "https://localhost:8080/"
        },
        "id": "KtnGxLI7FdWn",
        "outputId": "2496003f-6ea3-4b4f-92ea-8810b1474510"
      },
      "outputs": [
        {
          "data": {
            "text/plain": [
              "0.8818857142857143"
            ]
          },
          "execution_count": 29,
          "metadata": {},
          "output_type": "execute_result"
        }
      ],
      "source": [
        "from sklearn.tree import DecisionTreeClassifier\n",
        "classifier = DecisionTreeClassifier(criterion = 'entropy', max_depth=20,random_state = 0)\n",
        "classifier.fit(x_train, y_train)\n",
        "y_pred=classifier.predict(x_test)\n",
        "accuracy_score(y_test, y_pred)"
      ]
    },
    {
      "cell_type": "code",
      "execution_count": 30,
      "metadata": {
        "colab": {
          "base_uri": "https://localhost:8080/"
        },
        "id": "8f1wtH01GMur",
        "outputId": "14172583-b632-4939-ae93-adee01f7c188"
      },
      "outputs": [
        {
          "data": {
            "text/plain": [
              "0.8824571428571428"
            ]
          },
          "execution_count": 30,
          "metadata": {},
          "output_type": "execute_result"
        }
      ],
      "source": [
        "classifier = DecisionTreeClassifier(criterion = 'entropy', max_depth=50,random_state = 0)\n",
        "classifier.fit(x_train, y_train)\n",
        "y_pred=classifier.predict(x_test)\n",
        "accuracy_score(y_test, y_pred)"
      ]
    },
    {
      "cell_type": "code",
      "execution_count": 31,
      "metadata": {
        "id": "W15LHVR2GmqX"
      },
      "outputs": [],
      "source": [
        "from sklearn.model_selection import cross_val_score\n",
        "from sklearn.model_selection import RepeatedStratifiedKFold\n",
        "import numpy as np\n",
        "clf = DecisionTreeClassifier(criterion = 'entropy', max_depth=10,random_state = 0)\n",
        "val = RepeatedStratifiedKFold(n_splits=10, n_repeats=1, random_state=1)\n",
        "scores = cross_val_score(clf, X, y, scoring='accuracy', cv=val, n_jobs=-1)"
      ]
    },
    {
      "cell_type": "code",
      "execution_count": 32,
      "metadata": {
        "colab": {
          "base_uri": "https://localhost:8080/"
        },
        "id": "v-j8-sbyJy0z",
        "outputId": "ee43e736-a856-4ee7-b6d3-1785ed12ee44"
      },
      "outputs": [
        {
          "name": "stdout",
          "output_type": "stream",
          "text": [
            "0.8701428571428572\n",
            "0.0031075943842694283\n"
          ]
        }
      ],
      "source": [
        "print(np.mean(scores))\n",
        "print(np.std(scores))"
      ]
    },
    {
      "cell_type": "code",
      "execution_count": 33,
      "metadata": {
        "colab": {
          "base_uri": "https://localhost:8080/"
        },
        "id": "HRHt_ZarLnW8",
        "outputId": "c2ffd43b-4d25-4af4-a18e-e3513b6695da"
      },
      "outputs": [
        {
          "data": {
            "text/plain": [
              "0.9357714285714286"
            ]
          },
          "execution_count": 33,
          "metadata": {},
          "output_type": "execute_result"
        }
      ],
      "source": [
        "rdmfclf = ensemble.RandomForestClassifier(n_estimators=20,max_depth=10)\n",
        "rdmfclf.fit(x_train, y_train)\n",
        "y_pred=rdmfclf.predict(x_test)\n",
        "accuracy_score(y_test, y_pred)"
      ]
    },
    {
      "cell_type": "code",
      "execution_count": 34,
      "metadata": {
        "id": "_Soz0IIroTHi"
      },
      "outputs": [],
      "source": [
        "rdmfclf = ensemble.RandomForestClassifier(n_estimators=20,max_depth=10)\n",
        "val = RepeatedStratifiedKFold(n_splits=10, n_repeats=1, random_state=1)\n",
        "scores = cross_val_score(rdmfclf, X, y, scoring='accuracy', cv=val, n_jobs=-1)"
      ]
    },
    {
      "cell_type": "code",
      "execution_count": 35,
      "metadata": {
        "colab": {
          "base_uri": "https://localhost:8080/"
        },
        "id": "sVtZcTXpw0Nc",
        "outputId": "9eb583e7-5b11-4946-d4df-6cc789c1a4a4"
      },
      "outputs": [
        {
          "name": "stdout",
          "output_type": "stream",
          "text": [
            "0.9373285714285716\n",
            "0.002283078837795977\n"
          ]
        }
      ],
      "source": [
        "print(np.mean(scores))\n",
        "print(np.std(scores))"
      ]
    },
    {
      "cell_type": "code",
      "execution_count": null,
      "metadata": {
        "id": "dLLpS3cZG1AW"
      },
      "outputs": [],
      "source": []
    }
  ],
  "metadata": {
    "colab": {
      "name": "MLFA_Assignment4.ipynb",
      "provenance": []
    },
    "kernelspec": {
      "display_name": "Python 3",
      "name": "python3"
    },
    "language_info": {
      "codemirror_mode": {
        "name": "ipython",
        "version": 3
      },
      "file_extension": ".py",
      "mimetype": "text/x-python",
      "name": "python",
      "nbconvert_exporter": "python",
      "pygments_lexer": "ipython3",
      "version": "3.7.11"
    }
  },
  "nbformat": 4,
  "nbformat_minor": 0
}
