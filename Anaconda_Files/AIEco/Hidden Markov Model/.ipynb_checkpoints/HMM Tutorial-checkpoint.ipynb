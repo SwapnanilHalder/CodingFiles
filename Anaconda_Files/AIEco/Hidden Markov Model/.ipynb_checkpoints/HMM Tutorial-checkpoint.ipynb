{
 "cells": [
  {
   "cell_type": "code",
   "execution_count": 1,
   "metadata": {},
   "outputs": [
    {
     "ename": "ModuleNotFoundError",
     "evalue": "No module named 'torch'",
     "output_type": "error",
     "traceback": [
      "\u001b[0;31m---------------------------------------------------------------------------\u001b[0m",
      "\u001b[0;31mModuleNotFoundError\u001b[0m                       Traceback (most recent call last)",
      "\u001b[0;32m/tmp/ipykernel_24528/3682817957.py\u001b[0m in \u001b[0;36m<module>\u001b[0;34m\u001b[0m\n\u001b[0;32m----> 1\u001b[0;31m \u001b[0;32mimport\u001b[0m \u001b[0mtorch\u001b[0m\u001b[0;34m\u001b[0m\u001b[0;34m\u001b[0m\u001b[0m\n\u001b[0m\u001b[1;32m      2\u001b[0m \u001b[0;32mimport\u001b[0m \u001b[0mnumpy\u001b[0m \u001b[0;32mas\u001b[0m \u001b[0mnp\u001b[0m\u001b[0;34m\u001b[0m\u001b[0;34m\u001b[0m\u001b[0m\n\u001b[1;32m      3\u001b[0m \u001b[0;32mfrom\u001b[0m \u001b[0m__future__\u001b[0m \u001b[0;32mimport\u001b[0m \u001b[0mprint_function\u001b[0m\u001b[0;34m\u001b[0m\u001b[0;34m\u001b[0m\u001b[0m\n\u001b[1;32m      4\u001b[0m \u001b[0;32mimport\u001b[0m \u001b[0mmatplotlib\u001b[0m\u001b[0;34m.\u001b[0m\u001b[0mpyplot\u001b[0m \u001b[0;32mas\u001b[0m \u001b[0mplt\u001b[0m\u001b[0;34m\u001b[0m\u001b[0;34m\u001b[0m\u001b[0m\n\u001b[1;32m      5\u001b[0m \u001b[0;32mimport\u001b[0m \u001b[0mpandas\u001b[0m \u001b[0;32mas\u001b[0m \u001b[0mpd\u001b[0m\u001b[0;34m\u001b[0m\u001b[0;34m\u001b[0m\u001b[0m\n",
      "\u001b[0;31mModuleNotFoundError\u001b[0m: No module named 'torch'"
     ]
    }
   ],
   "source": [
    "import torch\n",
    "import numpy as np\n",
    "from __future__ import print_function\n",
    "import matplotlib.pyplot as plt\n",
    "import pandas as pd\n",
    "import random\n",
    "\n",
    "from HiddenMarkovModel import HiddenMarkovModel"
   ]
  },
  {
   "cell_type": "markdown",
   "metadata": {},
   "source": [
    "# Data generator"
   ]
  },
  {
   "cell_type": "code",
   "execution_count": 30,
   "metadata": {},
   "outputs": [],
   "source": [
    "num_obs=50\n",
    "num_states=2\n",
    "diff_obs=4"
   ]
  },
  {
   "cell_type": "code",
   "execution_count": 31,
   "metadata": {},
   "outputs": [
    {
     "name": "stdout",
     "output_type": "stream",
     "text": [
      "[3 3 1 3 0 3 2 2 3 3 0 1 3 3 2 2 2 0 2 3 3 2 2 0 1 2 0 2 2 3 3 0 1 3 3 3 3\n",
      " 0 0 3 1 0 3 2 3 1 0 3 1 2]\n"
     ]
    }
   ],
   "source": [
    "#We consider a dataset of weather conditions (Sunny/Rainy/Cloudy) taken on a daily basis\n",
    "\n",
    "train_seq=np.zeros(num_obs)\n",
    "for t in range(num_obs):\n",
    "    train_seq[t]=random.randint(0,diff_obs-1)\n",
    "train_seq=train_seq.astype(np.int64)\n",
    "print(train_seq)"
   ]
  },
  {
   "cell_type": "code",
   "execution_count": 24,
   "metadata": {},
   "outputs": [
    {
     "name": "stdout",
     "output_type": "stream",
     "text": [
      "[2 1 1 0 0 0 0 1 1 2 0 0 0 2 0 2 2 2 0 0 0 1 0 2 2 1 1 2 0 0 0 2 2 2 0 2 2\n",
      " 0 0 0 2 0 0 2 2 2 2 1 2 0]\n"
     ]
    }
   ],
   "source": [
    "#We consider a dataset of weather conditions (Sunny/Rainy/Cloudy) taken on a daily basis\n",
    "\n",
    "test_seq=np.zeros(num_obs)\n",
    "for t in range(num_obs):\n",
    "    test_seq[t]=random.randint(0,diff_obs-1)\n",
    "test_seq=test_seq.astype(np.int64)\n",
    "print(test_seq)"
   ]
  },
  {
   "cell_type": "markdown",
   "metadata": {},
   "source": [
    "# Initialize the HMM"
   ]
  },
  {
   "cell_type": "code",
   "execution_count": 25,
   "metadata": {},
   "outputs": [
    {
     "name": "stdout",
     "output_type": "stream",
     "text": [
      "[0.55569998 0.44430002]\n",
      "[[0.51941943 0.48058057]\n",
      " [0.00742439 0.99257561]]\n",
      "[[0.35183608 0.22807354]\n",
      " [0.36418427 0.39869684]\n",
      " [0.28397965 0.37322962]]\n"
     ]
    }
   ],
   "source": [
    "init_pi = np.array(np.random.random(num_states))\n",
    "init_pi = init_pi/init_pi.sum(axis=0,keepdims=1)\n",
    "\n",
    "init_T = np.array(np.random.random((num_states,num_states)))\n",
    "init_T = init_T/init_T.sum(axis=1,keepdims=1)\n",
    "\n",
    "init_E = np.array(np.random.random((diff_obs,num_states)))\n",
    "init_E = init_E/init_E.sum(axis=0,keepdims=1)\n",
    "print(init_pi)\n",
    "print(init_T)\n",
    "print(init_E)"
   ]
  },
  {
   "cell_type": "code",
   "execution_count": 26,
   "metadata": {},
   "outputs": [],
   "source": [
    "model =  HiddenMarkovModel(init_T, init_E, init_pi, epsilon=0.001, maxStep=1000)"
   ]
  },
  {
   "cell_type": "markdown",
   "metadata": {},
   "source": [
    "# Training (Baum-Welch)"
   ]
  },
  {
   "cell_type": "code",
   "execution_count": 27,
   "metadata": {},
   "outputs": [
    {
     "name": "stdout",
     "output_type": "stream",
     "text": [
      "converged at step 18\n",
      "Transition Matrix: \n",
      "tensor([[6.4375e-04, 9.9936e-01],\n",
      "        [2.6310e-01, 7.3690e-01]], dtype=torch.float64)\n",
      "\n",
      "Emission Matrix: \n",
      "tensor([[1.2924e-06, 2.8564e-01],\n",
      "        [2.6858e-06, 5.4748e-01],\n",
      "        [1.0000e+00, 1.6688e-01]], dtype=torch.float64)\n",
      "\n",
      "Reached Convergence: \n",
      "True\n"
     ]
    }
   ],
   "source": [
    "trans0, transition, emission, converge = model.Baum_Welch_EM(train_seq)\n",
    "\n",
    "print(\"Transition Matrix: \")\n",
    "print(transition)\n",
    "print()\n",
    "print(\"Emission Matrix: \")\n",
    "print(emission)\n",
    "print()\n",
    "print(\"Reached Convergence: \")\n",
    "print(converge)"
   ]
  },
  {
   "cell_type": "markdown",
   "metadata": {},
   "source": [
    "# Finding the most likely hidden states sequence"
   ]
  },
  {
   "cell_type": "code",
   "execution_count": 28,
   "metadata": {},
   "outputs": [],
   "source": [
    "states_seq, state_prob = model.viterbi_inference(test_seq)"
   ]
  },
  {
   "cell_type": "code",
   "execution_count": 29,
   "metadata": {},
   "outputs": [
    {
     "name": "stdout",
     "output_type": "stream",
     "text": [
      "tensor([0, 1, 1, 1, 1, 1, 1, 1, 1, 0, 1, 1, 1, 0, 1, 0, 1, 0, 1, 1, 1, 1, 1, 0,\n",
      "        1, 1, 1, 0, 1, 1, 1, 0, 1, 0, 1, 1, 0, 1, 1, 1, 0, 1, 1, 1, 0, 1, 0, 1,\n",
      "        0, 1])\n"
     ]
    }
   ],
   "source": [
    "print(states_seq)"
   ]
  },
  {
   "cell_type": "markdown",
   "metadata": {},
   "source": [
    "# Compute max. Likelihood of Test Sequence"
   ]
  },
  {
   "cell_type": "code",
   "execution_count": 18,
   "metadata": {},
   "outputs": [
    {
     "name": "stdout",
     "output_type": "stream",
     "text": [
      "tensor([ 1.0000e+00, 6.1619e-120], dtype=torch.float64)\n"
     ]
    }
   ],
   "source": [
    "print(trans0)"
   ]
  },
  {
   "cell_type": "code",
   "execution_count": 19,
   "metadata": {},
   "outputs": [],
   "source": [
    "def forward(T,N,test):\n",
    "    fwd=np.zeros((N, T))\n",
    "    for s in range(N):\n",
    "        fwd[s][0]=trans0[s]*emission[0][s]\n",
    "    for t in range(1,T):\n",
    "        for s in range(N):\n",
    "            sum=0\n",
    "            for s_prev in range(N):\n",
    "                #print(s_prev)\n",
    "                sum += fwd[s_prev][t-1]*transition[s_prev][s]*emission[test[t]][s]\n",
    "            fwd[s][t]=sum\n",
    "    fwd_prob=0\n",
    "    for s in range(N):\n",
    "        fwd_prob += fwd[s][T-1]\n",
    "    #print(fwd)\n",
    "    return fwd_prob"
   ]
  },
  {
   "cell_type": "code",
   "execution_count": 20,
   "metadata": {},
   "outputs": [
    {
     "name": "stdout",
     "output_type": "stream",
     "text": [
      "9.842517610745748e-25\n"
     ]
    }
   ],
   "source": [
    "print(forward(num_obs,num_states,test_seq))"
   ]
  },
  {
   "cell_type": "code",
   "execution_count": null,
   "metadata": {},
   "outputs": [],
   "source": []
  }
 ],
 "metadata": {
  "kernelspec": {
   "display_name": "Python 3 (ipykernel)",
   "language": "python",
   "name": "python3"
  },
  "language_info": {
   "codemirror_mode": {
    "name": "ipython",
    "version": 3
   },
   "file_extension": ".py",
   "mimetype": "text/x-python",
   "name": "python",
   "nbconvert_exporter": "python",
   "pygments_lexer": "ipython3",
   "version": "3.8.11"
  }
 },
 "nbformat": 4,
 "nbformat_minor": 4
}
