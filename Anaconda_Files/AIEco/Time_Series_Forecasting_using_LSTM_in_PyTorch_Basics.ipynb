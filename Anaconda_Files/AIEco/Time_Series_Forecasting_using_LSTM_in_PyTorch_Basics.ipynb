{
 "cells": [
  {
   "cell_type": "markdown",
   "id": "sZFx92ci4iX4",
   "metadata": {
    "id": "sZFx92ci4iX4"
   },
   "source": [
    "# Installing and Importing Libraries"
   ]
  },
  {
   "cell_type": "code",
   "execution_count": 1,
   "id": "binding-franklin",
   "metadata": {
    "_kg_hide-output": true,
    "colab": {
     "base_uri": "https://localhost:8080/",
     "height": 564
    },
    "execution": {
     "iopub.execute_input": "2021-06-05T16:13:46.278709Z",
     "iopub.status.busy": "2021-06-05T16:13:46.277248Z",
     "iopub.status.idle": "2021-06-05T16:13:54.103704Z",
     "shell.execute_reply": "2021-06-05T16:13:54.102791Z",
     "shell.execute_reply.started": "2021-06-04T18:50:04.030797Z"
    },
    "id": "binding-franklin",
    "outputId": "8b63cc5e-4b20-41ed-aa68-cbd283a200c7",
    "papermill": {
     "duration": 7.849193,
     "end_time": "2021-06-05T16:13:54.103872",
     "exception": false,
     "start_time": "2021-06-05T16:13:46.254679",
     "status": "completed"
    },
    "tags": []
   },
   "outputs": [
    {
     "name": "stdout",
     "output_type": "stream",
     "text": [
      "Collecting pandas==1.2.2\n",
      "  Downloading pandas-1.2.2-cp37-cp37m-manylinux1_x86_64.whl (9.9 MB)\n",
      "\u001b[K     |████████████████████████████████| 9.9 MB 31.1 MB/s \n",
      "\u001b[?25hRequirement already satisfied: numpy>=1.16.5 in /usr/local/lib/python3.7/dist-packages (from pandas==1.2.2) (1.19.5)\n",
      "Requirement already satisfied: pytz>=2017.3 in /usr/local/lib/python3.7/dist-packages (from pandas==1.2.2) (2018.9)\n",
      "Requirement already satisfied: python-dateutil>=2.7.3 in /usr/local/lib/python3.7/dist-packages (from pandas==1.2.2) (2.8.2)\n",
      "Requirement already satisfied: six>=1.5 in /usr/local/lib/python3.7/dist-packages (from python-dateutil>=2.7.3->pandas==1.2.2) (1.15.0)\n",
      "Installing collected packages: pandas\n",
      "  Attempting uninstall: pandas\n",
      "    Found existing installation: pandas 1.1.5\n",
      "    Uninstalling pandas-1.1.5:\n",
      "      Successfully uninstalled pandas-1.1.5\n",
      "\u001b[31mERROR: pip's dependency resolver does not currently take into account all the packages that are installed. This behaviour is the source of the following dependency conflicts.\n",
      "google-colab 1.0.0 requires pandas~=1.1.0; python_version >= \"3.0\", but you have pandas 1.2.2 which is incompatible.\u001b[0m\n",
      "Successfully installed pandas-1.2.2\n"
     ]
    },
    {
     "data": {
      "application/vnd.colab-display-data+json": {
       "pip_warning": {
        "packages": [
         "pandas"
        ]
       }
      }
     },
     "metadata": {},
     "output_type": "display_data"
    },
    {
     "name": "stdout",
     "output_type": "stream",
     "text": [
      "Requirement already satisfied: kaggle in /usr/local/lib/python3.7/dist-packages (1.5.12)\n",
      "Requirement already satisfied: urllib3 in /usr/local/lib/python3.7/dist-packages (from kaggle) (1.24.3)\n",
      "Requirement already satisfied: python-slugify in /usr/local/lib/python3.7/dist-packages (from kaggle) (5.0.2)\n",
      "Requirement already satisfied: python-dateutil in /usr/local/lib/python3.7/dist-packages (from kaggle) (2.8.2)\n",
      "Requirement already satisfied: requests in /usr/local/lib/python3.7/dist-packages (from kaggle) (2.23.0)\n",
      "Requirement already satisfied: certifi in /usr/local/lib/python3.7/dist-packages (from kaggle) (2021.5.30)\n",
      "Requirement already satisfied: six>=1.10 in /usr/local/lib/python3.7/dist-packages (from kaggle) (1.15.0)\n",
      "Requirement already satisfied: tqdm in /usr/local/lib/python3.7/dist-packages (from kaggle) (4.62.3)\n",
      "Requirement already satisfied: text-unidecode>=1.3 in /usr/local/lib/python3.7/dist-packages (from python-slugify->kaggle) (1.3)\n",
      "Requirement already satisfied: chardet<4,>=3.0.2 in /usr/local/lib/python3.7/dist-packages (from requests->kaggle) (3.0.4)\n",
      "Requirement already satisfied: idna<3,>=2.5 in /usr/local/lib/python3.7/dist-packages (from requests->kaggle) (2.10)\n"
     ]
    }
   ],
   "source": [
    "!pip install pandas==1.2.2\n",
    "!pip install kaggle"
   ]
  },
  {
   "cell_type": "code",
   "execution_count": 2,
   "id": "figured-turning",
   "metadata": {
    "execution": {
     "iopub.execute_input": "2021-06-05T16:13:54.162325Z",
     "iopub.status.busy": "2021-06-05T16:13:54.161552Z",
     "iopub.status.idle": "2021-06-05T16:14:05.685735Z",
     "shell.execute_reply": "2021-06-05T16:14:05.685265Z",
     "shell.execute_reply.started": "2021-06-04T19:12:27.669442Z"
    },
    "id": "figured-turning",
    "papermill": {
     "duration": 11.556607,
     "end_time": "2021-06-05T16:14:05.685867",
     "exception": false,
     "start_time": "2021-06-05T16:13:54.129260",
     "status": "completed"
    },
    "tags": []
   },
   "outputs": [],
   "source": [
    "import numpy as np\n",
    "import pandas as pd\n",
    "import copy\n",
    "from pathlib import Path\n",
    "import torch\n",
    "import torch.nn as nn\n",
    "from torch.autograd import Variable\n",
    "from sklearn.preprocessing import MinMaxScaler\n",
    "\n",
    "\n",
    "import matplotlib.pyplot as plt\n",
    "%matplotlib inline\n",
    "import warnings\n",
    "warnings.filterwarnings(\"ignore\")"
   ]
  },
  {
   "cell_type": "markdown",
   "id": "ChUfJqUP9JPa",
   "metadata": {
    "id": "ChUfJqUP9JPa"
   },
   "source": [
    "#Dataset I : Simple Forecasting using LSTM"
   ]
  },
  {
   "cell_type": "code",
   "execution_count": 3,
   "id": "7zKbDVMH8oIG",
   "metadata": {
    "colab": {
     "base_uri": "https://localhost:8080/"
    },
    "id": "7zKbDVMH8oIG",
    "outputId": "05b216fa-9e01-4650-d447-601a290ab62d"
   },
   "outputs": [
    {
     "name": "stdout",
     "output_type": "stream",
     "text": [
      "--2021-09-30 11:51:56--  https://raw.githubusercontent.com/jbrownlee/Datasets/master/airline-passengers.csv\n",
      "Resolving raw.githubusercontent.com (raw.githubusercontent.com)... 185.199.108.133, 185.199.109.133, 185.199.110.133, ...\n",
      "Connecting to raw.githubusercontent.com (raw.githubusercontent.com)|185.199.108.133|:443... connected.\n",
      "HTTP request sent, awaiting response... 200 OK\n",
      "Length: 2180 (2.1K) [text/plain]\n",
      "Saving to: ‘airline-passengers.csv’\n",
      "\n",
      "\r",
      "airline-passengers.   0%[                    ]       0  --.-KB/s               \r",
      "airline-passengers. 100%[===================>]   2.13K  --.-KB/s    in 0s      \n",
      "\n",
      "2021-09-30 11:51:57 (36.6 MB/s) - ‘airline-passengers.csv’ saved [2180/2180]\n",
      "\n"
     ]
    }
   ],
   "source": [
    "#Download the dataset \n",
    "\n",
    "!wget https://raw.githubusercontent.com/jbrownlee/Datasets/master/airline-passengers.csv\n",
    "#!wget https://raw.githubusercontent.com/jbrownlee/Datasets/master/shampoo.csv"
   ]
  },
  {
   "cell_type": "code",
   "execution_count": 4,
   "id": "YZcFNXCH8rH5",
   "metadata": {
    "colab": {
     "base_uri": "https://localhost:8080/"
    },
    "id": "YZcFNXCH8rH5",
    "outputId": "6e5ad39e-f0f6-4d26-fb5c-2c5893da3efd"
   },
   "outputs": [
    {
     "name": "stdout",
     "output_type": "stream",
     "text": [
      "       Month  Passengers\n",
      "0    1949-01         112\n",
      "1    1949-02         118\n",
      "2    1949-03         132\n",
      "3    1949-04         129\n",
      "4    1949-05         121\n",
      "..       ...         ...\n",
      "139  1960-08         606\n",
      "140  1960-09         508\n",
      "141  1960-10         461\n",
      "142  1960-11         390\n",
      "143  1960-12         432\n",
      "\n",
      "[144 rows x 2 columns]\n"
     ]
    }
   ],
   "source": [
    "# Read the files into a pandas DataFrame and visualize the data. \n",
    "training_set = pd.read_csv('/content/airline-passengers.csv')\n",
    "print(training_set)"
   ]
  },
  {
   "cell_type": "code",
   "execution_count": 5,
   "id": "8fLSXK0t8yQL",
   "metadata": {
    "colab": {
     "base_uri": "https://localhost:8080/",
     "height": 265
    },
    "id": "8fLSXK0t8yQL",
    "outputId": "dfc8137d-62ec-4156-f19f-5fb9599485e2"
   },
   "outputs": [
    {
     "data": {
      "image/png": "[encoded data removed]",
      "text/plain": [
       "<Figure size 432x288 with 1 Axes>"
      ]
     },
     "metadata": {
      "needs_background": "light"
     },
     "output_type": "display_data"
    }
   ],
   "source": [
    "# observe the parameter of interest over time for trend and sensonality aspects.  \n",
    "training_set = training_set.iloc[:,1:2].values\n",
    "plt.plot(training_set, label = 'Airline Passangers Data')\n",
    "plt.show()"
   ]
  },
  {
   "cell_type": "code",
   "execution_count": 6,
   "id": "9FtJSMVE85FU",
   "metadata": {
    "id": "9FtJSMVE85FU"
   },
   "outputs": [],
   "source": [
    "# Make sequences from the given data and split them into train and test sets. \n",
    "def sliding_windows(data, seq_length):\n",
    "    x = []\n",
    "    y = []\n",
    "\n",
    "    for i in range(len(data)-seq_length-1):\n",
    "        _x = data[i:(i+seq_length)]\n",
    "        _y = data[i+seq_length]\n",
    "        x.append(_x)\n",
    "        y.append(_y)\n",
    "\n",
    "    return np.array(x),np.array(y)\n",
    "\n",
    "sc = MinMaxScaler()\n",
    "training_data = sc.fit_transform(training_set)\n",
    "\n",
    "seq_length = 4\n",
    "x, y = sliding_windows(training_data, seq_length)\n",
    "\n",
    "train_size = int(len(y) * 0.67)\n",
    "test_size = len(y) - train_size\n",
    "\n",
    "dataX = Variable(torch.Tensor(np.array(x)))\n",
    "dataY = Variable(torch.Tensor(np.array(y)))\n",
    "\n",
    "trainX = Variable(torch.Tensor(np.array(x[0:train_size])))\n",
    "trainY = Variable(torch.Tensor(np.array(y[0:train_size])))\n",
    "\n",
    "testX = Variable(torch.Tensor(np.array(x[train_size:len(x)])))\n",
    "testY = Variable(torch.Tensor(np.array(y[train_size:len(y)])))"
   ]
  },
  {
   "cell_type": "code",
   "execution_count": 7,
   "id": "subject-avenue",
   "metadata": {
    "execution": {
     "iopub.execute_input": "2021-06-05T16:17:42.151243Z",
     "iopub.status.busy": "2021-06-05T16:17:42.150711Z",
     "iopub.status.idle": "2021-06-05T16:17:42.240375Z",
     "shell.execute_reply": "2021-06-05T16:17:42.239931Z",
     "shell.execute_reply.started": "2021-06-04T19:29:17.570477Z"
    },
    "id": "subject-avenue",
    "papermill": {
     "duration": 0.120114,
     "end_time": "2021-06-05T16:17:42.240497",
     "exception": false,
     "start_time": "2021-06-05T16:17:42.120383",
     "status": "completed"
    },
    "tags": []
   },
   "outputs": [],
   "source": [
    "# Defining an LSTM network followed by a fully connected layer. \n",
    "class LSTM(nn.Module):\n",
    "\n",
    "    def __init__(self, num_classes, input_size, hidden_size, num_layers):\n",
    "        super(LSTM, self).__init__()\n",
    "        \n",
    "        self.num_classes = num_classes\n",
    "        self.num_layers = num_layers\n",
    "        self.input_size = input_size\n",
    "        self.hidden_size = hidden_size\n",
    "        self.seq_length = seq_length\n",
    "        \n",
    "        self.lstm = nn.LSTM(input_size=input_size, hidden_size=hidden_size,\n",
    "                            num_layers=num_layers, batch_first=True)\n",
    "        \n",
    "        self.fc = nn.Linear(hidden_size, num_classes)\n",
    "\n",
    "    def forward(self, x):\n",
    "        h_0 = Variable(torch.zeros(\n",
    "            self.num_layers, x.size(0), self.hidden_size))\n",
    "        \n",
    "        c_0 = Variable(torch.zeros(\n",
    "            self.num_layers, x.size(0), self.hidden_size))\n",
    "        \n",
    "        # Propagate input through LSTM\n",
    "        ula, (h_out, _) = self.lstm(x, (h_0, c_0))\n",
    "        \n",
    "        h_out = h_out.view(-1, self.hidden_size)\n",
    "        \n",
    "        out = self.fc(h_out)\n",
    "        \n",
    "        return out\n"
   ]
  },
  {
   "cell_type": "code",
   "execution_count": 10,
   "id": "Y3raTyPF8j5X",
   "metadata": {
    "colab": {
     "base_uri": "https://localhost:8080/"
    },
    "id": "Y3raTyPF8j5X",
    "outputId": "f2af1b82-a568-4eba-ac4b-468868741cac"
   },
   "outputs": [
    {
     "name": "stdout",
     "output_type": "stream",
     "text": [
      "Epoch: 0, loss: 0.10723\n",
      "Epoch: 100, loss: 0.01651\n",
      "Epoch: 200, loss: 0.00343\n",
      "Epoch: 300, loss: 0.00275\n",
      "Epoch: 400, loss: 0.00222\n",
      "Epoch: 500, loss: 0.00188\n",
      "Epoch: 600, loss: 0.00174\n",
      "Epoch: 700, loss: 0.00172\n",
      "Epoch: 800, loss: 0.00171\n",
      "Epoch: 900, loss: 0.00170\n",
      "Epoch: 1000, loss: 0.00169\n",
      "Epoch: 1100, loss: 0.00169\n",
      "Epoch: 1200, loss: 0.00168\n",
      "Epoch: 1300, loss: 0.00167\n",
      "Epoch: 1400, loss: 0.00167\n",
      "Epoch: 1500, loss: 0.00166\n",
      "Epoch: 1600, loss: 0.00165\n",
      "Epoch: 1700, loss: 0.00165\n",
      "Epoch: 1800, loss: 0.00164\n",
      "Epoch: 1900, loss: 0.00163\n"
     ]
    }
   ],
   "source": [
    "num_epochs = 2000\n",
    "learning_rate = 0.01\n",
    "\n",
    "input_size = 1 # number of features per sample\n",
    "hidden_size = 2 \n",
    "num_layers = 1  # no. of LSTM blocks you require (>1 makes it a stacked LSTM). In case of stacked LSTMs your hidden_size parameter will be list of values.\n",
    "\n",
    "num_classes = 1 # = the number of items you are prediction for a particular time. (usually = 1)\n",
    "\n",
    "lstm = LSTM(num_classes, input_size, hidden_size, num_layers)\n",
    "\n",
    "criterion = torch.nn.MSELoss()    # mean-squared error for regression \n",
    "optimizer = torch.optim.Adam(lstm.parameters(), lr=learning_rate) \n",
    "#optimizer = torch.optim.SGD(lstm.parameters(), lr=learning_rate)\n",
    "\n",
    "# Train the model\n",
    "for epoch in range(num_epochs):\n",
    "    outputs = lstm(trainX)\n",
    "    optimizer.zero_grad() # clead the previous gradients before calculating new ones.\n",
    "    \n",
    "    # obtain the loss function\n",
    "    loss = criterion(outputs, trainY) # compute the loss\n",
    "    \n",
    "    loss.backward() # back propagate and compute the gradients.\n",
    "    \n",
    "    optimizer.step() #update the weights. \n",
    "    if epoch % 100 == 0:\n",
    "      print(\"Epoch: %d, loss: %1.5f\" % (epoch, loss.item()))"
   ]
  },
  {
   "cell_type": "code",
   "execution_count": 11,
   "id": "10PPkYrY9DO8",
   "metadata": {
    "colab": {
     "base_uri": "https://localhost:8080/",
     "height": 294
    },
    "id": "10PPkYrY9DO8",
    "outputId": "af7a380e-ba87-4689-d5dc-3d4bd50d739c"
   },
   "outputs": [
    {
     "data": {
      "image/png": "[encoded data removed]",
      "text/plain": [
       "<Figure size 432x288 with 1 Axes>"
      ]
     },
     "metadata": {
      "needs_background": "light"
     },
     "output_type": "display_data"
    }
   ],
   "source": [
    "#Evaluating and visualizing the predictions.\n",
    "lstm.eval() #puts the network/model in evaluation mode (gradients will not be calcualted.)\n",
    "train_predict = lstm(dataX)\n",
    "\n",
    "data_predict = train_predict.data.numpy()\n",
    "dataY_plot = dataY.data.numpy()\n",
    "\n",
    "data_predict = sc.inverse_transform(data_predict)\n",
    "dataY_plot = sc.inverse_transform(dataY_plot)\n",
    "\n",
    "plt.axvline(x=train_size, c='r', linestyle='--')\n",
    "\n",
    "plt.plot(dataY_plot)\n",
    "plt.plot(data_predict)\n",
    "plt.suptitle('Time-Series Prediction')\n",
    "plt.show()"
   ]
  },
  {
   "cell_type": "markdown",
   "id": "fd-d4mqQ9Tih",
   "metadata": {
    "id": "fd-d4mqQ9Tih"
   },
   "source": [
    "# Dataset II : Future Sales Prediction using LSTM"
   ]
  },
  {
   "cell_type": "markdown",
   "id": "xXVksZqp4IdN",
   "metadata": {
    "id": "xXVksZqp4IdN"
   },
   "source": [
    "# Importing Data from Kaggle"
   ]
  },
  {
   "cell_type": "code",
   "execution_count": 12,
   "id": "gSIOxoIraZjX",
   "metadata": {
    "id": "gSIOxoIraZjX"
   },
   "outputs": [],
   "source": [
    "! mkdir ~/.kaggle"
   ]
  },
  {
   "cell_type": "code",
   "execution_count": 13,
   "id": "iqdH9IOmads4",
   "metadata": {
    "id": "iqdH9IOmads4"
   },
   "outputs": [],
   "source": [
    "#you have to login to your kaggle account and download the API token which is used by them to authorize the download of ANY ddataset here.\n",
    "! cp kaggle.json ~/.kaggle/"
   ]
  },
  {
   "cell_type": "code",
   "execution_count": 14,
   "id": "ErzvV65PbN62",
   "metadata": {
    "id": "ErzvV65PbN62"
   },
   "outputs": [],
   "source": [
    "!mkdir /content/data"
   ]
  },
  {
   "cell_type": "code",
   "execution_count": 15,
   "id": "jd3RyKHdbSDW",
   "metadata": {
    "colab": {
     "base_uri": "https://localhost:8080/"
    },
    "id": "jd3RyKHdbSDW",
    "outputId": "12d03c4a-f8c7-44b3-e382-af70d9eb84fc"
   },
   "outputs": [
    {
     "name": "stdout",
     "output_type": "stream",
     "text": [
      "/content/data\n"
     ]
    }
   ],
   "source": [
    "cd /content/data/"
   ]
  },
  {
   "cell_type": "code",
   "execution_count": 16,
   "id": "T_KCxvH1OodQ",
   "metadata": {
    "colab": {
     "base_uri": "https://localhost:8080/"
    },
    "id": "T_KCxvH1OodQ",
    "outputId": "3251ab2c-45a4-4bcb-b608-f04d623ae4c2"
   },
   "outputs": [
    {
     "name": "stdout",
     "output_type": "stream",
     "text": [
      "Warning: Your Kaggle API key is readable by other users on this system! To fix this, you can run 'chmod 600 /root/.kaggle/kaggle.json'\n",
      "Warning: Looks like you're using an outdated API Version, please consider updating (server 1.5.12 / client 1.5.4)\n",
      "Downloading sales_train.csv.zip to /content/data\n",
      " 38% 5.00M/13.3M [00:00<00:00, 43.0MB/s]\n",
      "100% 13.3M/13.3M [00:00<00:00, 65.1MB/s]\n",
      "Downloading shops.csv to /content/data\n",
      "  0% 0.00/2.91k [00:00<?, ?B/s]\n",
      "100% 2.91k/2.91k [00:00<00:00, 2.98MB/s]\n",
      "Downloading item_categories.csv to /content/data\n",
      "  0% 0.00/3.49k [00:00<?, ?B/s]\n",
      "100% 3.49k/3.49k [00:00<00:00, 3.48MB/s]\n",
      "Downloading items.csv.zip to /content/data\n",
      "  0% 0.00/368k [00:00<?, ?B/s]\n",
      "100% 368k/368k [00:00<00:00, 24.6MB/s]\n",
      "Downloading test.csv.zip to /content/data\n",
      "  0% 0.00/1.02M [00:00<?, ?B/s]\n",
      "100% 1.02M/1.02M [00:00<00:00, 33.9MB/s]\n",
      "Downloading sample_submission.csv.zip to /content/data\n",
      "  0% 0.00/468k [00:00<?, ?B/s]\n",
      "100% 468k/468k [00:00<00:00, 31.2MB/s]\n"
     ]
    }
   ],
   "source": [
    "#every dataset has an associated API command, copy&paste it and run as below.\n",
    "!kaggle competitions download -c competitive-data-science-predict-future-sales"
   ]
  },
  {
   "cell_type": "code",
   "execution_count": 17,
   "id": "yUeYpi5Qb_YC",
   "metadata": {
    "colab": {
     "base_uri": "https://localhost:8080/"
    },
    "id": "yUeYpi5Qb_YC",
    "outputId": "a581c117-6cae-4ce9-ce87-8653918e3795"
   },
   "outputs": [
    {
     "name": "stdout",
     "output_type": "stream",
     "text": [
      "Archive:  /content/data/sales_train.csv.zip\n",
      "  inflating: sales_train.csv         \n",
      "unzip:  cannot find or open /content/data/items_categories.csv.zip, /content/data/items_categories.csv.zip.zip or /content/data/items_categories.csv.zip.ZIP.\n",
      "Archive:  /content/data/items.csv.zip\n",
      "  inflating: items.csv               \n",
      "Archive:  /content/data/sample_submission.csv.zip\n",
      "  inflating: sample_submission.csv   \n",
      "Archive:  /content/data/test.csv.zip\n",
      "  inflating: test.csv                \n"
     ]
    }
   ],
   "source": [
    "!unzip '/content/data/sales_train.csv.zip'\n",
    "!unzip '/content/data/items_categories.csv.zip'\n",
    "!unzip '/content/data/items.csv.zip'\n",
    "!unzip '/content/data/sample_submission.csv.zip'\n",
    "!unzip '/content/data/test.csv.zip'"
   ]
  },
  {
   "cell_type": "markdown",
   "id": "colored-oakland",
   "metadata": {
    "id": "colored-oakland",
    "papermill": {
     "duration": 0.018937,
     "end_time": "2021-06-05T16:13:46.197384",
     "exception": false,
     "start_time": "2021-06-05T16:13:46.178447",
     "status": "completed"
    },
    "tags": []
   },
   "source": [
    "#Preparing, Loading and Visualizations the Data\n"
   ]
  },
  {
   "cell_type": "code",
   "execution_count": 18,
   "id": "daily-crime",
   "metadata": {
    "execution": {
     "iopub.execute_input": "2021-06-05T16:14:05.789649Z",
     "iopub.status.busy": "2021-06-05T16:14:05.789008Z",
     "iopub.status.idle": "2021-06-05T16:14:08.418240Z",
     "shell.execute_reply": "2021-06-05T16:14:08.417431Z",
     "shell.execute_reply.started": "2021-06-04T19:12:38.197761Z"
    },
    "id": "daily-crime",
    "papermill": {
     "duration": 2.658998,
     "end_time": "2021-06-05T16:14:08.418376",
     "exception": false,
     "start_time": "2021-06-05T16:14:05.759378",
     "status": "completed"
    },
    "tags": []
   },
   "outputs": [],
   "source": [
    "path='/content/data/'\n",
    "df_train = pd.read_csv(path + 'sales_train.csv' ,parse_dates=['date']) #your training data.\n",
    "df_shops = pd.read_csv(path + 'shops.csv')  # data of shops => a mapping b/w shop id and shops.\n",
    "df_items = pd.read_csv(path + 'items.csv')  # data of items => a mapping b/w item id and items.\n",
    "df_item_categories = pd.read_csv(path + 'item_categories.csv') #data of categories => a mapping b/w category id and catergories.\n"
   ]
  },
  {
   "cell_type": "code",
   "execution_count": 19,
   "id": "parliamentary-dining",
   "metadata": {
    "execution": {
     "iopub.execute_input": "2021-06-05T16:14:08.485858Z",
     "iopub.status.busy": "2021-06-05T16:14:08.485131Z",
     "iopub.status.idle": "2021-06-05T16:14:08.542790Z",
     "shell.execute_reply": "2021-06-05T16:14:08.542305Z",
     "shell.execute_reply.started": "2021-06-04T19:12:41.137133Z"
    },
    "id": "parliamentary-dining",
    "papermill": {
     "duration": 0.099688,
     "end_time": "2021-06-05T16:14:08.542923",
     "exception": false,
     "start_time": "2021-06-05T16:14:08.443235",
     "status": "completed"
    },
    "tags": []
   },
   "outputs": [],
   "source": [
    "#convert the 'date' column of the dataframe into datetime time. Otherwise they are considered as numbers.\n",
    "df_train['date'] = pd.to_datetime(df_train['date'], errors='coerce') "
   ]
  },
  {
   "cell_type": "code",
   "execution_count": 20,
   "id": "perfect-glance",
   "metadata": {
    "colab": {
     "base_uri": "https://localhost:8080/"
    },
    "execution": {
     "iopub.execute_input": "2021-06-05T16:14:08.598009Z",
     "iopub.status.busy": "2021-06-05T16:14:08.597203Z",
     "iopub.status.idle": "2021-06-05T16:14:08.601434Z",
     "shell.execute_reply": "2021-06-05T16:14:08.601021Z",
     "shell.execute_reply.started": "2021-06-04T19:12:41.218368Z"
    },
    "id": "perfect-glance",
    "outputId": "6315c177-9be0-44c6-9f9b-acb51ab2284f",
    "papermill": {
     "duration": 0.034115,
     "end_time": "2021-06-05T16:14:08.601541",
     "exception": false,
     "start_time": "2021-06-05T16:14:08.567426",
     "status": "completed"
    },
    "tags": []
   },
   "outputs": [
    {
     "data": {
      "text/plain": [
       "Index(['date', 'date_block_num', 'shop_id', 'item_id', 'item_price',\n",
       "       'item_cnt_day'],\n",
       "      dtype='object')"
      ]
     },
     "execution_count": 20,
     "metadata": {},
     "output_type": "execute_result"
    }
   ],
   "source": [
    "#visualize the \n",
    "df_train.columns"
   ]
  },
  {
   "cell_type": "code",
   "execution_count": 21,
   "id": "covered-albania",
   "metadata": {
    "execution": {
     "iopub.execute_input": "2021-06-05T16:14:08.732929Z",
     "iopub.status.busy": "2021-06-05T16:14:08.731994Z",
     "iopub.status.idle": "2021-06-05T16:14:10.284152Z",
     "shell.execute_reply": "2021-06-05T16:14:10.284607Z",
     "shell.execute_reply.started": "2021-06-04T19:12:41.230148Z"
    },
    "id": "covered-albania",
    "papermill": {
     "duration": 1.609515,
     "end_time": "2021-06-05T16:14:10.284756",
     "exception": false,
     "start_time": "2021-06-05T16:14:08.675241",
     "status": "completed"
    },
    "tags": []
   },
   "outputs": [],
   "source": [
    "# change the item count per day to item count per month by using group\n",
    "df_train = df_train.groupby([\"item_id\",\"shop_id\",\"date_block_num\"]).sum().reset_index()\n",
    "df_train = df_train.rename(index=str, columns = {\"item_cnt_day\":\"item_cnt_month\"})\n",
    "df_train = df_train[[\"item_id\",\"shop_id\",\"date_block_num\",\"item_cnt_month\"]]\n",
    "# df_train"
   ]
  },
  {
   "cell_type": "code",
   "execution_count": 22,
   "id": "BO3HbjUVfGCp",
   "metadata": {
    "colab": {
     "base_uri": "https://localhost:8080/"
    },
    "id": "BO3HbjUVfGCp",
    "outputId": "6a5e801a-fb3f-4797-cb1f-de2d22a1c1b5"
   },
   "outputs": [
    {
     "name": "stdout",
     "output_type": "stream",
     "text": [
      "         item_id  shop_id  date_block_num  item_cnt_month\n",
      "0              0       54              20             1.0\n",
      "1              1       55              15             2.0\n",
      "2              1       55              18             1.0\n",
      "3              1       55              19             1.0\n",
      "4              1       55              20             1.0\n",
      "...          ...      ...             ...             ...\n",
      "1609119    22168       12               8             1.0\n",
      "1609120    22168       16               1             1.0\n",
      "1609121    22168       42               1             1.0\n",
      "1609122    22168       43               2             1.0\n",
      "1609123    22169       25              14             1.0\n",
      "\n",
      "[1609124 rows x 4 columns]\n"
     ]
    }
   ],
   "source": [
    "print(df_train)"
   ]
  },
  {
   "cell_type": "code",
   "execution_count": 21,
   "id": "nominated-virtue",
   "metadata": {
    "colab": {
     "base_uri": "https://localhost:8080/"
    },
    "execution": {
     "iopub.execute_input": "2021-06-05T16:14:10.390879Z",
     "iopub.status.busy": "2021-06-05T16:14:10.390045Z",
     "iopub.status.idle": "2021-06-05T16:14:10.434245Z",
     "shell.execute_reply": "2021-06-05T16:14:10.434693Z",
     "shell.execute_reply.started": "2021-06-04T19:12:42.620646Z"
    },
    "id": "nominated-virtue",
    "outputId": "7c506bf5-09f0-46fd-d389-8a569dff1e17",
    "papermill": {
     "duration": 0.07398,
     "end_time": "2021-06-05T16:14:10.434834",
     "exception": false,
     "start_time": "2021-06-05T16:14:10.360854",
     "status": "completed"
    },
    "tags": []
   },
   "outputs": [
    {
     "data": {
      "text/plain": [
       "count    1.609124e+06\n",
       "mean     1.466479e+01\n",
       "std      9.542322e+00\n",
       "min      0.000000e+00\n",
       "25%      6.000000e+00\n",
       "50%      1.400000e+01\n",
       "75%      2.300000e+01\n",
       "max      3.300000e+01\n",
       "Name: date_block_num, dtype: float64"
      ]
     },
     "execution_count": 21,
     "metadata": {},
     "output_type": "execute_result"
    }
   ],
   "source": [
    "df_train['date_block_num'].describe()"
   ]
  },
  {
   "cell_type": "code",
   "execution_count": 25,
   "id": "tEmeYAwAMGFI",
   "metadata": {
    "id": "tEmeYAwAMGFI"
   },
   "outputs": [],
   "source": [
    "# Data Loader \n",
    "from torch.utils import data\n",
    "class custom_data_loader(data.Dataset):\n",
    "  \n",
    "  def __init__(self, x_list,y_list):\n",
    "        self.x_list =x_list\n",
    "        self.y_list =y_list\n",
    "        # self.seq_length =seq_length\n",
    "        self.index_counter=0\n",
    "\n",
    "        \n",
    "                        \n",
    "            \n",
    "  def __len__(self):\n",
    "        return len(self.x_list)\n",
    "\n",
    "  def __getitem__(self, index):\n",
    "        \n",
    "      index_top_limit=len(self.x_list)\n",
    "      if(self.index_counter==index_top_limit): self.index_counter=0\n",
    "      index=self.index_counter\n",
    "      self.index_counter=self.index_counter+1\n",
    "      \n",
    "      \n",
    "      x_feature=self.x_list[index] \n",
    "      y_feature=self.y_list[index]      \n",
    "      \n",
    "        \n",
    "      return x_feature, y_feature\n",
    "\n"
   ]
  },
  {
   "cell_type": "code",
   "execution_count": 23,
   "id": "xdkBWgJTWahj",
   "metadata": {
    "id": "xdkBWgJTWahj"
   },
   "outputs": [],
   "source": [
    "def sliding_windows(xdata,ydata, seq_length):\n",
    "    x = []\n",
    "    y = []\n",
    "\n",
    "    for i in range(len(xdata)-seq_length-1):\n",
    "        _x = xdata[i:(i+seq_length)]\n",
    "        _y = ydata[i+seq_length]\n",
    "        x.append(_x)\n",
    "        y.append(_y)\n",
    "\n",
    "    return np.array(x),np.array(y)\n",
    "\n",
    "sc1 = MinMaxScaler()\n",
    "sc2 = MinMaxScaler()\n",
    "x_training_data = sc1.fit_transform(df_train[[\"item_id\",\"shop_id\",\"date_block_num\"]])\n",
    "y_training_data = sc2.fit_transform(df_train[[\"item_cnt_month\"]])\n",
    "seq_length= 12\n",
    "x ,y= sliding_windows(x_training_data, y_training_data,seq_length)\n",
    "# y = sliding_windows(y_training_data, seq_length)\n",
    "train_size = int(len(y) * 0.67)\n",
    "test_size = len(y) - train_size\n",
    "\n",
    "dataX = Variable(torch.Tensor(np.array(x)))\n",
    "dataY = Variable(torch.Tensor(np.array(y)))\n",
    "\n",
    "trainX = Variable(torch.Tensor(np.array(x[0:train_size])))\n",
    "trainY = Variable(torch.Tensor(np.array(y[0:train_size])))\n",
    "\n",
    "testX = Variable(torch.Tensor(np.array(x[train_size:len(x)])))\n",
    "testY = Variable(torch.Tensor(np.array(y[train_size:len(y)])))\n",
    "\n"
   ]
  },
  {
   "cell_type": "markdown",
   "id": "colored-continent",
   "metadata": {
    "id": "colored-continent",
    "papermill": {
     "duration": 0.041441,
     "end_time": "2021-06-05T16:15:37.885787",
     "exception": false,
     "start_time": "2021-06-05T16:15:37.844346",
     "status": "completed"
    },
    "tags": []
   },
   "source": [
    "<center><h1 style = \"font-size:20px;font-family: Comic Sans MS\">Train and Test Dataloaders</h1></center>"
   ]
  },
  {
   "cell_type": "code",
   "execution_count": 26,
   "id": "qU9s8q3jX0nN",
   "metadata": {
    "id": "qU9s8q3jX0nN"
   },
   "outputs": [],
   "source": [
    "batch_size = 2048\n",
    "trainloader = torch.utils.data.DataLoader(custom_data_loader(x_list = trainX, y_list = trainY), \n",
    "                                          batch_size=batch_size, num_workers=0, shuffle = False, pin_memory=True)\n",
    "\n",
    "testloader = torch.utils.data.DataLoader(custom_data_loader(x_list = testX, y_list = testY), \n",
    "                                          batch_size=128, num_workers=0, shuffle = False, pin_memory=True)\n",
    "\n",
    "loader = torch.utils.data.DataLoader(custom_data_loader(x_list = dataX, y_list = dataY), \n",
    "                                          batch_size=128, num_workers=0, shuffle = False, pin_memory=True)"
   ]
  },
  {
   "cell_type": "code",
   "execution_count": 27,
   "id": "Ye0bYuBxE6iT",
   "metadata": {
    "colab": {
     "base_uri": "https://localhost:8080/"
    },
    "id": "Ye0bYuBxE6iT",
    "outputId": "7a84525a-a694-4618-a173-917fa82ceea3"
   },
   "outputs": [
    {
     "name": "stdout",
     "output_type": "stream",
     "text": [
      "Epoch: 0, loss: 0.00060\n",
      "Epoch: 1, loss: 0.00030\n",
      "Epoch: 2, loss: 0.00015\n",
      "Epoch: 3, loss: 0.00007\n",
      "Epoch: 4, loss: 0.00003\n",
      "Epoch: 5, loss: 0.00001\n",
      "Epoch: 6, loss: 0.00001\n",
      "Epoch: 7, loss: 0.00000\n",
      "Epoch: 8, loss: 0.00000\n",
      "Epoch: 9, loss: 0.00000\n"
     ]
    }
   ],
   "source": [
    "num_epochs = 10\n",
    "learning_rate = 0.0001\n",
    "\n",
    "input_size = 3\n",
    "hidden_size = 6\n",
    "num_layers = 1\n",
    "\n",
    "num_classes = 1\n",
    "\n",
    "lstm = LSTM(num_classes, input_size, hidden_size, num_layers)\n",
    "\n",
    "criterion = torch.nn.MSELoss()    # mean-squared error for regression\n",
    "optimizer = torch.optim.Adam(lstm.parameters(), lr=learning_rate)\n",
    "#optimizer = torch.optim.SGD(lstm.parameters(), lr=learning_rate)\n",
    "\n",
    "# Train the model\n",
    "for epoch in range(num_epochs):\n",
    "  for x,y in trainloader:\n",
    "    optimizer.zero_grad()\n",
    "    outputs = lstm(x)\n",
    "    loss = criterion(outputs, y)\n",
    "    loss.backward()\n",
    "      \n",
    "    optimizer.step()\n",
    "  if epoch % 1 == 0:\n",
    "      print(\"Epoch: %d, loss: %1.5f\" % (epoch, loss.item()))"
   ]
  },
  {
   "cell_type": "code",
   "execution_count": 39,
   "id": "O5xvTtzVfK46",
   "metadata": {
    "colab": {
     "base_uri": "https://localhost:8080/",
     "height": 526
    },
    "id": "O5xvTtzVfK46",
    "outputId": "30c1a2d8-024f-425d-f0e7-01c4a1c3fd89"
   },
   "outputs": [
    {
     "data": {
      "image/png": "[encoded data removed]",
      "text/plain": [
       "<Figure size 432x288 with 1 Axes>"
      ]
     },
     "metadata": {
      "needs_background": "light"
     },
     "output_type": "display_data"
    },
    {
     "data": {
      "image/png": "[encoded data removed]",
      "text/plain": [
       "<Figure size 432x288 with 1 Axes>"
      ]
     },
     "metadata": {
      "needs_background": "light"
     },
     "output_type": "display_data"
    }
   ],
   "source": [
    "#just predicting and comparing the test set.\n",
    "lstm.eval()\n",
    "losses=[]\n",
    "preds=[]\n",
    "for x,y in testloader:\n",
    "  \n",
    "  outputs = lstm(x)\n",
    "  loss = criterion(outputs, y)\n",
    "  losses.append(loss.item())\n",
    "  preds.extend(outputs)\n",
    "\n",
    "\n",
    "data_predict = np.array(preds)\n",
    "dataY_plot = testY.data.numpy()\n",
    "\n",
    "data_predict = sc2.inverse_transform(data_predict.reshape(-1,1))\n",
    "dataY_plot = sc2.inverse_transform(dataY_plot.reshape(-1,1))\n",
    "\n",
    "plt.axvline(x=train_size, c='r', linestyle='--')\n",
    "\n",
    "plt.plot(dataY_plot)\n",
    "plt.plot(data_predict)\n",
    "plt.show()  \n",
    "plt.plot(losses)\n",
    "plt.show()"
   ]
  },
  {
   "cell_type": "code",
   "execution_count": 40,
   "id": "crbx3kLlrbtJ",
   "metadata": {
    "colab": {
     "base_uri": "https://localhost:8080/",
     "height": 555
    },
    "id": "crbx3kLlrbtJ",
    "outputId": "a1291143-07cd-4e12-97ac-c09d371473a2"
   },
   "outputs": [
    {
     "data": {
      "image/png": "[encoded data removed]",
      "text/plain": [
       "<Figure size 432x288 with 1 Axes>"
      ]
     },
     "metadata": {
      "needs_background": "light"
     },
     "output_type": "display_data"
    },
    {
     "data": {
      "image/png": "[encoded data removed]",
      "text/plain": [
       "<Figure size 432x288 with 1 Axes>"
      ]
     },
     "metadata": {
      "needs_background": "light"
     },
     "output_type": "display_data"
    }
   ],
   "source": [
    "#just predicting and comparing the entire dataset. \n",
    "lstm.eval()\n",
    "losses=[]\n",
    "preds=[]\n",
    "for x,y in loader:\n",
    "  \n",
    "  outputs = lstm(x)\n",
    "  loss = criterion(outputs, y)\n",
    "  losses.append(loss.item())\n",
    "  preds.extend(outputs)\n",
    "\n",
    "\n",
    "data_predict = np.array(preds)\n",
    "dataY_plot = dataY.data.numpy()\n",
    "\n",
    "data_predict = sc2.inverse_transform(data_predict.reshape(-1,1))\n",
    "dataY_plot = sc2.inverse_transform(dataY_plot.reshape(-1,1))\n",
    "\n",
    "plt.axvline(x=train_size, c='r', linestyle='--')\n",
    "\n",
    "plt.plot(dataY_plot)\n",
    "plt.plot(data_predict)\n",
    "plt.suptitle('Time-Series Prediction')\n",
    "plt.show()  \n",
    "plt.plot(losses)\n",
    "plt.show()"
   ]
  },
  {
   "cell_type": "markdown",
   "id": "gQQi05BG7MgB",
   "metadata": {
    "id": "gQQi05BG7MgB"
   },
   "source": [
    "#Supplementary Materials : latest and quick ways to operate on time series data.\n"
   ]
  },
  {
   "cell_type": "markdown",
   "id": "downtown-blank",
   "metadata": {
    "id": "downtown-blank",
    "papermill": {
     "duration": 0.020458,
     "end_time": "2021-06-05T16:13:46.159033",
     "exception": false,
     "start_time": "2021-06-05T16:13:46.138575",
     "status": "completed"
    },
    "tags": []
   },
   "source": [
    "\n",
    "Deep Learning may have taken the front seat in computer vision and language processing tasks but ,even though having outperformed the traditional methods in time series forecasting tasks,deep learning architectures have not become mainstream yet for time series forecasting tasks.Other than the hardware requirements,the lack of a high-level API that would work with popular frameworks like PyTorch or Tensorflow has been a crucial impediment making it relatively difficult to use neural networks over the traditional methods(easy to use in the scikit learn ecosystem)\n",
    "\n",
    "PyTorch Forecasting solves the problem by providing a high level API for PyTorch that can readily make use of the pandas dataframe.The package is built on PyTorch Lightning and PyTorch APIs,making it easier to learn.\n",
    "\n",
    "Pytorch Forecasting aims to ease state-of-the-art timeseries forecasting with neural networks for both real-world cases and research alike.Some interesting provisions of the package include:\n",
    "\n",
    "* A timeseries dataset class which abstracts handling variable transformations, missing values, randomized subsampling, multiple history lengths, etc.So,in short no specific knowledge on how to create a dataset for training your model in PyTorch is required.\n",
    "\n",
    "* A base model class which provides basic training of timeseries models along with logging in tensorboard and generic visualizations such actual vs predictions and dependency plots\n",
    "\n",
    "* Multiple neural network architectures for timeseries forecasting that have been enhanced for real-world deployment and come with in-built interpretation capabilities\n",
    "\n",
    "* Multi-horizon timeseries metrics\n",
    "\n",
    "* For scalability, the networks are designed to work with PyTorch Lightning which allows training on CPUs and single and multiple (distributed) GPUs out-of-the-box. \n",
    "\n",
    "* Hyperparameter tuning with optuna\n",
    "\n",
    "\n",
    "Source of this part of the Notebook: URL: https://www.kaggle.com/shreyasajal/pytorch-forecasting-for-time-series-forecasting  "
   ]
  },
  {
   "cell_type": "code",
   "execution_count": 45,
   "id": "41qH7XDr5nV1",
   "metadata": {
    "colab": {
     "base_uri": "https://localhost:8080/",
     "height": 1000
    },
    "id": "41qH7XDr5nV1",
    "outputId": "3bee0ada-3756-4c0f-b5a1-0205c547d25e"
   },
   "outputs": [
    {
     "name": "stdout",
     "output_type": "stream",
     "text": [
      "Requirement already satisfied: pytorch_forecasting in /usr/local/lib/python3.7/dist-packages (0.9.1)\n",
      "Requirement already satisfied: pandas<2.0.0,>=1.3.0 in /usr/local/lib/python3.7/dist-packages (from pytorch_forecasting) (1.3.3)\n",
      "Requirement already satisfied: matplotlib in /usr/local/lib/python3.7/dist-packages (from pytorch_forecasting) (3.2.2)\n",
      "Requirement already satisfied: optuna<3.0.0,>=2.3.0 in /usr/local/lib/python3.7/dist-packages (from pytorch_forecasting) (2.9.1)\n",
      "Requirement already satisfied: pytorch-lightning<2.0.0,>=1.2.4 in /usr/local/lib/python3.7/dist-packages (from pytorch_forecasting) (1.4.8)\n",
      "Requirement already satisfied: scikit-learn<0.25.0,>=0.24.0 in /usr/local/lib/python3.7/dist-packages (from pytorch_forecasting) (0.24.2)\n",
      "Requirement already satisfied: scipy in /usr/local/lib/python3.7/dist-packages (from pytorch_forecasting) (1.4.1)\n",
      "Requirement already satisfied: statsmodels in /usr/local/lib/python3.7/dist-packages (from pytorch_forecasting) (0.10.2)\n",
      "Requirement already satisfied: torch<2.0,>=1.7 in /usr/local/lib/python3.7/dist-packages (from pytorch_forecasting) (1.9.0+cu102)\n",
      "Requirement already satisfied: sqlalchemy>=1.1.0 in /usr/local/lib/python3.7/dist-packages (from optuna<3.0.0,>=2.3.0->pytorch_forecasting) (1.4.25)\n",
      "Requirement already satisfied: packaging>=20.0 in /usr/local/lib/python3.7/dist-packages (from optuna<3.0.0,>=2.3.0->pytorch_forecasting) (21.0)\n",
      "Requirement already satisfied: tqdm in /usr/local/lib/python3.7/dist-packages (from optuna<3.0.0,>=2.3.0->pytorch_forecasting) (4.62.3)\n",
      "Requirement already satisfied: cliff in /usr/local/lib/python3.7/dist-packages (from optuna<3.0.0,>=2.3.0->pytorch_forecasting) (3.9.0)\n",
      "Requirement already satisfied: cmaes>=0.8.2 in /usr/local/lib/python3.7/dist-packages (from optuna<3.0.0,>=2.3.0->pytorch_forecasting) (0.8.2)\n",
      "Requirement already satisfied: PyYAML in /usr/local/lib/python3.7/dist-packages (from optuna<3.0.0,>=2.3.0->pytorch_forecasting) (5.4.1)\n",
      "Requirement already satisfied: alembic in /usr/local/lib/python3.7/dist-packages (from optuna<3.0.0,>=2.3.0->pytorch_forecasting) (1.7.3)\n",
      "Requirement already satisfied: colorlog in /usr/local/lib/python3.7/dist-packages (from optuna<3.0.0,>=2.3.0->pytorch_forecasting) (6.4.1)\n",
      "Requirement already satisfied: numpy in /usr/local/lib/python3.7/dist-packages (from optuna<3.0.0,>=2.3.0->pytorch_forecasting) (1.19.5)\n",
      "Requirement already satisfied: pyparsing>=2.0.2 in /usr/local/lib/python3.7/dist-packages (from packaging>=20.0->optuna<3.0.0,>=2.3.0->pytorch_forecasting) (2.4.7)\n",
      "Requirement already satisfied: python-dateutil>=2.7.3 in /usr/local/lib/python3.7/dist-packages (from pandas<2.0.0,>=1.3.0->pytorch_forecasting) (2.8.2)\n",
      "Requirement already satisfied: pytz>=2017.3 in /usr/local/lib/python3.7/dist-packages (from pandas<2.0.0,>=1.3.0->pytorch_forecasting) (2018.9)\n",
      "Requirement already satisfied: six>=1.5 in /usr/local/lib/python3.7/dist-packages (from python-dateutil>=2.7.3->pandas<2.0.0,>=1.3.0->pytorch_forecasting) (1.15.0)\n",
      "Requirement already satisfied: typing-extensions in /usr/local/lib/python3.7/dist-packages (from pytorch-lightning<2.0.0,>=1.2.4->pytorch_forecasting) (3.7.4.3)\n",
      "Requirement already satisfied: pyDeprecate==0.3.1 in /usr/local/lib/python3.7/dist-packages (from pytorch-lightning<2.0.0,>=1.2.4->pytorch_forecasting) (0.3.1)\n",
      "Requirement already satisfied: fsspec[http]!=2021.06.0,>=2021.05.0 in /usr/local/lib/python3.7/dist-packages (from pytorch-lightning<2.0.0,>=1.2.4->pytorch_forecasting) (2021.9.0)\n",
      "Requirement already satisfied: future>=0.17.1 in /usr/local/lib/python3.7/dist-packages (from pytorch-lightning<2.0.0,>=1.2.4->pytorch_forecasting) (0.18.2)\n",
      "Requirement already satisfied: torchmetrics>=0.4.0 in /usr/local/lib/python3.7/dist-packages (from pytorch-lightning<2.0.0,>=1.2.4->pytorch_forecasting) (0.5.1)\n",
      "Requirement already satisfied: tensorboard>=2.2.0 in /usr/local/lib/python3.7/dist-packages (from pytorch-lightning<2.0.0,>=1.2.4->pytorch_forecasting) (2.6.0)\n",
      "Requirement already satisfied: aiohttp in /usr/local/lib/python3.7/dist-packages (from fsspec[http]!=2021.06.0,>=2021.05.0->pytorch-lightning<2.0.0,>=1.2.4->pytorch_forecasting) (3.7.4.post0)\n",
      "Requirement already satisfied: requests in /usr/local/lib/python3.7/dist-packages (from fsspec[http]!=2021.06.0,>=2021.05.0->pytorch-lightning<2.0.0,>=1.2.4->pytorch_forecasting) (2.23.0)\n",
      "Requirement already satisfied: threadpoolctl>=2.0.0 in /usr/local/lib/python3.7/dist-packages (from scikit-learn<0.25.0,>=0.24.0->pytorch_forecasting) (2.2.0)\n",
      "Requirement already satisfied: joblib>=0.11 in /usr/local/lib/python3.7/dist-packages (from scikit-learn<0.25.0,>=0.24.0->pytorch_forecasting) (1.0.1)\n",
      "Requirement already satisfied: greenlet!=0.4.17 in /usr/local/lib/python3.7/dist-packages (from sqlalchemy>=1.1.0->optuna<3.0.0,>=2.3.0->pytorch_forecasting) (1.1.1)\n",
      "Requirement already satisfied: importlib-metadata in /usr/local/lib/python3.7/dist-packages (from sqlalchemy>=1.1.0->optuna<3.0.0,>=2.3.0->pytorch_forecasting) (4.8.1)\n",
      "Requirement already satisfied: grpcio>=1.24.3 in /usr/local/lib/python3.7/dist-packages (from tensorboard>=2.2.0->pytorch-lightning<2.0.0,>=1.2.4->pytorch_forecasting) (1.40.0)\n",
      "Requirement already satisfied: google-auth-oauthlib<0.5,>=0.4.1 in /usr/local/lib/python3.7/dist-packages (from tensorboard>=2.2.0->pytorch-lightning<2.0.0,>=1.2.4->pytorch_forecasting) (0.4.6)\n",
      "Requirement already satisfied: setuptools>=41.0.0 in /usr/local/lib/python3.7/dist-packages (from tensorboard>=2.2.0->pytorch-lightning<2.0.0,>=1.2.4->pytorch_forecasting) (57.4.0)\n",
      "Requirement already satisfied: absl-py>=0.4 in /usr/local/lib/python3.7/dist-packages (from tensorboard>=2.2.0->pytorch-lightning<2.0.0,>=1.2.4->pytorch_forecasting) (0.12.0)\n",
      "Requirement already satisfied: tensorboard-data-server<0.7.0,>=0.6.0 in /usr/local/lib/python3.7/dist-packages (from tensorboard>=2.2.0->pytorch-lightning<2.0.0,>=1.2.4->pytorch_forecasting) (0.6.1)\n",
      "Requirement already satisfied: protobuf>=3.6.0 in /usr/local/lib/python3.7/dist-packages (from tensorboard>=2.2.0->pytorch-lightning<2.0.0,>=1.2.4->pytorch_forecasting) (3.17.3)\n",
      "Requirement already satisfied: markdown>=2.6.8 in /usr/local/lib/python3.7/dist-packages (from tensorboard>=2.2.0->pytorch-lightning<2.0.0,>=1.2.4->pytorch_forecasting) (3.3.4)\n",
      "Requirement already satisfied: wheel>=0.26 in /usr/local/lib/python3.7/dist-packages (from tensorboard>=2.2.0->pytorch-lightning<2.0.0,>=1.2.4->pytorch_forecasting) (0.37.0)\n",
      "Requirement already satisfied: google-auth<2,>=1.6.3 in /usr/local/lib/python3.7/dist-packages (from tensorboard>=2.2.0->pytorch-lightning<2.0.0,>=1.2.4->pytorch_forecasting) (1.35.0)\n",
      "Requirement already satisfied: tensorboard-plugin-wit>=1.6.0 in /usr/local/lib/python3.7/dist-packages (from tensorboard>=2.2.0->pytorch-lightning<2.0.0,>=1.2.4->pytorch_forecasting) (1.8.0)\n",
      "Requirement already satisfied: werkzeug>=0.11.15 in /usr/local/lib/python3.7/dist-packages (from tensorboard>=2.2.0->pytorch-lightning<2.0.0,>=1.2.4->pytorch_forecasting) (1.0.1)\n",
      "Requirement already satisfied: rsa<5,>=3.1.4 in /usr/local/lib/python3.7/dist-packages (from google-auth<2,>=1.6.3->tensorboard>=2.2.0->pytorch-lightning<2.0.0,>=1.2.4->pytorch_forecasting) (4.7.2)\n",
      "Requirement already satisfied: pyasn1-modules>=0.2.1 in /usr/local/lib/python3.7/dist-packages (from google-auth<2,>=1.6.3->tensorboard>=2.2.0->pytorch-lightning<2.0.0,>=1.2.4->pytorch_forecasting) (0.2.8)\n",
      "Requirement already satisfied: cachetools<5.0,>=2.0.0 in /usr/local/lib/python3.7/dist-packages (from google-auth<2,>=1.6.3->tensorboard>=2.2.0->pytorch-lightning<2.0.0,>=1.2.4->pytorch_forecasting) (4.2.2)\n",
      "Requirement already satisfied: requests-oauthlib>=0.7.0 in /usr/local/lib/python3.7/dist-packages (from google-auth-oauthlib<0.5,>=0.4.1->tensorboard>=2.2.0->pytorch-lightning<2.0.0,>=1.2.4->pytorch_forecasting) (1.3.0)\n",
      "Requirement already satisfied: pyasn1<0.5.0,>=0.4.6 in /usr/local/lib/python3.7/dist-packages (from pyasn1-modules>=0.2.1->google-auth<2,>=1.6.3->tensorboard>=2.2.0->pytorch-lightning<2.0.0,>=1.2.4->pytorch_forecasting) (0.4.8)\n",
      "Requirement already satisfied: urllib3!=1.25.0,!=1.25.1,<1.26,>=1.21.1 in /usr/local/lib/python3.7/dist-packages (from requests->fsspec[http]!=2021.06.0,>=2021.05.0->pytorch-lightning<2.0.0,>=1.2.4->pytorch_forecasting) (1.24.3)\n",
      "Requirement already satisfied: idna<3,>=2.5 in /usr/local/lib/python3.7/dist-packages (from requests->fsspec[http]!=2021.06.0,>=2021.05.0->pytorch-lightning<2.0.0,>=1.2.4->pytorch_forecasting) (2.10)\n",
      "Requirement already satisfied: chardet<4,>=3.0.2 in /usr/local/lib/python3.7/dist-packages (from requests->fsspec[http]!=2021.06.0,>=2021.05.0->pytorch-lightning<2.0.0,>=1.2.4->pytorch_forecasting) (3.0.4)\n",
      "Requirement already satisfied: certifi>=2017.4.17 in /usr/local/lib/python3.7/dist-packages (from requests->fsspec[http]!=2021.06.0,>=2021.05.0->pytorch-lightning<2.0.0,>=1.2.4->pytorch_forecasting) (2021.5.30)\n",
      "Requirement already satisfied: oauthlib>=3.0.0 in /usr/local/lib/python3.7/dist-packages (from requests-oauthlib>=0.7.0->google-auth-oauthlib<0.5,>=0.4.1->tensorboard>=2.2.0->pytorch-lightning<2.0.0,>=1.2.4->pytorch_forecasting) (3.1.1)\n",
      "Requirement already satisfied: multidict<7.0,>=4.5 in /usr/local/lib/python3.7/dist-packages (from aiohttp->fsspec[http]!=2021.06.0,>=2021.05.0->pytorch-lightning<2.0.0,>=1.2.4->pytorch_forecasting) (5.1.0)\n",
      "Requirement already satisfied: yarl<2.0,>=1.0 in /usr/local/lib/python3.7/dist-packages (from aiohttp->fsspec[http]!=2021.06.0,>=2021.05.0->pytorch-lightning<2.0.0,>=1.2.4->pytorch_forecasting) (1.6.3)\n",
      "Requirement already satisfied: attrs>=17.3.0 in /usr/local/lib/python3.7/dist-packages (from aiohttp->fsspec[http]!=2021.06.0,>=2021.05.0->pytorch-lightning<2.0.0,>=1.2.4->pytorch_forecasting) (21.2.0)\n",
      "Requirement already satisfied: async-timeout<4.0,>=3.0 in /usr/local/lib/python3.7/dist-packages (from aiohttp->fsspec[http]!=2021.06.0,>=2021.05.0->pytorch-lightning<2.0.0,>=1.2.4->pytorch_forecasting) (3.0.1)\n",
      "Requirement already satisfied: importlib-resources in /usr/local/lib/python3.7/dist-packages (from alembic->optuna<3.0.0,>=2.3.0->pytorch_forecasting) (5.2.2)\n",
      "Requirement already satisfied: Mako in /usr/local/lib/python3.7/dist-packages (from alembic->optuna<3.0.0,>=2.3.0->pytorch_forecasting) (1.1.5)\n",
      "Requirement already satisfied: pbr!=2.1.0,>=2.0.0 in /usr/local/lib/python3.7/dist-packages (from cliff->optuna<3.0.0,>=2.3.0->pytorch_forecasting) (5.6.0)\n",
      "Requirement already satisfied: PrettyTable>=0.7.2 in /usr/local/lib/python3.7/dist-packages (from cliff->optuna<3.0.0,>=2.3.0->pytorch_forecasting) (2.2.0)\n",
      "Requirement already satisfied: cmd2>=1.0.0 in /usr/local/lib/python3.7/dist-packages (from cliff->optuna<3.0.0,>=2.3.0->pytorch_forecasting) (2.2.0)\n",
      "Requirement already satisfied: stevedore>=2.0.1 in /usr/local/lib/python3.7/dist-packages (from cliff->optuna<3.0.0,>=2.3.0->pytorch_forecasting) (3.4.0)\n",
      "Requirement already satisfied: autopage>=0.4.0 in /usr/local/lib/python3.7/dist-packages (from cliff->optuna<3.0.0,>=2.3.0->pytorch_forecasting) (0.4.0)\n",
      "Requirement already satisfied: pyperclip>=1.6 in /usr/local/lib/python3.7/dist-packages (from cmd2>=1.0.0->cliff->optuna<3.0.0,>=2.3.0->pytorch_forecasting) (1.8.2)\n",
      "Requirement already satisfied: wcwidth>=0.1.7 in /usr/local/lib/python3.7/dist-packages (from cmd2>=1.0.0->cliff->optuna<3.0.0,>=2.3.0->pytorch_forecasting) (0.2.5)\n",
      "Requirement already satisfied: colorama>=0.3.7 in /usr/local/lib/python3.7/dist-packages (from cmd2>=1.0.0->cliff->optuna<3.0.0,>=2.3.0->pytorch_forecasting) (0.4.4)\n",
      "Requirement already satisfied: zipp>=0.5 in /usr/local/lib/python3.7/dist-packages (from importlib-metadata->sqlalchemy>=1.1.0->optuna<3.0.0,>=2.3.0->pytorch_forecasting) (3.5.0)\n",
      "Requirement already satisfied: MarkupSafe>=0.9.2 in /usr/local/lib/python3.7/dist-packages (from Mako->alembic->optuna<3.0.0,>=2.3.0->pytorch_forecasting) (2.0.1)\n",
      "Requirement already satisfied: cycler>=0.10 in /usr/local/lib/python3.7/dist-packages (from matplotlib->pytorch_forecasting) (0.10.0)\n",
      "Requirement already satisfied: kiwisolver>=1.0.1 in /usr/local/lib/python3.7/dist-packages (from matplotlib->pytorch_forecasting) (1.3.2)\n",
      "Requirement already satisfied: patsy>=0.4.0 in /usr/local/lib/python3.7/dist-packages (from statsmodels->pytorch_forecasting) (0.5.1)\n",
      "Collecting pandas==1.2.2\n",
      "  Using cached pandas-1.2.2-cp37-cp37m-manylinux1_x86_64.whl (9.9 MB)\n",
      "Requirement already satisfied: python-dateutil>=2.7.3 in /usr/local/lib/python3.7/dist-packages (from pandas==1.2.2) (2.8.2)\n",
      "Requirement already satisfied: numpy>=1.16.5 in /usr/local/lib/python3.7/dist-packages (from pandas==1.2.2) (1.19.5)\n",
      "Requirement already satisfied: pytz>=2017.3 in /usr/local/lib/python3.7/dist-packages (from pandas==1.2.2) (2018.9)\n",
      "Requirement already satisfied: six>=1.5 in /usr/local/lib/python3.7/dist-packages (from python-dateutil>=2.7.3->pandas==1.2.2) (1.15.0)\n",
      "Installing collected packages: pandas\n",
      "  Attempting uninstall: pandas\n",
      "    Found existing installation: pandas 1.3.3\n",
      "    Uninstalling pandas-1.3.3:\n",
      "      Successfully uninstalled pandas-1.3.3\n",
      "\u001b[31mERROR: pip's dependency resolver does not currently take into account all the packages that are installed. This behaviour is the source of the following dependency conflicts.\n",
      "pytorch-forecasting 0.9.1 requires pandas<2.0.0,>=1.3.0, but you have pandas 1.2.2 which is incompatible.\n",
      "google-colab 1.0.0 requires pandas~=1.1.0; python_version >= \"3.0\", but you have pandas 1.2.2 which is incompatible.\u001b[0m\n",
      "Successfully installed pandas-1.2.2\n"
     ]
    },
    {
     "data": {
      "application/vnd.colab-display-data+json": {
       "pip_warning": {
        "packages": [
         "pandas"
        ]
       }
      }
     },
     "metadata": {},
     "output_type": "display_data"
    }
   ],
   "source": [
    "#Required Additional Llibraries\n",
    "!pip install pytorch_forecasting\n",
    "!pip install pandas==1.2.2 # required to redo as per requirements"
   ]
  },
  {
   "cell_type": "code",
   "execution_count": 46,
   "id": "8ZnsDGU55xCI",
   "metadata": {
    "id": "8ZnsDGU55xCI"
   },
   "outputs": [],
   "source": [
    "import pytorch_lightning as pl\n",
    "from pytorch_lightning.callbacks import EarlyStopping, LearningRateMonitor\n",
    "from pytorch_lightning.loggers import TensorBoardLogger\n",
    "\n",
    "import pytorch_forecasting\n",
    "from pytorch_forecasting import Baseline, TemporalFusionTransformer, TimeSeriesDataSet\n",
    "from pytorch_forecasting.data import GroupNormalizer\n",
    "from pytorch_forecasting.metrics import SMAPE, PoissonLoss, QuantileLoss\n",
    "from pytorch_forecasting.models.temporal_fusion_transformer.tuning import optimize_hyperparameters\n"
   ]
  },
  {
   "cell_type": "markdown",
   "id": "diverse-economics",
   "metadata": {
    "id": "diverse-economics",
    "papermill": {
     "duration": 0.025441,
     "end_time": "2021-06-05T16:14:10.538905",
     "exception": false,
     "start_time": "2021-06-05T16:14:10.513464",
     "status": "completed"
    },
    "tags": []
   },
   "source": [
    "This is a very important step and some prerequisites for defining a TimeSeriesDaataSet object is that our pandas dataframe must have each row such that they can be identified with a time step and a time series. Fortunately, most datasets are already in this format.In our Datafarme, the time step is defined by the date_block_num column,i.e. for every shop-item combination we have item count values for the months,and our test data wants us to predict the values for one month for all such shop-item combinations.\n",
    "\n",
    "Some of the important parameters while defining the training object are:\n",
    "* **min/max encoder length**:the mininmum and maximum lengths for encoding or the history length,for example if there are 20 time steps in total and we want a min encoder length=3 and max encoder length=8,then several sequences will be generated which are at least of length min_encoder_length and at most of length max_encoder_length and generally as large history as possible will be used.The advantage of this flexibility in the length is :If your dataset has also very short time series to predict, this flexibility ensures you can make predictions for these as well while using more history for longer time series.\n",
    "* **min/max prediction length**:minimum/maximum prediction/decoder length \n",
    "* **group ids**:list of column names identifying a time series. This means that the group_ids identify a sample together with the time_idx. If you have only one timeseries, set this to the name of column that is constant.\n",
    "\n",
    "For better understanding,refer to the [documentation](https://pytorch-forecasting.readthedocs.io/en/latest/api/pytorch_forecasting.data.timeseries.TimeSeriesDataSet.html#pytorch_forecasting.data.timeseries.TimeSeriesDataSet)"
   ]
  },
  {
   "cell_type": "code",
   "execution_count": 47,
   "id": "adequate-prototype",
   "metadata": {
    "execution": {
     "iopub.execute_input": "2021-06-05T16:14:10.596972Z",
     "iopub.status.busy": "2021-06-05T16:14:10.596198Z",
     "iopub.status.idle": "2021-06-05T16:15:37.800969Z",
     "shell.execute_reply": "2021-06-05T16:15:37.800266Z",
     "shell.execute_reply.started": "2021-06-04T19:25:52.032059Z"
    },
    "id": "adequate-prototype",
    "papermill": {
     "duration": 87.236964,
     "end_time": "2021-06-05T16:15:37.801171",
     "exception": false,
     "start_time": "2021-06-05T16:14:10.564207",
     "status": "completed"
    },
    "tags": []
   },
   "outputs": [],
   "source": [
    "#Using TimeSeries Dataset to prepare the data directly from the DF. Later we use the same dataset and a loader to load it.\n",
    "max_prediction_length = 1\n",
    "max_encoder_length = 27\n",
    "training_cutoff = df_train['date_block_num'].max() - max_prediction_length\n",
    "\n",
    "training = TimeSeriesDataSet(\n",
    "    df_train[lambda x: x['date_block_num'] <= training_cutoff],\n",
    "    time_idx='date_block_num',\n",
    "    target=\"item_cnt_month\",\n",
    "    group_ids=[\"shop_id\", \"item_id\"],\n",
    "    min_encoder_length=0,  \n",
    "    max_encoder_length=max_encoder_length,\n",
    "    min_prediction_length=1,\n",
    "    max_prediction_length=max_prediction_length,\n",
    "    static_categoricals=[],\n",
    "    static_reals=[\"shop_id\", \"item_id\"],\n",
    "    time_varying_known_categoricals=[],  \n",
    "    time_varying_known_reals=['date_block_num'],\n",
    "    time_varying_unknown_categoricals=[],\n",
    "    time_varying_unknown_reals=['date_block_num'],\n",
    "    categorical_encoders={'shop_id': pytorch_forecasting.data.encoders.NaNLabelEncoder(add_nan=True),'item_id':pytorch_forecasting.data.encoders.NaNLabelEncoder(add_nan=True)},\n",
    "    add_relative_time_idx=True,\n",
    "    add_target_scales=True,\n",
    "    add_encoder_length=True,\n",
    "    allow_missing_timesteps=True\n",
    "    \n",
    ")\n",
    "\n"
   ]
  },
  {
   "cell_type": "code",
   "execution_count": 48,
   "id": "mkHDv41j6cGR",
   "metadata": {
    "id": "mkHDv41j6cGR"
   },
   "outputs": [],
   "source": [
    "validation = TimeSeriesDataSet.from_dataset(training, df_train, predict=True, stop_randomization=True)\n",
    "\n",
    "batch_size = 128\n",
    "train_dataloader = training.to_dataloader(train=True, batch_size=batch_size, num_workers=0)\n",
    "val_dataloader = validation.to_dataloader(train=False, batch_size=batch_size * 10, num_workers=0)\n"
   ]
  },
  {
   "cell_type": "code",
   "execution_count": 49,
   "id": "Zf_9zF1Y7Qdn",
   "metadata": {
    "colab": {
     "base_uri": "https://localhost:8080/"
    },
    "id": "Zf_9zF1Y7Qdn",
    "outputId": "7ed78e14-bb99-4422-ed72-aceded8321fa"
   },
   "outputs": [
    {
     "name": "stderr",
     "output_type": "stream",
     "text": [
      "Global seed set to 42\n",
      "GPU available: False, used: False\n",
      "TPU available: False, using: 0 TPU cores\n",
      "IPU available: False, using: 0 IPUs\n"
     ]
    },
    {
     "name": "stdout",
     "output_type": "stream",
     "text": [
      "Number of parameters in network: 19.4k\n"
     ]
    }
   ],
   "source": [
    "# configure network and trainer\n",
    "pl.seed_everything(42)\n",
    "\n",
    "trainer = pl.Trainer(\n",
    "    gpus=0, # set to number of GPUs if you are connected to a GPU instance.\n",
    "    # clipping gradients is a hyperparameter and important to prevent divergance\n",
    "    # of the gradient for recurrent neural networks\n",
    "    gradient_clip_val=0.1,\n",
    ")\n",
    "\n",
    "\n",
    "tft = TemporalFusionTransformer.from_dataset(\n",
    "    training,\n",
    "    # not meaningful for finding the learning rate but otherwise very important\n",
    "    learning_rate=0.03,\n",
    "    hidden_size=16,  # most important hyperparameter apart from learning rate\n",
    "    # number of attention heads. Set to up to 4 for large datasets\n",
    "    attention_head_size=1,\n",
    "    dropout=0.1,  # between 0.1 and 0.3 are good values\n",
    "    hidden_continuous_size=8,  # set to <= hidden_size\n",
    "    output_size=1,  # 7 quantiles by default\n",
    "    loss=pytorch_forecasting.metrics.RMSE(),\n",
    "    # reduce learning rate if no improvement in validation loss after x epochs\n",
    "    reduce_on_plateau_patience=4\n",
    ")\n",
    "print(f\"Number of parameters in network: {tft.size()/1e3:.1f}k\")"
   ]
  },
  {
   "cell_type": "markdown",
   "id": "mysterious-queens",
   "metadata": {
    "id": "mysterious-queens",
    "papermill": {
     "duration": 0.025274,
     "end_time": "2021-06-05T16:17:42.291405",
     "exception": false,
     "start_time": "2021-06-05T16:17:42.266131",
     "status": "completed"
    },
    "tags": []
   },
   "source": [
    "<center><h1 style = \"font-size:20px;font-family: Comic Sans MS\">Use Lightning for suggesting a suitable learning rate </h1></center>"
   ]
  },
  {
   "cell_type": "code",
   "execution_count": 50,
   "id": "induced-drill",
   "metadata": {
    "colab": {
     "base_uri": "https://localhost:8080/",
     "height": 944,
     "referenced_widgets": [
      "dc30d96d0de74b79baa5ae82b8edff2f",
      "b02930158d6447e68574af6d6b130610",
      "b291342ab9e74715aa25a7ee427a7b4d",
      "cc580b830a634f428ef54be6f5770748",
      "c062db98d97e44a490253a1ca162d2ac",
      "b99311bb07c24464ac0a03a6b76da49d",
      "8c25d4e4437c4527a78e4ea39271b178",
      "502f31d0f771409d9f1e9d03971ac4ad",
      "e6aa994f2ffb428aa6c0d5d038497ebc",
      "1f60531ebb814fb788b9588c4e5e82b5",
      "53ae95f4efe940eda09f9f2d09e3d671"
     ]
    },
    "execution": {
     "iopub.execute_input": "2021-06-05T16:17:42.352310Z",
     "iopub.status.busy": "2021-06-05T16:17:42.351731Z",
     "iopub.status.idle": "2021-06-05T16:18:12.144585Z",
     "shell.execute_reply": "2021-06-05T16:18:12.144145Z",
     "shell.execute_reply.started": "2021-06-04T19:29:17.66067Z"
    },
    "id": "induced-drill",
    "outputId": "a946c374-1375-4256-dfa1-1406dbbcb722",
    "papermill": {
     "duration": 29.827998,
     "end_time": "2021-06-05T16:18:12.144709",
     "exception": false,
     "start_time": "2021-06-05T16:17:42.316711",
     "status": "completed"
    },
    "tags": []
   },
   "outputs": [
    {
     "name": "stderr",
     "output_type": "stream",
     "text": [
      "/usr/local/lib/python3.7/dist-packages/pytorch_lightning/trainer/trainer.py:818: LightningDeprecationWarning:\n",
      "\n",
      "`trainer.tune(train_dataloader)` is deprecated in v1.4 and will be removed in v1.6. Use `trainer.tune(train_dataloaders)` instead. HINT: added 's'\n",
      "\n",
      "\n",
      "   | Name                               | Type                            | Params\n",
      "----------------------------------------------------------------------------------------\n",
      "0  | loss                               | RMSE                            | 0     \n",
      "1  | logging_metrics                    | ModuleList                      | 0     \n",
      "2  | input_embeddings                   | MultiEmbedding                  | 0     \n",
      "3  | prescalers                         | ModuleDict                      | 112   \n",
      "4  | static_variable_selection          | VariableSelectionNetwork        | 3.0 K \n",
      "5  | encoder_variable_selection         | VariableSelectionNetwork        | 1.2 K \n",
      "6  | decoder_variable_selection         | VariableSelectionNetwork        | 1.2 K \n",
      "7  | static_context_variable_selection  | GatedResidualNetwork            | 1.1 K \n",
      "8  | static_context_initial_hidden_lstm | GatedResidualNetwork            | 1.1 K \n",
      "9  | static_context_initial_cell_lstm   | GatedResidualNetwork            | 1.1 K \n",
      "10 | static_context_enrichment          | GatedResidualNetwork            | 1.1 K \n",
      "11 | lstm_encoder                       | LSTM                            | 2.2 K \n",
      "12 | lstm_decoder                       | LSTM                            | 2.2 K \n",
      "13 | post_lstm_gate_encoder             | GatedLinearUnit                 | 544   \n",
      "14 | post_lstm_add_norm_encoder         | AddNorm                         | 32    \n",
      "15 | static_enrichment                  | GatedResidualNetwork            | 1.4 K \n",
      "16 | multihead_attn                     | InterpretableMultiHeadAttention | 1.1 K \n",
      "17 | post_attn_gate_norm                | GateAddNorm                     | 576   \n",
      "18 | pos_wise_ff                        | GatedResidualNetwork            | 1.1 K \n",
      "19 | pre_output_gate_norm               | GateAddNorm                     | 576   \n",
      "20 | output_layer                       | Linear                          | 17    \n",
      "----------------------------------------------------------------------------------------\n",
      "19.4 K    Trainable params\n",
      "0         Non-trainable params\n",
      "19.4 K    Total params\n",
      "0.077     Total estimated model params size (MB)\n",
      "Global seed set to 42\n"
     ]
    },
    {
     "data": {
      "application/vnd.jupyter.widget-view+json": {
       "model_id": "dc30d96d0de74b79baa5ae82b8edff2f",
       "version_major": 2,
       "version_minor": 0
      },
      "text/plain": [
       "Finding best initial lr:   0%|          | 0/100 [00:00<?, ?it/s]"
      ]
     },
     "metadata": {},
     "output_type": "display_data"
    },
    {
     "name": "stderr",
     "output_type": "stream",
     "text": [
      "Restoring states from the checkpoint file at /content/data/lr_find_temp_model.ckpt\n",
      "Restored all states from the checkpoint file at /content/data/lr_find_temp_model.ckpt\n"
     ]
    },
    {
     "name": "stdout",
     "output_type": "stream",
     "text": [
      "suggested learning rate: 4.5708818961487505e-07\n"
     ]
    },
    {
     "data": {
      "image/png": "[encoded data removed]",
      "text/plain": [
       "<Figure size 432x288 with 1 Axes>"
      ]
     },
     "metadata": {
      "needs_background": "light"
     },
     "output_type": "display_data"
    }
   ],
   "source": [
    "# find optimal learning rate\n",
    "res = trainer.tuner.lr_find(\n",
    "    tft,\n",
    "    train_dataloader=train_dataloader,\n",
    "    val_dataloaders=val_dataloader,\n",
    "    max_lr=0.1,\n",
    "    min_lr=1e-7,\n",
    ")\n",
    "\n",
    "print(f\"suggested learning rate: {res.suggestion()}\")\n",
    "fig = res.plot(show=True, suggest=True)\n",
    "fig.show()"
   ]
  },
  {
   "cell_type": "markdown",
   "id": "discrete-indonesia",
   "metadata": {
    "id": "discrete-indonesia",
    "papermill": {
     "duration": 0.026827,
     "end_time": "2021-06-05T16:18:12.199475",
     "exception": false,
     "start_time": "2021-06-05T16:18:12.172648",
     "status": "completed"
    },
    "tags": []
   },
   "source": [
    "<center><h1 style = \"font-size:20px;font-family: Comic Sans MS\">Callbacks ,Trainer and final Model</h1></center>"
   ]
  },
  {
   "cell_type": "code",
   "execution_count": 51,
   "id": "broad-pressing",
   "metadata": {
    "colab": {
     "base_uri": "https://localhost:8080/"
    },
    "execution": {
     "iopub.execute_input": "2021-06-05T16:18:12.265982Z",
     "iopub.status.busy": "2021-06-05T16:18:12.265199Z",
     "iopub.status.idle": "2021-06-05T16:18:12.292959Z",
     "shell.execute_reply": "2021-06-05T16:18:12.293570Z",
     "shell.execute_reply.started": "2021-06-04T19:31:01.883197Z"
    },
    "id": "broad-pressing",
    "outputId": "9211d2ad-5b05-458a-b459-8469f314a0e1",
    "papermill": {
     "duration": 0.066461,
     "end_time": "2021-06-05T16:18:12.293726",
     "exception": false,
     "start_time": "2021-06-05T16:18:12.227265",
     "status": "completed"
    },
    "tags": []
   },
   "outputs": [
    {
     "name": "stderr",
     "output_type": "stream",
     "text": [
      "GPU available: False, used: False\n",
      "TPU available: False, using: 0 TPU cores\n",
      "IPU available: False, using: 0 IPUs\n"
     ]
    },
    {
     "name": "stdout",
     "output_type": "stream",
     "text": [
      "Number of parameters in network: 19.4k\n"
     ]
    }
   ],
   "source": [
    "early_stop_callback = EarlyStopping(monitor=\"val_loss\", min_delta=1e-7, patience=10, verbose=False, mode=\"min\")\n",
    "lr_logger = LearningRateMonitor()  \n",
    "logger = TensorBoardLogger(\"lightning_logs\") \n",
    "\n",
    "trainer = pl.Trainer(\n",
    "    max_epochs=2,\n",
    "    gpus=0, #set the number of GPUS (if you are running the notebook on a GPU Instance/Device)\n",
    "    weights_summary=\"top\",\n",
    "    gradient_clip_val=0.1,\n",
    "    limit_train_batches=30,  \n",
    "    callbacks=[lr_logger, early_stop_callback],\n",
    "    logger=logger,\n",
    ")\n",
    "\n",
    "\n",
    "tft = TemporalFusionTransformer.from_dataset(\n",
    "    training,\n",
    "    learning_rate=5e-7,\n",
    "    hidden_size=16,\n",
    "    attention_head_size=1,\n",
    "    dropout=0.1,\n",
    "    hidden_continuous_size=8,\n",
    "    output_size=1, \n",
    "    loss=pytorch_forecasting.metrics.RMSE(),\n",
    "    log_interval=10,  \n",
    "    reduce_on_plateau_patience=4,\n",
    ")\n",
    "print(f\"Number of parameters in network: {tft.size()/1e3:.1f}k\")"
   ]
  },
  {
   "cell_type": "markdown",
   "id": "potential-pledge",
   "metadata": {
    "id": "potential-pledge",
    "papermill": {
     "duration": 0.027795,
     "end_time": "2021-06-05T16:18:12.349775",
     "exception": false,
     "start_time": "2021-06-05T16:18:12.321980",
     "status": "completed"
    },
    "tags": []
   },
   "source": [
    "<center><h1 style = \"font-size:20px;font-family: Comic Sans MS\">Fit the model</h1></center>"
   ]
  },
  {
   "cell_type": "code",
   "execution_count": 52,
   "id": "common-trunk",
   "metadata": {
    "colab": {
     "base_uri": "https://localhost:8080/",
     "height": 659,
     "referenced_widgets": [
      "ac920e26ee784dff86d98c13a1c6991c",
      "a966b2fca594482f85701ad33c74f238",
      "ce20457b5a4946408741afe99c592339",
      "f36927fa66a04d598add640a67163995",
      "780a64d99f8b447d9d28937daee07071",
      "93307e063fc24a5ea126176a449f0c8b",
      "ef8d4a3855ce43688cf3c10fb36bba83",
      "126c0cb86b8b45c580e4238b2812027b",
      "23202585bb5d49ecadba65aacd8c2966",
      "9d552c54844e4c81a390dfc67e65e93f",
      "e04f58708c7744fe98983a53a9900e9c",
      "dea0d0da5ad143ba884853c91354d039",
      "9e29195f18354c2e9b5303e4c17375b5",
      "a7c290131b7b47478feeff4ce9779b85",
      "1ad97499df594c19a51492a970b487da",
      "93ab12b1299d4a69b39aa2a9feff94a2",
      "461376203e164fb6814450255f4c87bc",
      "279bfca03d0b4421bd214b89d76f52ce",
      "3dc904c2306542fca6201c485bf503a3",
      "ab24c287e6c1431d834f18458cce03e5",
      "eaeff724fdf44b03b03de2cb7debdc0e",
      "5061e965faaa4496b7272a72d345c31b",
      "0a8fbbe65b944eccb34744311093a033",
      "d6bf6a46cccd4a5f9abf893633f63f73",
      "ca38ce7e891246668a5f47151a3db3ab",
      "c720fb0fad8b4f268e6a2d2b3b5d9e77",
      "8f352f3905f64cb383865428f08e3a7b",
      "f5c3b985050d410d97099a4654e367b5",
      "913b64fd12b7422cb895fda0065a8261",
      "b0c7426793ff47f6bebcd1b1aa7eaff6",
      "4acb3d90b7cd4585935cd780c8ca64df",
      "e1388345820749d6a64976fc19f0886c",
      "fdba80cdc590457d860ad298f033b7e2",
      "4cced3f7c76f4c51b4471b148e9cbab0",
      "81cb5bbfeafc49f191b9adf9cd5eafdd",
      "4803f706e0b5459da8591488ad868966",
      "38ca13e4ffd64f8f8267333b7578b976",
      "0a8b1817396b4ffa8bd79417cb101c87",
      "f118c3b5c8cb443998c1660f711a31a6",
      "7fa3b5bd8b77418da94bdae5294849df",
      "3ce2914c1bf4417c9cce9aea09407e27",
      "4e785207f07440a6825dba86e7df375d",
      "70b6173c7ce44a209a5803e0d2cc3cf4",
      "a6da46371e7e4b65bd01879b2814ebbe"
     ]
    },
    "execution": {
     "iopub.execute_input": "2021-06-05T16:18:12.412912Z",
     "iopub.status.busy": "2021-06-05T16:18:12.412124Z",
     "iopub.status.idle": "2021-06-05T19:49:22.474796Z",
     "shell.execute_reply": "2021-06-05T19:49:22.474364Z"
    },
    "id": "common-trunk",
    "outputId": "3ac16686-dda7-485c-85bb-650586179e90",
    "papermill": {
     "duration": 12670.097999,
     "end_time": "2021-06-05T19:49:22.474919",
     "exception": false,
     "start_time": "2021-06-05T16:18:12.376920",
     "status": "completed"
    },
    "tags": []
   },
   "outputs": [
    {
     "name": "stderr",
     "output_type": "stream",
     "text": [
      "/usr/local/lib/python3.7/dist-packages/pytorch_lightning/trainer/trainer.py:531: LightningDeprecationWarning:\n",
      "\n",
      "`trainer.fit(train_dataloader)` is deprecated in v1.4 and will be removed in v1.6. Use `trainer.fit(train_dataloaders)` instead. HINT: added 's'\n",
      "\n",
      "\n",
      "   | Name                               | Type                            | Params\n",
      "----------------------------------------------------------------------------------------\n",
      "0  | loss                               | RMSE                            | 0     \n",
      "1  | logging_metrics                    | ModuleList                      | 0     \n",
      "2  | input_embeddings                   | MultiEmbedding                  | 0     \n",
      "3  | prescalers                         | ModuleDict                      | 112   \n",
      "4  | static_variable_selection          | VariableSelectionNetwork        | 3.0 K \n",
      "5  | encoder_variable_selection         | VariableSelectionNetwork        | 1.2 K \n",
      "6  | decoder_variable_selection         | VariableSelectionNetwork        | 1.2 K \n",
      "7  | static_context_variable_selection  | GatedResidualNetwork            | 1.1 K \n",
      "8  | static_context_initial_hidden_lstm | GatedResidualNetwork            | 1.1 K \n",
      "9  | static_context_initial_cell_lstm   | GatedResidualNetwork            | 1.1 K \n",
      "10 | static_context_enrichment          | GatedResidualNetwork            | 1.1 K \n",
      "11 | lstm_encoder                       | LSTM                            | 2.2 K \n",
      "12 | lstm_decoder                       | LSTM                            | 2.2 K \n",
      "13 | post_lstm_gate_encoder             | GatedLinearUnit                 | 544   \n",
      "14 | post_lstm_add_norm_encoder         | AddNorm                         | 32    \n",
      "15 | static_enrichment                  | GatedResidualNetwork            | 1.4 K \n",
      "16 | multihead_attn                     | InterpretableMultiHeadAttention | 1.1 K \n",
      "17 | post_attn_gate_norm                | GateAddNorm                     | 576   \n",
      "18 | pos_wise_ff                        | GatedResidualNetwork            | 1.1 K \n",
      "19 | pre_output_gate_norm               | GateAddNorm                     | 576   \n",
      "20 | output_layer                       | Linear                          | 17    \n",
      "----------------------------------------------------------------------------------------\n",
      "19.4 K    Trainable params\n",
      "0         Non-trainable params\n",
      "19.4 K    Total params\n",
      "0.077     Total estimated model params size (MB)\n"
     ]
    },
    {
     "data": {
      "application/vnd.jupyter.widget-view+json": {
       "model_id": "ac920e26ee784dff86d98c13a1c6991c",
       "version_major": 2,
       "version_minor": 0
      },
      "text/plain": [
       "Validation sanity check: 0it [00:00, ?it/s]"
      ]
     },
     "metadata": {},
     "output_type": "display_data"
    },
    {
     "name": "stderr",
     "output_type": "stream",
     "text": [
      "Global seed set to 42\n"
     ]
    },
    {
     "data": {
      "application/vnd.jupyter.widget-view+json": {
       "model_id": "dea0d0da5ad143ba884853c91354d039",
       "version_major": 2,
       "version_minor": 0
      },
      "text/plain": [
       "Training: -1it [00:00, ?it/s]"
      ]
     },
     "metadata": {},
     "output_type": "display_data"
    },
    {
     "data": {
      "application/vnd.jupyter.widget-view+json": {
       "model_id": "0a8fbbe65b944eccb34744311093a033",
       "version_major": 2,
       "version_minor": 0
      },
      "text/plain": [
       "Validating: 0it [00:00, ?it/s]"
      ]
     },
     "metadata": {},
     "output_type": "display_data"
    },
    {
     "data": {
      "application/vnd.jupyter.widget-view+json": {
       "model_id": "4cced3f7c76f4c51b4471b148e9cbab0",
       "version_major": 2,
       "version_minor": 0
      },
      "text/plain": [
       "Validating: 0it [00:00, ?it/s]"
      ]
     },
     "metadata": {},
     "output_type": "display_data"
    }
   ],
   "source": [
    "# fit network\n",
    "trainer.fit(\n",
    "    tft,\n",
    "    train_dataloader=train_dataloader,\n",
    "    val_dataloaders=val_dataloader,\n",
    ")"
   ]
  },
  {
   "cell_type": "markdown",
   "id": "accomplished-premium",
   "metadata": {
    "id": "accomplished-premium",
    "papermill": {
     "duration": 0.039824,
     "end_time": "2021-06-05T19:49:22.554522",
     "exception": false,
     "start_time": "2021-06-05T19:49:22.514698",
     "status": "completed"
    },
    "tags": []
   },
   "source": [
    "<center><h1 style = \"font-size:20px;font-family: Comic Sans MS\">Load the best model from Lightning checkpoint</h1></center>"
   ]
  },
  {
   "cell_type": "code",
   "execution_count": 53,
   "id": "liberal-vector",
   "metadata": {
    "execution": {
     "iopub.execute_input": "2021-06-05T19:49:22.638263Z",
     "iopub.status.busy": "2021-06-05T19:49:22.637578Z",
     "iopub.status.idle": "2021-06-05T19:49:22.891297Z",
     "shell.execute_reply": "2021-06-05T19:49:22.890849Z"
    },
    "id": "liberal-vector",
    "papermill": {
     "duration": 0.297006,
     "end_time": "2021-06-05T19:49:22.891429",
     "exception": false,
     "start_time": "2021-06-05T19:49:22.594423",
     "status": "completed"
    },
    "tags": []
   },
   "outputs": [],
   "source": [
    "# load the best model according to the validation loss\n",
    "# (given that we use early stopping, this is not necessarily the last epoch)\n",
    "best_model_path = trainer.checkpoint_callback.best_model_path\n",
    "best_tft = TemporalFusionTransformer.load_from_checkpoint(best_model_path)"
   ]
  },
  {
   "cell_type": "markdown",
   "id": "italic-detective",
   "metadata": {
    "id": "italic-detective",
    "papermill": {
     "duration": 0.039987,
     "end_time": "2021-06-05T19:49:22.972195",
     "exception": false,
     "start_time": "2021-06-05T19:49:22.932208",
     "status": "completed"
    },
    "tags": []
   },
   "source": [
    "<center><h1 style = \"font-size:20px;font-family: Comic Sans MS\">Get the validation RMSE</h1></center>"
   ]
  },
  {
   "cell_type": "code",
   "execution_count": 54,
   "id": "ahead-exclusive",
   "metadata": {
    "execution": {
     "iopub.execute_input": "2021-06-05T19:49:23.057645Z",
     "iopub.status.busy": "2021-06-05T19:49:23.056883Z",
     "iopub.status.idle": "2021-06-05T19:59:40.287669Z",
     "shell.execute_reply": "2021-06-05T19:59:40.287183Z"
    },
    "id": "ahead-exclusive",
    "papermill": {
     "duration": 617.275936,
     "end_time": "2021-06-05T19:59:40.287806",
     "exception": false,
     "start_time": "2021-06-05T19:49:23.011870",
     "status": "completed"
    },
    "tags": []
   },
   "outputs": [],
   "source": [
    "# calcualte root mean squared error on validation set\n",
    "actuals = torch.cat([y[0] for x, y in iter(val_dataloader)])\n",
    "val_predictions = best_tft.predict(val_dataloader)"
   ]
  },
  {
   "cell_type": "code",
   "execution_count": null,
   "id": "lpJ3S7-WRNh0",
   "metadata": {
    "id": "lpJ3S7-WRNh0"
   },
   "outputs": [],
   "source": [
    "plt.plot(val_predictions)\n",
    "plt.show()\n",
    "plt.plot(actuals)"
   ]
  },
  {
   "cell_type": "code",
   "execution_count": 55,
   "id": "parliamentary-welding",
   "metadata": {
    "colab": {
     "base_uri": "https://localhost:8080/"
    },
    "execution": {
     "iopub.execute_input": "2021-06-05T19:59:40.374760Z",
     "iopub.status.busy": "2021-06-05T19:59:40.373930Z",
     "iopub.status.idle": "2021-06-05T19:59:40.382092Z",
     "shell.execute_reply": "2021-06-05T19:59:40.382507Z"
    },
    "id": "parliamentary-welding",
    "outputId": "9d5bd4c8-bfcc-4172-daa3-857496e41cd3",
    "papermill": {
     "duration": 0.053408,
     "end_time": "2021-06-05T19:59:40.382646",
     "exception": false,
     "start_time": "2021-06-05T19:59:40.329238",
     "status": "completed"
    },
    "tags": []
   },
   "outputs": [
    {
     "data": {
      "text/plain": [
       "tensor(7.2349)"
      ]
     },
     "execution_count": 55,
     "metadata": {},
     "output_type": "execute_result"
    }
   ],
   "source": [
    "criterion = nn.MSELoss()\n",
    "torch.sqrt(criterion(actuals,val_predictions))"
   ]
  },
  {
   "cell_type": "markdown",
   "id": "twelve-trinidad",
   "metadata": {
    "id": "twelve-trinidad",
    "papermill": {
     "duration": 0.039534,
     "end_time": "2021-06-05T19:59:40.542381",
     "exception": false,
     "start_time": "2021-06-05T19:59:40.502847",
     "status": "completed"
    },
    "tags": []
   },
   "source": [
    "<center><h1 style = \"font-size:20px;font-family: Comic Sans MS\">Predict on the test data</h1></center>"
   ]
  },
  {
   "cell_type": "code",
   "execution_count": 56,
   "id": "coordinated-produce",
   "metadata": {
    "execution": {
     "iopub.execute_input": "2021-06-05T19:59:40.634335Z",
     "iopub.status.busy": "2021-06-05T19:59:40.633757Z",
     "iopub.status.idle": "2021-06-05T20:03:01.563078Z",
     "shell.execute_reply": "2021-06-05T20:03:01.562538Z"
    },
    "id": "coordinated-produce",
    "papermill": {
     "duration": 200.980505,
     "end_time": "2021-06-05T20:03:01.563226",
     "exception": false,
     "start_time": "2021-06-05T19:59:40.582721",
     "status": "completed"
    },
    "tags": []
   },
   "outputs": [],
   "source": [
    "df_test = pd.read_csv(path+'/test.csv')\n",
    "df_test=df_test.drop(['ID'],axis=1)\n",
    "df_test['date_block_num']=34\n",
    "df_test['item_cnt_month']=0\n",
    "# decoder_data=df_test\n",
    "# encoder_data = df_train[lambda x: x.date_block_num > x.date_block_num.max() - max_encoder_length]\n",
    "# new_prediction_data = pd.concat([encoder_data, decoder_data], ignore_index=True)\n",
    "pred,x=best_tft.predict(df_test,return_x=True)"
   ]
  },
  {
   "cell_type": "code",
   "execution_count": 57,
   "id": "oRYMADCqiXsC",
   "metadata": {
    "colab": {
     "base_uri": "https://localhost:8080/"
    },
    "id": "oRYMADCqiXsC",
    "outputId": "e517cd37-3928-4b2a-f5e4-7d6e0b8d4534"
   },
   "outputs": [
    {
     "name": "stdout",
     "output_type": "stream",
     "text": [
      "Using PyTorch version: 1.9.0+cu102 CUDA: False\n"
     ]
    },
    {
     "data": {
      "text/plain": [
       "device(type='cpu')"
      ]
     },
     "execution_count": 57,
     "metadata": {},
     "output_type": "execute_result"
    }
   ],
   "source": [
    "# To use GPUS \n",
    "use_cuda = torch.cuda.is_available()\n",
    "print('Using PyTorch version:', torch.__version__, 'CUDA:', use_cuda)\n",
    "device = torch.device(\"cuda\" if use_cuda else \"cpu\")\n",
    "device\n",
    "\n",
    "#then you can just do variable_name.to(device) to push the data on to GPU\n",
    "# and similarly for models also => model.to(device). \n",
    "#this code with above additions will push the data onto GPUs/if available else it will retain it on CPU. "
   ]
  },
  {
   "cell_type": "code",
   "execution_count": null,
   "id": "lWNN-yCNIfk1",
   "metadata": {
    "id": "lWNN-yCNIfk1"
   },
   "outputs": [],
   "source": []
  }
 ],
 "metadata": {
  "colab": {
   "collapsed_sections": [
    "xXVksZqp4IdN",
    "KuTydQYm4VXb"
   ],
   "name": "Time Series Forecasting using LSTM in PyTorch:- Basics.ipynb",
   "provenance": []
  },
  "kernelspec": {
   "display_name": "Python 3 (ipykernel)",
   "language": "python",
   "name": "python3"
  },
  "language_info": {
   "codemirror_mode": {
    "name": "ipython",
    "version": 3
   },
   "file_extension": ".py",
   "mimetype": "text/x-python",
   "name": "python",
   "nbconvert_exporter": "python",
   "pygments_lexer": "ipython3",
   "version": "3.8.11"
  },
  "papermill": {
   "default_parameters": {},
   "duration": 13765.411083,
   "end_time": "2021-06-05T20:03:04.433287",
   "environment_variables": {},
   "exception": null,
   "input_path": "__notebook__.ipynb",
   "output_path": "__notebook__.ipynb",
   "parameters": {},
   "start_time": "2021-06-05T16:13:39.022204",
   "version": "2.3.3"
  },
  "widgets": {
   "application/vnd.jupyter.widget-state+json": {
    "0a8b1817396b4ffa8bd79417cb101c87": {
     "model_module": "@jupyter-widgets/controls",
     "model_module_version": "1.5.0",
     "model_name": "HTMLModel",
     "state": {
      "_dom_classes": [],
      "_model_module": "@jupyter-widgets/controls",
      "_model_module_version": "1.5.0",
      "_model_name": "HTMLModel",
      "_view_count": null,
      "_view_module": "@jupyter-widgets/controls",
      "_view_module_version": "1.5.0",
      "_view_name": "HTMLView",
      "description": "",
      "description_tooltip": null,
      "layout": "IPY_MODEL_a6da46371e7e4b65bd01879b2814ebbe",
      "placeholder": "​",
      "style": "IPY_MODEL_70b6173c7ce44a209a5803e0d2cc3cf4",
      "value": " 332/332 [05:45&lt;00:00,  1.06s/it]"
     }
    },
    "0a8fbbe65b944eccb34744311093a033": {
     "model_module": "@jupyter-widgets/controls",
     "model_module_version": "1.5.0",
     "model_name": "HBoxModel",
     "state": {
      "_dom_classes": [],
      "_model_module": "@jupyter-widgets/controls",
      "_model_module_version": "1.5.0",
      "_model_name": "HBoxModel",
      "_view_count": null,
      "_view_module": "@jupyter-widgets/controls",
      "_view_module_version": "1.5.0",
      "_view_name": "HBoxView",
      "box_style": "",
      "children": [
       "IPY_MODEL_ca38ce7e891246668a5f47151a3db3ab",
       "IPY_MODEL_c720fb0fad8b4f268e6a2d2b3b5d9e77",
       "IPY_MODEL_8f352f3905f64cb383865428f08e3a7b"
      ],
      "layout": "IPY_MODEL_d6bf6a46cccd4a5f9abf893633f63f73"
     }
    },
    "126c0cb86b8b45c580e4238b2812027b": {
     "model_module": "@jupyter-widgets/controls",
     "model_module_version": "1.5.0",
     "model_name": "ProgressStyleModel",
     "state": {
      "_model_module": "@jupyter-widgets/controls",
      "_model_module_version": "1.5.0",
      "_model_name": "ProgressStyleModel",
      "_view_count": null,
      "_view_module": "@jupyter-widgets/base",
      "_view_module_version": "1.2.0",
      "_view_name": "StyleView",
      "bar_color": null,
      "description_width": ""
     }
    },
    "1ad97499df594c19a51492a970b487da": {
     "model_module": "@jupyter-widgets/controls",
     "model_module_version": "1.5.0",
     "model_name": "FloatProgressModel",
     "state": {
      "_dom_classes": [],
      "_model_module": "@jupyter-widgets/controls",
      "_model_module_version": "1.5.0",
      "_model_name": "FloatProgressModel",
      "_view_count": null,
      "_view_module": "@jupyter-widgets/controls",
      "_view_module_version": "1.5.0",
      "_view_name": "ProgressView",
      "bar_style": "success",
      "description": "",
      "description_tooltip": null,
      "layout": "IPY_MODEL_ab24c287e6c1431d834f18458cce03e5",
      "max": 362,
      "min": 0,
      "orientation": "horizontal",
      "style": "IPY_MODEL_3dc904c2306542fca6201c485bf503a3",
      "value": 362
     }
    },
    "1f60531ebb814fb788b9588c4e5e82b5": {
     "model_module": "@jupyter-widgets/controls",
     "model_module_version": "1.5.0",
     "model_name": "DescriptionStyleModel",
     "state": {
      "_model_module": "@jupyter-widgets/controls",
      "_model_module_version": "1.5.0",
      "_model_name": "DescriptionStyleModel",
      "_view_count": null,
      "_view_module": "@jupyter-widgets/base",
      "_view_module_version": "1.2.0",
      "_view_name": "StyleView",
      "description_width": ""
     }
    },
    "23202585bb5d49ecadba65aacd8c2966": {
     "model_module": "@jupyter-widgets/base",
     "model_module_version": "1.2.0",
     "model_name": "LayoutModel",
     "state": {
      "_model_module": "@jupyter-widgets/base",
      "_model_module_version": "1.2.0",
      "_model_name": "LayoutModel",
      "_view_count": null,
      "_view_module": "@jupyter-widgets/base",
      "_view_module_version": "1.2.0",
      "_view_name": "LayoutView",
      "align_content": null,
      "align_items": null,
      "align_self": null,
      "border": null,
      "bottom": null,
      "display": null,
      "flex": "2",
      "flex_flow": null,
      "grid_area": null,
      "grid_auto_columns": null,
      "grid_auto_flow": null,
      "grid_auto_rows": null,
      "grid_column": null,
      "grid_gap": null,
      "grid_row": null,
      "grid_template_areas": null,
      "grid_template_columns": null,
      "grid_template_rows": null,
      "height": null,
      "justify_content": null,
      "justify_items": null,
      "left": null,
      "margin": null,
      "max_height": null,
      "max_width": null,
      "min_height": null,
      "min_width": null,
      "object_fit": null,
      "object_position": null,
      "order": null,
      "overflow": null,
      "overflow_x": null,
      "overflow_y": null,
      "padding": null,
      "right": null,
      "top": null,
      "visibility": null,
      "width": null
     }
    },
    "279bfca03d0b4421bd214b89d76f52ce": {
     "model_module": "@jupyter-widgets/base",
     "model_module_version": "1.2.0",
     "model_name": "LayoutModel",
     "state": {
      "_model_module": "@jupyter-widgets/base",
      "_model_module_version": "1.2.0",
      "_model_name": "LayoutModel",
      "_view_count": null,
      "_view_module": "@jupyter-widgets/base",
      "_view_module_version": "1.2.0",
      "_view_name": "LayoutView",
      "align_content": null,
      "align_items": null,
      "align_self": null,
      "border": null,
      "bottom": null,
      "display": null,
      "flex": null,
      "flex_flow": null,
      "grid_area": null,
      "grid_auto_columns": null,
      "grid_auto_flow": null,
      "grid_auto_rows": null,
      "grid_column": null,
      "grid_gap": null,
      "grid_row": null,
      "grid_template_areas": null,
      "grid_template_columns": null,
      "grid_template_rows": null,
      "height": null,
      "justify_content": null,
      "justify_items": null,
      "left": null,
      "margin": null,
      "max_height": null,
      "max_width": null,
      "min_height": null,
      "min_width": null,
      "object_fit": null,
      "object_position": null,
      "order": null,
      "overflow": null,
      "overflow_x": null,
      "overflow_y": null,
      "padding": null,
      "right": null,
      "top": null,
      "visibility": null,
      "width": null
     }
    },
    "38ca13e4ffd64f8f8267333b7578b976": {
     "model_module": "@jupyter-widgets/controls",
     "model_module_version": "1.5.0",
     "model_name": "FloatProgressModel",
     "state": {
      "_dom_classes": [],
      "_model_module": "@jupyter-widgets/controls",
      "_model_module_version": "1.5.0",
      "_model_name": "FloatProgressModel",
      "_view_count": null,
      "_view_module": "@jupyter-widgets/controls",
      "_view_module_version": "1.5.0",
      "_view_name": "ProgressView",
      "bar_style": "",
      "description": "",
      "description_tooltip": null,
      "layout": "IPY_MODEL_4e785207f07440a6825dba86e7df375d",
      "max": 332,
      "min": 0,
      "orientation": "horizontal",
      "style": "IPY_MODEL_3ce2914c1bf4417c9cce9aea09407e27",
      "value": 332
     }
    },
    "3ce2914c1bf4417c9cce9aea09407e27": {
     "model_module": "@jupyter-widgets/controls",
     "model_module_version": "1.5.0",
     "model_name": "ProgressStyleModel",
     "state": {
      "_model_module": "@jupyter-widgets/controls",
      "_model_module_version": "1.5.0",
      "_model_name": "ProgressStyleModel",
      "_view_count": null,
      "_view_module": "@jupyter-widgets/base",
      "_view_module_version": "1.2.0",
      "_view_name": "StyleView",
      "bar_color": null,
      "description_width": ""
     }
    },
    "3dc904c2306542fca6201c485bf503a3": {
     "model_module": "@jupyter-widgets/controls",
     "model_module_version": "1.5.0",
     "model_name": "ProgressStyleModel",
     "state": {
      "_model_module": "@jupyter-widgets/controls",
      "_model_module_version": "1.5.0",
      "_model_name": "ProgressStyleModel",
      "_view_count": null,
      "_view_module": "@jupyter-widgets/base",
      "_view_module_version": "1.2.0",
      "_view_name": "StyleView",
      "bar_color": null,
      "description_width": ""
     }
    },
    "461376203e164fb6814450255f4c87bc": {
     "model_module": "@jupyter-widgets/controls",
     "model_module_version": "1.5.0",
     "model_name": "DescriptionStyleModel",
     "state": {
      "_model_module": "@jupyter-widgets/controls",
      "_model_module_version": "1.5.0",
      "_model_name": "DescriptionStyleModel",
      "_view_count": null,
      "_view_module": "@jupyter-widgets/base",
      "_view_module_version": "1.2.0",
      "_view_name": "StyleView",
      "description_width": ""
     }
    },
    "4803f706e0b5459da8591488ad868966": {
     "model_module": "@jupyter-widgets/controls",
     "model_module_version": "1.5.0",
     "model_name": "HTMLModel",
     "state": {
      "_dom_classes": [],
      "_model_module": "@jupyter-widgets/controls",
      "_model_module_version": "1.5.0",
      "_model_name": "HTMLModel",
      "_view_count": null,
      "_view_module": "@jupyter-widgets/controls",
      "_view_module_version": "1.5.0",
      "_view_name": "HTMLView",
      "description": "",
      "description_tooltip": null,
      "layout": "IPY_MODEL_7fa3b5bd8b77418da94bdae5294849df",
      "placeholder": "​",
      "style": "IPY_MODEL_f118c3b5c8cb443998c1660f711a31a6",
      "value": "Validating: 100%"
     }
    },
    "4acb3d90b7cd4585935cd780c8ca64df": {
     "model_module": "@jupyter-widgets/base",
     "model_module_version": "1.2.0",
     "model_name": "LayoutModel",
     "state": {
      "_model_module": "@jupyter-widgets/base",
      "_model_module_version": "1.2.0",
      "_model_name": "LayoutModel",
      "_view_count": null,
      "_view_module": "@jupyter-widgets/base",
      "_view_module_version": "1.2.0",
      "_view_name": "LayoutView",
      "align_content": null,
      "align_items": null,
      "align_self": null,
      "border": null,
      "bottom": null,
      "display": null,
      "flex": "2",
      "flex_flow": null,
      "grid_area": null,
      "grid_auto_columns": null,
      "grid_auto_flow": null,
      "grid_auto_rows": null,
      "grid_column": null,
      "grid_gap": null,
      "grid_row": null,
      "grid_template_areas": null,
      "grid_template_columns": null,
      "grid_template_rows": null,
      "height": null,
      "justify_content": null,
      "justify_items": null,
      "left": null,
      "margin": null,
      "max_height": null,
      "max_width": null,
      "min_height": null,
      "min_width": null,
      "object_fit": null,
      "object_position": null,
      "order": null,
      "overflow": null,
      "overflow_x": null,
      "overflow_y": null,
      "padding": null,
      "right": null,
      "top": null,
      "visibility": null,
      "width": null
     }
    },
    "4cced3f7c76f4c51b4471b148e9cbab0": {
     "model_module": "@jupyter-widgets/controls",
     "model_module_version": "1.5.0",
     "model_name": "HBoxModel",
     "state": {
      "_dom_classes": [],
      "_model_module": "@jupyter-widgets/controls",
      "_model_module_version": "1.5.0",
      "_model_name": "HBoxModel",
      "_view_count": null,
      "_view_module": "@jupyter-widgets/controls",
      "_view_module_version": "1.5.0",
      "_view_name": "HBoxView",
      "box_style": "",
      "children": [
       "IPY_MODEL_4803f706e0b5459da8591488ad868966",
       "IPY_MODEL_38ca13e4ffd64f8f8267333b7578b976",
       "IPY_MODEL_0a8b1817396b4ffa8bd79417cb101c87"
      ],
      "layout": "IPY_MODEL_81cb5bbfeafc49f191b9adf9cd5eafdd"
     }
    },
    "4e785207f07440a6825dba86e7df375d": {
     "model_module": "@jupyter-widgets/base",
     "model_module_version": "1.2.0",
     "model_name": "LayoutModel",
     "state": {
      "_model_module": "@jupyter-widgets/base",
      "_model_module_version": "1.2.0",
      "_model_name": "LayoutModel",
      "_view_count": null,
      "_view_module": "@jupyter-widgets/base",
      "_view_module_version": "1.2.0",
      "_view_name": "LayoutView",
      "align_content": null,
      "align_items": null,
      "align_self": null,
      "border": null,
      "bottom": null,
      "display": null,
      "flex": "2",
      "flex_flow": null,
      "grid_area": null,
      "grid_auto_columns": null,
      "grid_auto_flow": null,
      "grid_auto_rows": null,
      "grid_column": null,
      "grid_gap": null,
      "grid_row": null,
      "grid_template_areas": null,
      "grid_template_columns": null,
      "grid_template_rows": null,
      "height": null,
      "justify_content": null,
      "justify_items": null,
      "left": null,
      "margin": null,
      "max_height": null,
      "max_width": null,
      "min_height": null,
      "min_width": null,
      "object_fit": null,
      "object_position": null,
      "order": null,
      "overflow": null,
      "overflow_x": null,
      "overflow_y": null,
      "padding": null,
      "right": null,
      "top": null,
      "visibility": null,
      "width": null
     }
    },
    "502f31d0f771409d9f1e9d03971ac4ad": {
     "model_module": "@jupyter-widgets/controls",
     "model_module_version": "1.5.0",
     "model_name": "ProgressStyleModel",
     "state": {
      "_model_module": "@jupyter-widgets/controls",
      "_model_module_version": "1.5.0",
      "_model_name": "ProgressStyleModel",
      "_view_count": null,
      "_view_module": "@jupyter-widgets/base",
      "_view_module_version": "1.2.0",
      "_view_name": "StyleView",
      "bar_color": null,
      "description_width": ""
     }
    },
    "5061e965faaa4496b7272a72d345c31b": {
     "model_module": "@jupyter-widgets/base",
     "model_module_version": "1.2.0",
     "model_name": "LayoutModel",
     "state": {
      "_model_module": "@jupyter-widgets/base",
      "_model_module_version": "1.2.0",
      "_model_name": "LayoutModel",
      "_view_count": null,
      "_view_module": "@jupyter-widgets/base",
      "_view_module_version": "1.2.0",
      "_view_name": "LayoutView",
      "align_content": null,
      "align_items": null,
      "align_self": null,
      "border": null,
      "bottom": null,
      "display": null,
      "flex": null,
      "flex_flow": null,
      "grid_area": null,
      "grid_auto_columns": null,
      "grid_auto_flow": null,
      "grid_auto_rows": null,
      "grid_column": null,
      "grid_gap": null,
      "grid_row": null,
      "grid_template_areas": null,
      "grid_template_columns": null,
      "grid_template_rows": null,
      "height": null,
      "justify_content": null,
      "justify_items": null,
      "left": null,
      "margin": null,
      "max_height": null,
      "max_width": null,
      "min_height": null,
      "min_width": null,
      "object_fit": null,
      "object_position": null,
      "order": null,
      "overflow": null,
      "overflow_x": null,
      "overflow_y": null,
      "padding": null,
      "right": null,
      "top": null,
      "visibility": null,
      "width": null
     }
    },
    "53ae95f4efe940eda09f9f2d09e3d671": {
     "model_module": "@jupyter-widgets/base",
     "model_module_version": "1.2.0",
     "model_name": "LayoutModel",
     "state": {
      "_model_module": "@jupyter-widgets/base",
      "_model_module_version": "1.2.0",
      "_model_name": "LayoutModel",
      "_view_count": null,
      "_view_module": "@jupyter-widgets/base",
      "_view_module_version": "1.2.0",
      "_view_name": "LayoutView",
      "align_content": null,
      "align_items": null,
      "align_self": null,
      "border": null,
      "bottom": null,
      "display": null,
      "flex": null,
      "flex_flow": null,
      "grid_area": null,
      "grid_auto_columns": null,
      "grid_auto_flow": null,
      "grid_auto_rows": null,
      "grid_column": null,
      "grid_gap": null,
      "grid_row": null,
      "grid_template_areas": null,
      "grid_template_columns": null,
      "grid_template_rows": null,
      "height": null,
      "justify_content": null,
      "justify_items": null,
      "left": null,
      "margin": null,
      "max_height": null,
      "max_width": null,
      "min_height": null,
      "min_width": null,
      "object_fit": null,
      "object_position": null,
      "order": null,
      "overflow": null,
      "overflow_x": null,
      "overflow_y": null,
      "padding": null,
      "right": null,
      "top": null,
      "visibility": null,
      "width": null
     }
    },
    "70b6173c7ce44a209a5803e0d2cc3cf4": {
     "model_module": "@jupyter-widgets/controls",
     "model_module_version": "1.5.0",
     "model_name": "DescriptionStyleModel",
     "state": {
      "_model_module": "@jupyter-widgets/controls",
      "_model_module_version": "1.5.0",
      "_model_name": "DescriptionStyleModel",
      "_view_count": null,
      "_view_module": "@jupyter-widgets/base",
      "_view_module_version": "1.2.0",
      "_view_name": "StyleView",
      "description_width": ""
     }
    },
    "780a64d99f8b447d9d28937daee07071": {
     "model_module": "@jupyter-widgets/controls",
     "model_module_version": "1.5.0",
     "model_name": "HTMLModel",
     "state": {
      "_dom_classes": [],
      "_model_module": "@jupyter-widgets/controls",
      "_model_module_version": "1.5.0",
      "_model_name": "HTMLModel",
      "_view_count": null,
      "_view_module": "@jupyter-widgets/controls",
      "_view_module_version": "1.5.0",
      "_view_name": "HTMLView",
      "description": "",
      "description_tooltip": null,
      "layout": "IPY_MODEL_e04f58708c7744fe98983a53a9900e9c",
      "placeholder": "​",
      "style": "IPY_MODEL_9d552c54844e4c81a390dfc67e65e93f",
      "value": " 0/2 [00:02&lt;?, ?it/s]"
     }
    },
    "7fa3b5bd8b77418da94bdae5294849df": {
     "model_module": "@jupyter-widgets/base",
     "model_module_version": "1.2.0",
     "model_name": "LayoutModel",
     "state": {
      "_model_module": "@jupyter-widgets/base",
      "_model_module_version": "1.2.0",
      "_model_name": "LayoutModel",
      "_view_count": null,
      "_view_module": "@jupyter-widgets/base",
      "_view_module_version": "1.2.0",
      "_view_name": "LayoutView",
      "align_content": null,
      "align_items": null,
      "align_self": null,
      "border": null,
      "bottom": null,
      "display": null,
      "flex": null,
      "flex_flow": null,
      "grid_area": null,
      "grid_auto_columns": null,
      "grid_auto_flow": null,
      "grid_auto_rows": null,
      "grid_column": null,
      "grid_gap": null,
      "grid_row": null,
      "grid_template_areas": null,
      "grid_template_columns": null,
      "grid_template_rows": null,
      "height": null,
      "justify_content": null,
      "justify_items": null,
      "left": null,
      "margin": null,
      "max_height": null,
      "max_width": null,
      "min_height": null,
      "min_width": null,
      "object_fit": null,
      "object_position": null,
      "order": null,
      "overflow": null,
      "overflow_x": null,
      "overflow_y": null,
      "padding": null,
      "right": null,
      "top": null,
      "visibility": null,
      "width": null
     }
    },
    "81cb5bbfeafc49f191b9adf9cd5eafdd": {
     "model_module": "@jupyter-widgets/base",
     "model_module_version": "1.2.0",
     "model_name": "LayoutModel",
     "state": {
      "_model_module": "@jupyter-widgets/base",
      "_model_module_version": "1.2.0",
      "_model_name": "LayoutModel",
      "_view_count": null,
      "_view_module": "@jupyter-widgets/base",
      "_view_module_version": "1.2.0",
      "_view_name": "LayoutView",
      "align_content": null,
      "align_items": null,
      "align_self": null,
      "border": null,
      "bottom": null,
      "display": "inline-flex",
      "flex": null,
      "flex_flow": "row wrap",
      "grid_area": null,
      "grid_auto_columns": null,
      "grid_auto_flow": null,
      "grid_auto_rows": null,
      "grid_column": null,
      "grid_gap": null,
      "grid_row": null,
      "grid_template_areas": null,
      "grid_template_columns": null,
      "grid_template_rows": null,
      "height": null,
      "justify_content": null,
      "justify_items": null,
      "left": null,
      "margin": null,
      "max_height": null,
      "max_width": null,
      "min_height": null,
      "min_width": null,
      "object_fit": null,
      "object_position": null,
      "order": null,
      "overflow": null,
      "overflow_x": null,
      "overflow_y": null,
      "padding": null,
      "right": null,
      "top": null,
      "visibility": null,
      "width": "100%"
     }
    },
    "8c25d4e4437c4527a78e4ea39271b178": {
     "model_module": "@jupyter-widgets/base",
     "model_module_version": "1.2.0",
     "model_name": "LayoutModel",
     "state": {
      "_model_module": "@jupyter-widgets/base",
      "_model_module_version": "1.2.0",
      "_model_name": "LayoutModel",
      "_view_count": null,
      "_view_module": "@jupyter-widgets/base",
      "_view_module_version": "1.2.0",
      "_view_name": "LayoutView",
      "align_content": null,
      "align_items": null,
      "align_self": null,
      "border": null,
      "bottom": null,
      "display": null,
      "flex": null,
      "flex_flow": null,
      "grid_area": null,
      "grid_auto_columns": null,
      "grid_auto_flow": null,
      "grid_auto_rows": null,
      "grid_column": null,
      "grid_gap": null,
      "grid_row": null,
      "grid_template_areas": null,
      "grid_template_columns": null,
      "grid_template_rows": null,
      "height": null,
      "justify_content": null,
      "justify_items": null,
      "left": null,
      "margin": null,
      "max_height": null,
      "max_width": null,
      "min_height": null,
      "min_width": null,
      "object_fit": null,
      "object_position": null,
      "order": null,
      "overflow": null,
      "overflow_x": null,
      "overflow_y": null,
      "padding": null,
      "right": null,
      "top": null,
      "visibility": null,
      "width": null
     }
    },
    "8f352f3905f64cb383865428f08e3a7b": {
     "model_module": "@jupyter-widgets/controls",
     "model_module_version": "1.5.0",
     "model_name": "HTMLModel",
     "state": {
      "_dom_classes": [],
      "_model_module": "@jupyter-widgets/controls",
      "_model_module_version": "1.5.0",
      "_model_name": "HTMLModel",
      "_view_count": null,
      "_view_module": "@jupyter-widgets/controls",
      "_view_module_version": "1.5.0",
      "_view_name": "HTMLView",
      "description": "",
      "description_tooltip": null,
      "layout": "IPY_MODEL_fdba80cdc590457d860ad298f033b7e2",
      "placeholder": "​",
      "style": "IPY_MODEL_e1388345820749d6a64976fc19f0886c",
      "value": " 332/332 [05:46&lt;00:00,  1.04s/it]"
     }
    },
    "913b64fd12b7422cb895fda0065a8261": {
     "model_module": "@jupyter-widgets/base",
     "model_module_version": "1.2.0",
     "model_name": "LayoutModel",
     "state": {
      "_model_module": "@jupyter-widgets/base",
      "_model_module_version": "1.2.0",
      "_model_name": "LayoutModel",
      "_view_count": null,
      "_view_module": "@jupyter-widgets/base",
      "_view_module_version": "1.2.0",
      "_view_name": "LayoutView",
      "align_content": null,
      "align_items": null,
      "align_self": null,
      "border": null,
      "bottom": null,
      "display": null,
      "flex": null,
      "flex_flow": null,
      "grid_area": null,
      "grid_auto_columns": null,
      "grid_auto_flow": null,
      "grid_auto_rows": null,
      "grid_column": null,
      "grid_gap": null,
      "grid_row": null,
      "grid_template_areas": null,
      "grid_template_columns": null,
      "grid_template_rows": null,
      "height": null,
      "justify_content": null,
      "justify_items": null,
      "left": null,
      "margin": null,
      "max_height": null,
      "max_width": null,
      "min_height": null,
      "min_width": null,
      "object_fit": null,
      "object_position": null,
      "order": null,
      "overflow": null,
      "overflow_x": null,
      "overflow_y": null,
      "padding": null,
      "right": null,
      "top": null,
      "visibility": null,
      "width": null
     }
    },
    "93307e063fc24a5ea126176a449f0c8b": {
     "model_module": "@jupyter-widgets/controls",
     "model_module_version": "1.5.0",
     "model_name": "DescriptionStyleModel",
     "state": {
      "_model_module": "@jupyter-widgets/controls",
      "_model_module_version": "1.5.0",
      "_model_name": "DescriptionStyleModel",
      "_view_count": null,
      "_view_module": "@jupyter-widgets/base",
      "_view_module_version": "1.2.0",
      "_view_name": "StyleView",
      "description_width": ""
     }
    },
    "93ab12b1299d4a69b39aa2a9feff94a2": {
     "model_module": "@jupyter-widgets/controls",
     "model_module_version": "1.5.0",
     "model_name": "HTMLModel",
     "state": {
      "_dom_classes": [],
      "_model_module": "@jupyter-widgets/controls",
      "_model_module_version": "1.5.0",
      "_model_name": "HTMLModel",
      "_view_count": null,
      "_view_module": "@jupyter-widgets/controls",
      "_view_module_version": "1.5.0",
      "_view_name": "HTMLView",
      "description": "",
      "description_tooltip": null,
      "layout": "IPY_MODEL_5061e965faaa4496b7272a72d345c31b",
      "placeholder": "​",
      "style": "IPY_MODEL_eaeff724fdf44b03b03de2cb7debdc0e",
      "value": " 362/362 [05:53&lt;00:00,  1.03it/s, loss=4.09, v_num=0, train_loss_step=3.670, val_loss=4.640, train_loss_epoch=7.410]"
     }
    },
    "9d552c54844e4c81a390dfc67e65e93f": {
     "model_module": "@jupyter-widgets/controls",
     "model_module_version": "1.5.0",
     "model_name": "DescriptionStyleModel",
     "state": {
      "_model_module": "@jupyter-widgets/controls",
      "_model_module_version": "1.5.0",
      "_model_name": "DescriptionStyleModel",
      "_view_count": null,
      "_view_module": "@jupyter-widgets/base",
      "_view_module_version": "1.2.0",
      "_view_name": "StyleView",
      "description_width": ""
     }
    },
    "9e29195f18354c2e9b5303e4c17375b5": {
     "model_module": "@jupyter-widgets/base",
     "model_module_version": "1.2.0",
     "model_name": "LayoutModel",
     "state": {
      "_model_module": "@jupyter-widgets/base",
      "_model_module_version": "1.2.0",
      "_model_name": "LayoutModel",
      "_view_count": null,
      "_view_module": "@jupyter-widgets/base",
      "_view_module_version": "1.2.0",
      "_view_name": "LayoutView",
      "align_content": null,
      "align_items": null,
      "align_self": null,
      "border": null,
      "bottom": null,
      "display": "inline-flex",
      "flex": null,
      "flex_flow": "row wrap",
      "grid_area": null,
      "grid_auto_columns": null,
      "grid_auto_flow": null,
      "grid_auto_rows": null,
      "grid_column": null,
      "grid_gap": null,
      "grid_row": null,
      "grid_template_areas": null,
      "grid_template_columns": null,
      "grid_template_rows": null,
      "height": null,
      "justify_content": null,
      "justify_items": null,
      "left": null,
      "margin": null,
      "max_height": null,
      "max_width": null,
      "min_height": null,
      "min_width": null,
      "object_fit": null,
      "object_position": null,
      "order": null,
      "overflow": null,
      "overflow_x": null,
      "overflow_y": null,
      "padding": null,
      "right": null,
      "top": null,
      "visibility": null,
      "width": "100%"
     }
    },
    "a6da46371e7e4b65bd01879b2814ebbe": {
     "model_module": "@jupyter-widgets/base",
     "model_module_version": "1.2.0",
     "model_name": "LayoutModel",
     "state": {
      "_model_module": "@jupyter-widgets/base",
      "_model_module_version": "1.2.0",
      "_model_name": "LayoutModel",
      "_view_count": null,
      "_view_module": "@jupyter-widgets/base",
      "_view_module_version": "1.2.0",
      "_view_name": "LayoutView",
      "align_content": null,
      "align_items": null,
      "align_self": null,
      "border": null,
      "bottom": null,
      "display": null,
      "flex": null,
      "flex_flow": null,
      "grid_area": null,
      "grid_auto_columns": null,
      "grid_auto_flow": null,
      "grid_auto_rows": null,
      "grid_column": null,
      "grid_gap": null,
      "grid_row": null,
      "grid_template_areas": null,
      "grid_template_columns": null,
      "grid_template_rows": null,
      "height": null,
      "justify_content": null,
      "justify_items": null,
      "left": null,
      "margin": null,
      "max_height": null,
      "max_width": null,
      "min_height": null,
      "min_width": null,
      "object_fit": null,
      "object_position": null,
      "order": null,
      "overflow": null,
      "overflow_x": null,
      "overflow_y": null,
      "padding": null,
      "right": null,
      "top": null,
      "visibility": null,
      "width": null
     }
    },
    "a7c290131b7b47478feeff4ce9779b85": {
     "model_module": "@jupyter-widgets/controls",
     "model_module_version": "1.5.0",
     "model_name": "HTMLModel",
     "state": {
      "_dom_classes": [],
      "_model_module": "@jupyter-widgets/controls",
      "_model_module_version": "1.5.0",
      "_model_name": "HTMLModel",
      "_view_count": null,
      "_view_module": "@jupyter-widgets/controls",
      "_view_module_version": "1.5.0",
      "_view_name": "HTMLView",
      "description": "",
      "description_tooltip": null,
      "layout": "IPY_MODEL_279bfca03d0b4421bd214b89d76f52ce",
      "placeholder": "​",
      "style": "IPY_MODEL_461376203e164fb6814450255f4c87bc",
      "value": "Epoch 1: 100%"
     }
    },
    "a966b2fca594482f85701ad33c74f238": {
     "model_module": "@jupyter-widgets/base",
     "model_module_version": "1.2.0",
     "model_name": "LayoutModel",
     "state": {
      "_model_module": "@jupyter-widgets/base",
      "_model_module_version": "1.2.0",
      "_model_name": "LayoutModel",
      "_view_count": null,
      "_view_module": "@jupyter-widgets/base",
      "_view_module_version": "1.2.0",
      "_view_name": "LayoutView",
      "align_content": null,
      "align_items": null,
      "align_self": null,
      "border": null,
      "bottom": null,
      "display": "inline-flex",
      "flex": null,
      "flex_flow": "row wrap",
      "grid_area": null,
      "grid_auto_columns": null,
      "grid_auto_flow": null,
      "grid_auto_rows": null,
      "grid_column": null,
      "grid_gap": null,
      "grid_row": null,
      "grid_template_areas": null,
      "grid_template_columns": null,
      "grid_template_rows": null,
      "height": null,
      "justify_content": null,
      "justify_items": null,
      "left": null,
      "margin": null,
      "max_height": null,
      "max_width": null,
      "min_height": null,
      "min_width": null,
      "object_fit": null,
      "object_position": null,
      "order": null,
      "overflow": null,
      "overflow_x": null,
      "overflow_y": null,
      "padding": null,
      "right": null,
      "top": null,
      "visibility": null,
      "width": "100%"
     }
    },
    "ab24c287e6c1431d834f18458cce03e5": {
     "model_module": "@jupyter-widgets/base",
     "model_module_version": "1.2.0",
     "model_name": "LayoutModel",
     "state": {
      "_model_module": "@jupyter-widgets/base",
      "_model_module_version": "1.2.0",
      "_model_name": "LayoutModel",
      "_view_count": null,
      "_view_module": "@jupyter-widgets/base",
      "_view_module_version": "1.2.0",
      "_view_name": "LayoutView",
      "align_content": null,
      "align_items": null,
      "align_self": null,
      "border": null,
      "bottom": null,
      "display": null,
      "flex": "2",
      "flex_flow": null,
      "grid_area": null,
      "grid_auto_columns": null,
      "grid_auto_flow": null,
      "grid_auto_rows": null,
      "grid_column": null,
      "grid_gap": null,
      "grid_row": null,
      "grid_template_areas": null,
      "grid_template_columns": null,
      "grid_template_rows": null,
      "height": null,
      "justify_content": null,
      "justify_items": null,
      "left": null,
      "margin": null,
      "max_height": null,
      "max_width": null,
      "min_height": null,
      "min_width": null,
      "object_fit": null,
      "object_position": null,
      "order": null,
      "overflow": null,
      "overflow_x": null,
      "overflow_y": null,
      "padding": null,
      "right": null,
      "top": null,
      "visibility": null,
      "width": null
     }
    },
    "ac920e26ee784dff86d98c13a1c6991c": {
     "model_module": "@jupyter-widgets/controls",
     "model_module_version": "1.5.0",
     "model_name": "HBoxModel",
     "state": {
      "_dom_classes": [],
      "_model_module": "@jupyter-widgets/controls",
      "_model_module_version": "1.5.0",
      "_model_name": "HBoxModel",
      "_view_count": null,
      "_view_module": "@jupyter-widgets/controls",
      "_view_module_version": "1.5.0",
      "_view_name": "HBoxView",
      "box_style": "",
      "children": [
       "IPY_MODEL_ce20457b5a4946408741afe99c592339",
       "IPY_MODEL_f36927fa66a04d598add640a67163995",
       "IPY_MODEL_780a64d99f8b447d9d28937daee07071"
      ],
      "layout": "IPY_MODEL_a966b2fca594482f85701ad33c74f238"
     }
    },
    "b02930158d6447e68574af6d6b130610": {
     "model_module": "@jupyter-widgets/base",
     "model_module_version": "1.2.0",
     "model_name": "LayoutModel",
     "state": {
      "_model_module": "@jupyter-widgets/base",
      "_model_module_version": "1.2.0",
      "_model_name": "LayoutModel",
      "_view_count": null,
      "_view_module": "@jupyter-widgets/base",
      "_view_module_version": "1.2.0",
      "_view_name": "LayoutView",
      "align_content": null,
      "align_items": null,
      "align_self": null,
      "border": null,
      "bottom": null,
      "display": null,
      "flex": null,
      "flex_flow": null,
      "grid_area": null,
      "grid_auto_columns": null,
      "grid_auto_flow": null,
      "grid_auto_rows": null,
      "grid_column": null,
      "grid_gap": null,
      "grid_row": null,
      "grid_template_areas": null,
      "grid_template_columns": null,
      "grid_template_rows": null,
      "height": null,
      "justify_content": null,
      "justify_items": null,
      "left": null,
      "margin": null,
      "max_height": null,
      "max_width": null,
      "min_height": null,
      "min_width": null,
      "object_fit": null,
      "object_position": null,
      "order": null,
      "overflow": null,
      "overflow_x": null,
      "overflow_y": null,
      "padding": null,
      "right": null,
      "top": null,
      "visibility": null,
      "width": null
     }
    },
    "b0c7426793ff47f6bebcd1b1aa7eaff6": {
     "model_module": "@jupyter-widgets/controls",
     "model_module_version": "1.5.0",
     "model_name": "ProgressStyleModel",
     "state": {
      "_model_module": "@jupyter-widgets/controls",
      "_model_module_version": "1.5.0",
      "_model_name": "ProgressStyleModel",
      "_view_count": null,
      "_view_module": "@jupyter-widgets/base",
      "_view_module_version": "1.2.0",
      "_view_name": "StyleView",
      "bar_color": null,
      "description_width": ""
     }
    },
    "b291342ab9e74715aa25a7ee427a7b4d": {
     "model_module": "@jupyter-widgets/controls",
     "model_module_version": "1.5.0",
     "model_name": "HTMLModel",
     "state": {
      "_dom_classes": [],
      "_model_module": "@jupyter-widgets/controls",
      "_model_module_version": "1.5.0",
      "_model_name": "HTMLModel",
      "_view_count": null,
      "_view_module": "@jupyter-widgets/controls",
      "_view_module_version": "1.5.0",
      "_view_name": "HTMLView",
      "description": "",
      "description_tooltip": null,
      "layout": "IPY_MODEL_8c25d4e4437c4527a78e4ea39271b178",
      "placeholder": "​",
      "style": "IPY_MODEL_b99311bb07c24464ac0a03a6b76da49d",
      "value": "Finding best initial lr: 100%"
     }
    },
    "b99311bb07c24464ac0a03a6b76da49d": {
     "model_module": "@jupyter-widgets/controls",
     "model_module_version": "1.5.0",
     "model_name": "DescriptionStyleModel",
     "state": {
      "_model_module": "@jupyter-widgets/controls",
      "_model_module_version": "1.5.0",
      "_model_name": "DescriptionStyleModel",
      "_view_count": null,
      "_view_module": "@jupyter-widgets/base",
      "_view_module_version": "1.2.0",
      "_view_name": "StyleView",
      "description_width": ""
     }
    },
    "c062db98d97e44a490253a1ca162d2ac": {
     "model_module": "@jupyter-widgets/controls",
     "model_module_version": "1.5.0",
     "model_name": "HTMLModel",
     "state": {
      "_dom_classes": [],
      "_model_module": "@jupyter-widgets/controls",
      "_model_module_version": "1.5.0",
      "_model_name": "HTMLModel",
      "_view_count": null,
      "_view_module": "@jupyter-widgets/controls",
      "_view_module_version": "1.5.0",
      "_view_name": "HTMLView",
      "description": "",
      "description_tooltip": null,
      "layout": "IPY_MODEL_53ae95f4efe940eda09f9f2d09e3d671",
      "placeholder": "​",
      "style": "IPY_MODEL_1f60531ebb814fb788b9588c4e5e82b5",
      "value": " 100/100 [01:17&lt;00:00,  5.39it/s]"
     }
    },
    "c720fb0fad8b4f268e6a2d2b3b5d9e77": {
     "model_module": "@jupyter-widgets/controls",
     "model_module_version": "1.5.0",
     "model_name": "FloatProgressModel",
     "state": {
      "_dom_classes": [],
      "_model_module": "@jupyter-widgets/controls",
      "_model_module_version": "1.5.0",
      "_model_name": "FloatProgressModel",
      "_view_count": null,
      "_view_module": "@jupyter-widgets/controls",
      "_view_module_version": "1.5.0",
      "_view_name": "ProgressView",
      "bar_style": "",
      "description": "",
      "description_tooltip": null,
      "layout": "IPY_MODEL_4acb3d90b7cd4585935cd780c8ca64df",
      "max": 332,
      "min": 0,
      "orientation": "horizontal",
      "style": "IPY_MODEL_b0c7426793ff47f6bebcd1b1aa7eaff6",
      "value": 332
     }
    },
    "ca38ce7e891246668a5f47151a3db3ab": {
     "model_module": "@jupyter-widgets/controls",
     "model_module_version": "1.5.0",
     "model_name": "HTMLModel",
     "state": {
      "_dom_classes": [],
      "_model_module": "@jupyter-widgets/controls",
      "_model_module_version": "1.5.0",
      "_model_name": "HTMLModel",
      "_view_count": null,
      "_view_module": "@jupyter-widgets/controls",
      "_view_module_version": "1.5.0",
      "_view_name": "HTMLView",
      "description": "",
      "description_tooltip": null,
      "layout": "IPY_MODEL_913b64fd12b7422cb895fda0065a8261",
      "placeholder": "​",
      "style": "IPY_MODEL_f5c3b985050d410d97099a4654e367b5",
      "value": "Validating: 100%"
     }
    },
    "cc580b830a634f428ef54be6f5770748": {
     "model_module": "@jupyter-widgets/controls",
     "model_module_version": "1.5.0",
     "model_name": "FloatProgressModel",
     "state": {
      "_dom_classes": [],
      "_model_module": "@jupyter-widgets/controls",
      "_model_module_version": "1.5.0",
      "_model_name": "FloatProgressModel",
      "_view_count": null,
      "_view_module": "@jupyter-widgets/controls",
      "_view_module_version": "1.5.0",
      "_view_name": "ProgressView",
      "bar_style": "success",
      "description": "",
      "description_tooltip": null,
      "layout": "IPY_MODEL_e6aa994f2ffb428aa6c0d5d038497ebc",
      "max": 100,
      "min": 0,
      "orientation": "horizontal",
      "style": "IPY_MODEL_502f31d0f771409d9f1e9d03971ac4ad",
      "value": 100
     }
    },
    "ce20457b5a4946408741afe99c592339": {
     "model_module": "@jupyter-widgets/controls",
     "model_module_version": "1.5.0",
     "model_name": "HTMLModel",
     "state": {
      "_dom_classes": [],
      "_model_module": "@jupyter-widgets/controls",
      "_model_module_version": "1.5.0",
      "_model_name": "HTMLModel",
      "_view_count": null,
      "_view_module": "@jupyter-widgets/controls",
      "_view_module_version": "1.5.0",
      "_view_name": "HTMLView",
      "description": "",
      "description_tooltip": null,
      "layout": "IPY_MODEL_ef8d4a3855ce43688cf3c10fb36bba83",
      "placeholder": "​",
      "style": "IPY_MODEL_93307e063fc24a5ea126176a449f0c8b",
      "value": "Validation sanity check:   0%"
     }
    },
    "d6bf6a46cccd4a5f9abf893633f63f73": {
     "model_module": "@jupyter-widgets/base",
     "model_module_version": "1.2.0",
     "model_name": "LayoutModel",
     "state": {
      "_model_module": "@jupyter-widgets/base",
      "_model_module_version": "1.2.0",
      "_model_name": "LayoutModel",
      "_view_count": null,
      "_view_module": "@jupyter-widgets/base",
      "_view_module_version": "1.2.0",
      "_view_name": "LayoutView",
      "align_content": null,
      "align_items": null,
      "align_self": null,
      "border": null,
      "bottom": null,
      "display": "inline-flex",
      "flex": null,
      "flex_flow": "row wrap",
      "grid_area": null,
      "grid_auto_columns": null,
      "grid_auto_flow": null,
      "grid_auto_rows": null,
      "grid_column": null,
      "grid_gap": null,
      "grid_row": null,
      "grid_template_areas": null,
      "grid_template_columns": null,
      "grid_template_rows": null,
      "height": null,
      "justify_content": null,
      "justify_items": null,
      "left": null,
      "margin": null,
      "max_height": null,
      "max_width": null,
      "min_height": null,
      "min_width": null,
      "object_fit": null,
      "object_position": null,
      "order": null,
      "overflow": null,
      "overflow_x": null,
      "overflow_y": null,
      "padding": null,
      "right": null,
      "top": null,
      "visibility": null,
      "width": "100%"
     }
    },
    "dc30d96d0de74b79baa5ae82b8edff2f": {
     "model_module": "@jupyter-widgets/controls",
     "model_module_version": "1.5.0",
     "model_name": "HBoxModel",
     "state": {
      "_dom_classes": [],
      "_model_module": "@jupyter-widgets/controls",
      "_model_module_version": "1.5.0",
      "_model_name": "HBoxModel",
      "_view_count": null,
      "_view_module": "@jupyter-widgets/controls",
      "_view_module_version": "1.5.0",
      "_view_name": "HBoxView",
      "box_style": "",
      "children": [
       "IPY_MODEL_b291342ab9e74715aa25a7ee427a7b4d",
       "IPY_MODEL_cc580b830a634f428ef54be6f5770748",
       "IPY_MODEL_c062db98d97e44a490253a1ca162d2ac"
      ],
      "layout": "IPY_MODEL_b02930158d6447e68574af6d6b130610"
     }
    },
    "dea0d0da5ad143ba884853c91354d039": {
     "model_module": "@jupyter-widgets/controls",
     "model_module_version": "1.5.0",
     "model_name": "HBoxModel",
     "state": {
      "_dom_classes": [],
      "_model_module": "@jupyter-widgets/controls",
      "_model_module_version": "1.5.0",
      "_model_name": "HBoxModel",
      "_view_count": null,
      "_view_module": "@jupyter-widgets/controls",
      "_view_module_version": "1.5.0",
      "_view_name": "HBoxView",
      "box_style": "",
      "children": [
       "IPY_MODEL_a7c290131b7b47478feeff4ce9779b85",
       "IPY_MODEL_1ad97499df594c19a51492a970b487da",
       "IPY_MODEL_93ab12b1299d4a69b39aa2a9feff94a2"
      ],
      "layout": "IPY_MODEL_9e29195f18354c2e9b5303e4c17375b5"
     }
    },
    "e04f58708c7744fe98983a53a9900e9c": {
     "model_module": "@jupyter-widgets/base",
     "model_module_version": "1.2.0",
     "model_name": "LayoutModel",
     "state": {
      "_model_module": "@jupyter-widgets/base",
      "_model_module_version": "1.2.0",
      "_model_name": "LayoutModel",
      "_view_count": null,
      "_view_module": "@jupyter-widgets/base",
      "_view_module_version": "1.2.0",
      "_view_name": "LayoutView",
      "align_content": null,
      "align_items": null,
      "align_self": null,
      "border": null,
      "bottom": null,
      "display": null,
      "flex": null,
      "flex_flow": null,
      "grid_area": null,
      "grid_auto_columns": null,
      "grid_auto_flow": null,
      "grid_auto_rows": null,
      "grid_column": null,
      "grid_gap": null,
      "grid_row": null,
      "grid_template_areas": null,
      "grid_template_columns": null,
      "grid_template_rows": null,
      "height": null,
      "justify_content": null,
      "justify_items": null,
      "left": null,
      "margin": null,
      "max_height": null,
      "max_width": null,
      "min_height": null,
      "min_width": null,
      "object_fit": null,
      "object_position": null,
      "order": null,
      "overflow": null,
      "overflow_x": null,
      "overflow_y": null,
      "padding": null,
      "right": null,
      "top": null,
      "visibility": null,
      "width": null
     }
    },
    "e1388345820749d6a64976fc19f0886c": {
     "model_module": "@jupyter-widgets/controls",
     "model_module_version": "1.5.0",
     "model_name": "DescriptionStyleModel",
     "state": {
      "_model_module": "@jupyter-widgets/controls",
      "_model_module_version": "1.5.0",
      "_model_name": "DescriptionStyleModel",
      "_view_count": null,
      "_view_module": "@jupyter-widgets/base",
      "_view_module_version": "1.2.0",
      "_view_name": "StyleView",
      "description_width": ""
     }
    },
    "e6aa994f2ffb428aa6c0d5d038497ebc": {
     "model_module": "@jupyter-widgets/base",
     "model_module_version": "1.2.0",
     "model_name": "LayoutModel",
     "state": {
      "_model_module": "@jupyter-widgets/base",
      "_model_module_version": "1.2.0",
      "_model_name": "LayoutModel",
      "_view_count": null,
      "_view_module": "@jupyter-widgets/base",
      "_view_module_version": "1.2.0",
      "_view_name": "LayoutView",
      "align_content": null,
      "align_items": null,
      "align_self": null,
      "border": null,
      "bottom": null,
      "display": null,
      "flex": null,
      "flex_flow": null,
      "grid_area": null,
      "grid_auto_columns": null,
      "grid_auto_flow": null,
      "grid_auto_rows": null,
      "grid_column": null,
      "grid_gap": null,
      "grid_row": null,
      "grid_template_areas": null,
      "grid_template_columns": null,
      "grid_template_rows": null,
      "height": null,
      "justify_content": null,
      "justify_items": null,
      "left": null,
      "margin": null,
      "max_height": null,
      "max_width": null,
      "min_height": null,
      "min_width": null,
      "object_fit": null,
      "object_position": null,
      "order": null,
      "overflow": null,
      "overflow_x": null,
      "overflow_y": null,
      "padding": null,
      "right": null,
      "top": null,
      "visibility": null,
      "width": null
     }
    },
    "eaeff724fdf44b03b03de2cb7debdc0e": {
     "model_module": "@jupyter-widgets/controls",
     "model_module_version": "1.5.0",
     "model_name": "DescriptionStyleModel",
     "state": {
      "_model_module": "@jupyter-widgets/controls",
      "_model_module_version": "1.5.0",
      "_model_name": "DescriptionStyleModel",
      "_view_count": null,
      "_view_module": "@jupyter-widgets/base",
      "_view_module_version": "1.2.0",
      "_view_name": "StyleView",
      "description_width": ""
     }
    },
    "ef8d4a3855ce43688cf3c10fb36bba83": {
     "model_module": "@jupyter-widgets/base",
     "model_module_version": "1.2.0",
     "model_name": "LayoutModel",
     "state": {
      "_model_module": "@jupyter-widgets/base",
      "_model_module_version": "1.2.0",
      "_model_name": "LayoutModel",
      "_view_count": null,
      "_view_module": "@jupyter-widgets/base",
      "_view_module_version": "1.2.0",
      "_view_name": "LayoutView",
      "align_content": null,
      "align_items": null,
      "align_self": null,
      "border": null,
      "bottom": null,
      "display": null,
      "flex": null,
      "flex_flow": null,
      "grid_area": null,
      "grid_auto_columns": null,
      "grid_auto_flow": null,
      "grid_auto_rows": null,
      "grid_column": null,
      "grid_gap": null,
      "grid_row": null,
      "grid_template_areas": null,
      "grid_template_columns": null,
      "grid_template_rows": null,
      "height": null,
      "justify_content": null,
      "justify_items": null,
      "left": null,
      "margin": null,
      "max_height": null,
      "max_width": null,
      "min_height": null,
      "min_width": null,
      "object_fit": null,
      "object_position": null,
      "order": null,
      "overflow": null,
      "overflow_x": null,
      "overflow_y": null,
      "padding": null,
      "right": null,
      "top": null,
      "visibility": null,
      "width": null
     }
    },
    "f118c3b5c8cb443998c1660f711a31a6": {
     "model_module": "@jupyter-widgets/controls",
     "model_module_version": "1.5.0",
     "model_name": "DescriptionStyleModel",
     "state": {
      "_model_module": "@jupyter-widgets/controls",
      "_model_module_version": "1.5.0",
      "_model_name": "DescriptionStyleModel",
      "_view_count": null,
      "_view_module": "@jupyter-widgets/base",
      "_view_module_version": "1.2.0",
      "_view_name": "StyleView",
      "description_width": ""
     }
    },
    "f36927fa66a04d598add640a67163995": {
     "model_module": "@jupyter-widgets/controls",
     "model_module_version": "1.5.0",
     "model_name": "FloatProgressModel",
     "state": {
      "_dom_classes": [],
      "_model_module": "@jupyter-widgets/controls",
      "_model_module_version": "1.5.0",
      "_model_name": "FloatProgressModel",
      "_view_count": null,
      "_view_module": "@jupyter-widgets/controls",
      "_view_module_version": "1.5.0",
      "_view_name": "ProgressView",
      "bar_style": "danger",
      "description": "",
      "description_tooltip": null,
      "layout": "IPY_MODEL_23202585bb5d49ecadba65aacd8c2966",
      "max": 2,
      "min": 0,
      "orientation": "horizontal",
      "style": "IPY_MODEL_126c0cb86b8b45c580e4238b2812027b",
      "value": 0
     }
    },
    "f5c3b985050d410d97099a4654e367b5": {
     "model_module": "@jupyter-widgets/controls",
     "model_module_version": "1.5.0",
     "model_name": "DescriptionStyleModel",
     "state": {
      "_model_module": "@jupyter-widgets/controls",
      "_model_module_version": "1.5.0",
      "_model_name": "DescriptionStyleModel",
      "_view_count": null,
      "_view_module": "@jupyter-widgets/base",
      "_view_module_version": "1.2.0",
      "_view_name": "StyleView",
      "description_width": ""
     }
    },
    "fdba80cdc590457d860ad298f033b7e2": {
     "model_module": "@jupyter-widgets/base",
     "model_module_version": "1.2.0",
     "model_name": "LayoutModel",
     "state": {
      "_model_module": "@jupyter-widgets/base",
      "_model_module_version": "1.2.0",
      "_model_name": "LayoutModel",
      "_view_count": null,
      "_view_module": "@jupyter-widgets/base",
      "_view_module_version": "1.2.0",
      "_view_name": "LayoutView",
      "align_content": null,
      "align_items": null,
      "align_self": null,
      "border": null,
      "bottom": null,
      "display": null,
      "flex": null,
      "flex_flow": null,
      "grid_area": null,
      "grid_auto_columns": null,
      "grid_auto_flow": null,
      "grid_auto_rows": null,
      "grid_column": null,
      "grid_gap": null,
      "grid_row": null,
      "grid_template_areas": null,
      "grid_template_columns": null,
      "grid_template_rows": null,
      "height": null,
      "justify_content": null,
      "justify_items": null,
      "left": null,
      "margin": null,
      "max_height": null,
      "max_width": null,
      "min_height": null,
      "min_width": null,
      "object_fit": null,
      "object_position": null,
      "order": null,
      "overflow": null,
      "overflow_x": null,
      "overflow_y": null,
      "padding": null,
      "right": null,
      "top": null,
      "visibility": null,
      "width": null
     }
    }
   }
  }
 },
 "nbformat": 4,
 "nbformat_minor": 5
}
