{
 "cells": [
  {
   "cell_type": "code",
   "execution_count": 46,
   "id": "2e6610c7",
   "metadata": {},
   "outputs": [],
   "source": [
    "from sklearn import linear_model\n",
    "import numpy as np\n",
    "from sklearn.linear_model import Lasso\n",
    "from sklearn.model_selection import GridSearchCV"
   ]
  },
  {
   "cell_type": "code",
   "execution_count": 41,
   "id": "8e3101d7",
   "metadata": {},
   "outputs": [],
   "source": [
    "X = [[0,1,40], [0,2,42], [65,0,27], [78,5,31], [55,2,40], [0,0,55], [85,10,25], [50,3,50], [70,5,28]]\n",
    "y = [2,3,3,5,6,8,8,10,15]\n",
    "w1 = [[0.04, 0.4, 0.1]]\n",
    "X = np.asarray(X)\n",
    "y = np.asarray(y)\n",
    "w1 = np.asarray(w1)"
   ]
  },
  {
   "cell_type": "code",
   "execution_count": 47,
   "id": "28124e2f",
   "metadata": {},
   "outputs": [
    {
     "data": {
      "text/plain": [
       "GridSearchCV(cv=3, estimator=Lasso(),\n",
       "             param_grid={'alpha': [0.001, 0.01, 0.1, 0.5, 1]},\n",
       "             scoring='neg_mean_squared_error')"
      ]
     },
     "execution_count": 47,
     "metadata": {},
     "output_type": "execute_result"
    }
   ],
   "source": [
    "lasso = Lasso()\n",
    "parameters = {'alpha': [0.001, 0.01, 0.1, 0.5, 1]}\n",
    "lassoReg = GridSearchCV(lasso,parameters, scoring='neg_mean_squared_error', cv=3)\n",
    "lassoReg.fit(X, y)"
   ]
  },
  {
   "cell_type": "code",
   "execution_count": null,
   "id": "987b9e0c",
   "metadata": {},
   "outputs": [],
   "source": []
  },
  {
   "cell_type": "code",
   "execution_count": null,
   "id": "4a920002",
   "metadata": {},
   "outputs": [],
   "source": []
  },
  {
   "cell_type": "code",
   "execution_count": 42,
   "id": "83769c70",
   "metadata": {},
   "outputs": [],
   "source": [
    "clf = linear_model.Lasso(alpha=0.1, precompute = np.array(w1), fit_intercept= False)"
   ]
  },
  {
   "cell_type": "code",
   "execution_count": 43,
   "id": "11918efb",
   "metadata": {},
   "outputs": [
    {
     "data": {
      "text/plain": [
       "Lasso(alpha=0.1, fit_intercept=False, precompute=array([[0.04, 0.4 , 0.1 ]]))"
      ]
     },
     "execution_count": 43,
     "metadata": {},
     "output_type": "execute_result"
    }
   ],
   "source": [
    "clf.fit(X, y)"
   ]
  },
  {
   "cell_type": "code",
   "execution_count": 45,
   "id": "b9dc219c",
   "metadata": {},
   "outputs": [
    {
     "data": {
      "text/plain": [
       "<bound method BaseEstimator.get_params of Lasso(alpha=0.1, fit_intercept=False, precompute=array([[0.04, 0.4 , 0.1 ]]))>"
      ]
     },
     "execution_count": 45,
     "metadata": {},
     "output_type": "execute_result"
    }
   ],
   "source": [
    "clf.score()"
   ]
  },
  {
   "cell_type": "code",
   "execution_count": null,
   "id": "00d8134d",
   "metadata": {},
   "outputs": [],
   "source": []
  }
 ],
 "metadata": {
  "kernelspec": {
   "display_name": "Python 3 (ipykernel)",
   "language": "python",
   "name": "python3"
  },
  "language_info": {
   "codemirror_mode": {
    "name": "ipython",
    "version": 3
   },
   "file_extension": ".py",
   "mimetype": "text/x-python",
   "name": "python",
   "nbconvert_exporter": "python",
   "pygments_lexer": "ipython3",
   "version": "3.8.11"
  }
 },
 "nbformat": 4,
 "nbformat_minor": 5
}
